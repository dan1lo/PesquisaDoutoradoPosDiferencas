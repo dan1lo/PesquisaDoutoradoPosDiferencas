{
 "cells": [
  {
   "cell_type": "markdown",
   "source": [
    "Perguntas de pesquisa que irão guiar essa investigação\n",
    "\n",
    "Será que existem diferenças entre os níveis de adaptação, satisfação e burnout entre homens e mulheres?\n",
    "Será que existem diferenças entre os níveis de adaptação, satisfação e burnout entre os níveis e formação ?\n",
    "Será que existem diferenças entre os níveis de adaptação, satisfação e burnout entre pessoas mais e menos experientes ?\n",
    "Será que existem diferenças enrtre os níveis de adaptação, satisfação e burnout entre pessoas mais velhas e mais novas?\n",
    "Será que existem diferenças entre os níveis de adaptação, satisfação e burnout e as funções realizadas nos projetos?"
   ],
   "metadata": {
    "collapsed": false,
    "pycharm": {
     "name": "#%% md\n"
    }
   }
  },
  {
   "cell_type": "code",
   "execution_count": 30,
   "source": [
    "import matplotlib.pyplot as plt\r\n",
    "import pandas as pd\r\n",
    "from scipy.stats import mannwhitneyu\r\n",
    "from scipy.stats import shapiro\r\n",
    "from scipy.stats import ttest_ind\r\n",
    "#import matplotlib.pyplot as plt\r\n",
    "import seaborn as sns\r\n",
    "#dados = pd.read_excel('/home/danilo/Documentos/GitHub/PesquisaIdade/data/idade.xlsx')\r\n",
    "dados = pd.read_excel(r'C:\\Users\\danilo.ribeiro\\Documents\\GitHub\\PesquisaDoutoradoPosDiferencas\\data\\idade.xlsx')\r\n",
    "dados.head()\r\n",
    "dados.columns\r\n"
   ],
   "outputs": [
    {
     "output_type": "execute_result",
     "data": {
      "text/plain": [
       "Index(['sexo', 'idade', 'formacao', 'curso', 'anoFormacao',\n",
       "       'tempoProfissional', 'tempoFuncao', 'funcao', 'metodologia',\n",
       "       'existenciaProjeto', 'mesesNoProjeto',\n",
       "       '@12.Emrelaçãoassuascaracterísticasporfavorresponda', 'S1', 'S2', 'S3',\n",
       "       'C2', 'C3', 'C4', 'C1', 'EM4', 'EM1', 'EM3', 'EM2', 'T3', 'T1', 'T4',\n",
       "       'T2', 'I2', 'I1', 'I4', 'I3',\n",
       "       '@13.Pararesponderasquestõesabaixoconsidereseuprojetoatua', 'equipe1',\n",
       "       'reque1', 'reque2', 'reque3', 'tec1', 'req4', 'tec2', 'tec3', 'tec4',\n",
       "       'req5', 'equipe2', 'equipe3', 'req6', 'tec5', 'tec6', 'req7', 'equipe4',\n",
       "       '@14.Emrelaçãoaoseudiaadiadotrabalho', 'ci2', 'et6', 'ci3', 'satXet6',\n",
       "       'ee6', 'ee2', 'et5', 'ci1', 'et4', 'ee1', 'et1', 'et2', 'et3', 'ee3',\n",
       "       'ci4', 'ee5', '@15.Emrelaçãoasuasatisfaçãocomotrabalho', 'sat1',\n",
       "       'sat2'],\n",
       "      dtype='object')"
      ]
     },
     "metadata": {},
     "execution_count": 30
    }
   ],
   "metadata": {
    "collapsed": false,
    "pycharm": {
     "name": "#%%\n"
    }
   }
  },
  {
   "cell_type": "code",
   "execution_count": 31,
   "source": [
    "\r\n",
    "dados['Gerenciamento_Stress'] = (dados['S1']+dados['S2']+dados['S3'])\r\n",
    "dados['Resolucao_Problemas'] = (dados['C1']+dados['C2']+dados['C3']+dados['C4'])\r\n",
    "dados['Gerenciamento_Emergencia'] = (dados['EM1']+dados['EM2']+dados['EM3'])\r\n",
    "dados['Aprendizado'] = (dados['T1']+dados['T2']+dados['T3']+dados['T4'])\r\n",
    "dados['Interpersoal'] = (dados['I1']+dados['I2']+dados['I3']+dados['I4'])\r\n",
    "dados['satisfacao']= (dados['sat1']+dados['sat2']+dados['satXet6'])\r\n",
    "dados['Burnout_cinismo'] = (dados['ci1']+dados['ci2']+dados['ci3']+dados['ci4'])\r\n",
    "dados['Burnout_exaustao'] = (dados['ee1']+dados['ee2']+dados['ee3']+dados['ee5']+dados['ee6'])\r\n",
    "dados['Burnout_eficacia'] = (dados['et1']+dados['et2']+dados['et3']+dados['et4']+dados['et5']+dados['satXet6'])\r\n",
    "dados['instabilidade_equipe'] = (dados['equipe1']+dados['equipe2']+dados['equipe3']+dados['equipe4'])\r\n",
    "dados['instabilidade_tecnica'] = (dados['tec1']+dados['tec2']+dados['tec3']+dados['tec4'])\r\n",
    "dados['instabilidade_tarefa'] = (dados['reque1']+dados['reque2']+dados['reque3']+dados['req4']+dados['req5']+dados['req6']+dados['req7'])\r\n",
    "\r\n",
    "dados.columns\r\n",
    "\r\n",
    "labels = ['@12.Emrelaçãoassuascaracterísticasporfavorresponda', 'S1', 'S2', 'S3',\r\n",
    "          'C2', 'C3', 'C4', 'C1', 'EM4', 'EM1', 'EM3', 'EM2', 'T3', 'T1', 'T4',\r\n",
    "          'T2', 'I2', 'I1', 'I4', 'I3',\r\n",
    "          '@13.Pararesponderasquestõesabaixoconsidereseuprojetoatua', 'equipe1',\r\n",
    "          'reque1', 'reque2', 'reque3', 'tec1', 'req4', 'tec2', 'tec3', 'tec4',\r\n",
    "          'req5', 'equipe2', 'equipe3', 'req6', 'tec5', 'tec6', 'req7', 'equipe4',\r\n",
    "          '@14.Emrelaçãoaoseudiaadiadotrabalho', 'ci2', 'et6', 'ci3', 'satXet6',\r\n",
    "          'ee6', 'ee2', 'et5', 'ci1', 'et4', 'ee1', 'et1', 'et2', 'et3', 'ee3',\r\n",
    "          'ci4', 'ee5', '@15.Emrelaçãoasuasatisfaçãocomotrabalho', 'sat1', 'sat2']\r\n",
    "dados.drop(columns = labels, inplace=True)\r\n",
    "dados.columns\r\n",
    "dados.corr(method='spearman')"
   ],
   "outputs": [
    {
     "output_type": "execute_result",
     "data": {
      "text/html": [
       "<div>\n",
       "<style scoped>\n",
       "    .dataframe tbody tr th:only-of-type {\n",
       "        vertical-align: middle;\n",
       "    }\n",
       "\n",
       "    .dataframe tbody tr th {\n",
       "        vertical-align: top;\n",
       "    }\n",
       "\n",
       "    .dataframe thead th {\n",
       "        text-align: right;\n",
       "    }\n",
       "</style>\n",
       "<table border=\"1\" class=\"dataframe\">\n",
       "  <thead>\n",
       "    <tr style=\"text-align: right;\">\n",
       "      <th></th>\n",
       "      <th>idade</th>\n",
       "      <th>anoFormacao</th>\n",
       "      <th>existenciaProjeto</th>\n",
       "      <th>mesesNoProjeto</th>\n",
       "      <th>Gerenciamento_Stress</th>\n",
       "      <th>Resolucao_Problemas</th>\n",
       "      <th>Gerenciamento_Emergencia</th>\n",
       "      <th>Aprendizado</th>\n",
       "      <th>Interpersoal</th>\n",
       "      <th>satisfacao</th>\n",
       "      <th>Burnout_cinismo</th>\n",
       "      <th>Burnout_exaustao</th>\n",
       "      <th>Burnout_eficacia</th>\n",
       "      <th>instabilidade_equipe</th>\n",
       "      <th>instabilidade_tecnica</th>\n",
       "      <th>instabilidade_tarefa</th>\n",
       "    </tr>\n",
       "  </thead>\n",
       "  <tbody>\n",
       "    <tr>\n",
       "      <th>idade</th>\n",
       "      <td>1.000000</td>\n",
       "      <td>-0.604246</td>\n",
       "      <td>-0.038008</td>\n",
       "      <td>0.044196</td>\n",
       "      <td>0.065809</td>\n",
       "      <td>0.092102</td>\n",
       "      <td>0.091165</td>\n",
       "      <td>0.034707</td>\n",
       "      <td>-0.031924</td>\n",
       "      <td>0.054575</td>\n",
       "      <td>-0.054297</td>\n",
       "      <td>-0.090982</td>\n",
       "      <td>0.093197</td>\n",
       "      <td>-0.015137</td>\n",
       "      <td>-0.053131</td>\n",
       "      <td>0.006292</td>\n",
       "    </tr>\n",
       "    <tr>\n",
       "      <th>anoFormacao</th>\n",
       "      <td>-0.604246</td>\n",
       "      <td>1.000000</td>\n",
       "      <td>-0.055865</td>\n",
       "      <td>-0.091173</td>\n",
       "      <td>-0.064939</td>\n",
       "      <td>-0.056600</td>\n",
       "      <td>-0.042132</td>\n",
       "      <td>0.033917</td>\n",
       "      <td>0.056489</td>\n",
       "      <td>0.049757</td>\n",
       "      <td>-0.015188</td>\n",
       "      <td>0.037997</td>\n",
       "      <td>-0.011791</td>\n",
       "      <td>0.059261</td>\n",
       "      <td>0.105344</td>\n",
       "      <td>-0.036604</td>\n",
       "    </tr>\n",
       "    <tr>\n",
       "      <th>existenciaProjeto</th>\n",
       "      <td>-0.038008</td>\n",
       "      <td>-0.055865</td>\n",
       "      <td>1.000000</td>\n",
       "      <td>0.649208</td>\n",
       "      <td>-0.022284</td>\n",
       "      <td>0.026260</td>\n",
       "      <td>-0.018407</td>\n",
       "      <td>-0.087585</td>\n",
       "      <td>-0.017734</td>\n",
       "      <td>-0.065681</td>\n",
       "      <td>0.041288</td>\n",
       "      <td>0.014865</td>\n",
       "      <td>-0.072429</td>\n",
       "      <td>0.099525</td>\n",
       "      <td>-0.019686</td>\n",
       "      <td>0.054758</td>\n",
       "    </tr>\n",
       "    <tr>\n",
       "      <th>mesesNoProjeto</th>\n",
       "      <td>0.044196</td>\n",
       "      <td>-0.091173</td>\n",
       "      <td>0.649208</td>\n",
       "      <td>1.000000</td>\n",
       "      <td>0.010975</td>\n",
       "      <td>0.035419</td>\n",
       "      <td>0.059108</td>\n",
       "      <td>-0.111965</td>\n",
       "      <td>-0.041723</td>\n",
       "      <td>-0.085080</td>\n",
       "      <td>0.052443</td>\n",
       "      <td>0.038085</td>\n",
       "      <td>-0.005952</td>\n",
       "      <td>0.133626</td>\n",
       "      <td>0.019895</td>\n",
       "      <td>0.197101</td>\n",
       "    </tr>\n",
       "    <tr>\n",
       "      <th>Gerenciamento_Stress</th>\n",
       "      <td>0.065809</td>\n",
       "      <td>-0.064939</td>\n",
       "      <td>-0.022284</td>\n",
       "      <td>0.010975</td>\n",
       "      <td>1.000000</td>\n",
       "      <td>0.525293</td>\n",
       "      <td>0.556379</td>\n",
       "      <td>0.448070</td>\n",
       "      <td>0.458993</td>\n",
       "      <td>0.267727</td>\n",
       "      <td>-0.215274</td>\n",
       "      <td>-0.243816</td>\n",
       "      <td>0.396173</td>\n",
       "      <td>-0.010342</td>\n",
       "      <td>-0.095346</td>\n",
       "      <td>-0.025156</td>\n",
       "    </tr>\n",
       "    <tr>\n",
       "      <th>Resolucao_Problemas</th>\n",
       "      <td>0.092102</td>\n",
       "      <td>-0.056600</td>\n",
       "      <td>0.026260</td>\n",
       "      <td>0.035419</td>\n",
       "      <td>0.525293</td>\n",
       "      <td>1.000000</td>\n",
       "      <td>0.514446</td>\n",
       "      <td>0.501237</td>\n",
       "      <td>0.401678</td>\n",
       "      <td>0.221208</td>\n",
       "      <td>-0.192388</td>\n",
       "      <td>-0.213846</td>\n",
       "      <td>0.392838</td>\n",
       "      <td>-0.045055</td>\n",
       "      <td>-0.056322</td>\n",
       "      <td>-0.005003</td>\n",
       "    </tr>\n",
       "    <tr>\n",
       "      <th>Gerenciamento_Emergencia</th>\n",
       "      <td>0.091165</td>\n",
       "      <td>-0.042132</td>\n",
       "      <td>-0.018407</td>\n",
       "      <td>0.059108</td>\n",
       "      <td>0.556379</td>\n",
       "      <td>0.514446</td>\n",
       "      <td>1.000000</td>\n",
       "      <td>0.394188</td>\n",
       "      <td>0.409914</td>\n",
       "      <td>0.229737</td>\n",
       "      <td>-0.204450</td>\n",
       "      <td>-0.181903</td>\n",
       "      <td>0.429710</td>\n",
       "      <td>-0.003442</td>\n",
       "      <td>-0.033127</td>\n",
       "      <td>-0.008335</td>\n",
       "    </tr>\n",
       "    <tr>\n",
       "      <th>Aprendizado</th>\n",
       "      <td>0.034707</td>\n",
       "      <td>0.033917</td>\n",
       "      <td>-0.087585</td>\n",
       "      <td>-0.111965</td>\n",
       "      <td>0.448070</td>\n",
       "      <td>0.501237</td>\n",
       "      <td>0.394188</td>\n",
       "      <td>1.000000</td>\n",
       "      <td>0.449534</td>\n",
       "      <td>0.284316</td>\n",
       "      <td>-0.284004</td>\n",
       "      <td>-0.278572</td>\n",
       "      <td>0.399860</td>\n",
       "      <td>-0.029575</td>\n",
       "      <td>-0.027662</td>\n",
       "      <td>-0.085648</td>\n",
       "    </tr>\n",
       "    <tr>\n",
       "      <th>Interpersoal</th>\n",
       "      <td>-0.031924</td>\n",
       "      <td>0.056489</td>\n",
       "      <td>-0.017734</td>\n",
       "      <td>-0.041723</td>\n",
       "      <td>0.458993</td>\n",
       "      <td>0.401678</td>\n",
       "      <td>0.409914</td>\n",
       "      <td>0.449534</td>\n",
       "      <td>1.000000</td>\n",
       "      <td>0.266218</td>\n",
       "      <td>-0.219447</td>\n",
       "      <td>-0.129538</td>\n",
       "      <td>0.285237</td>\n",
       "      <td>-0.071646</td>\n",
       "      <td>-0.063020</td>\n",
       "      <td>-0.080357</td>\n",
       "    </tr>\n",
       "    <tr>\n",
       "      <th>satisfacao</th>\n",
       "      <td>0.054575</td>\n",
       "      <td>0.049757</td>\n",
       "      <td>-0.065681</td>\n",
       "      <td>-0.085080</td>\n",
       "      <td>0.267727</td>\n",
       "      <td>0.221208</td>\n",
       "      <td>0.229737</td>\n",
       "      <td>0.284316</td>\n",
       "      <td>0.266218</td>\n",
       "      <td>1.000000</td>\n",
       "      <td>-0.710960</td>\n",
       "      <td>-0.609203</td>\n",
       "      <td>0.642285</td>\n",
       "      <td>-0.233699</td>\n",
       "      <td>-0.155883</td>\n",
       "      <td>-0.192245</td>\n",
       "    </tr>\n",
       "    <tr>\n",
       "      <th>Burnout_cinismo</th>\n",
       "      <td>-0.054297</td>\n",
       "      <td>-0.015188</td>\n",
       "      <td>0.041288</td>\n",
       "      <td>0.052443</td>\n",
       "      <td>-0.215274</td>\n",
       "      <td>-0.192388</td>\n",
       "      <td>-0.204450</td>\n",
       "      <td>-0.284004</td>\n",
       "      <td>-0.219447</td>\n",
       "      <td>-0.710960</td>\n",
       "      <td>1.000000</td>\n",
       "      <td>0.684681</td>\n",
       "      <td>-0.554259</td>\n",
       "      <td>0.329457</td>\n",
       "      <td>0.276608</td>\n",
       "      <td>0.313556</td>\n",
       "    </tr>\n",
       "    <tr>\n",
       "      <th>Burnout_exaustao</th>\n",
       "      <td>-0.090982</td>\n",
       "      <td>0.037997</td>\n",
       "      <td>0.014865</td>\n",
       "      <td>0.038085</td>\n",
       "      <td>-0.243816</td>\n",
       "      <td>-0.213846</td>\n",
       "      <td>-0.181903</td>\n",
       "      <td>-0.278572</td>\n",
       "      <td>-0.129538</td>\n",
       "      <td>-0.609203</td>\n",
       "      <td>0.684681</td>\n",
       "      <td>1.000000</td>\n",
       "      <td>-0.464694</td>\n",
       "      <td>0.294022</td>\n",
       "      <td>0.217050</td>\n",
       "      <td>0.297042</td>\n",
       "    </tr>\n",
       "    <tr>\n",
       "      <th>Burnout_eficacia</th>\n",
       "      <td>0.093197</td>\n",
       "      <td>-0.011791</td>\n",
       "      <td>-0.072429</td>\n",
       "      <td>-0.005952</td>\n",
       "      <td>0.396173</td>\n",
       "      <td>0.392838</td>\n",
       "      <td>0.429710</td>\n",
       "      <td>0.399860</td>\n",
       "      <td>0.285237</td>\n",
       "      <td>0.642285</td>\n",
       "      <td>-0.554259</td>\n",
       "      <td>-0.464694</td>\n",
       "      <td>1.000000</td>\n",
       "      <td>-0.101131</td>\n",
       "      <td>-0.084689</td>\n",
       "      <td>-0.056867</td>\n",
       "    </tr>\n",
       "    <tr>\n",
       "      <th>instabilidade_equipe</th>\n",
       "      <td>-0.015137</td>\n",
       "      <td>0.059261</td>\n",
       "      <td>0.099525</td>\n",
       "      <td>0.133626</td>\n",
       "      <td>-0.010342</td>\n",
       "      <td>-0.045055</td>\n",
       "      <td>-0.003442</td>\n",
       "      <td>-0.029575</td>\n",
       "      <td>-0.071646</td>\n",
       "      <td>-0.233699</td>\n",
       "      <td>0.329457</td>\n",
       "      <td>0.294022</td>\n",
       "      <td>-0.101131</td>\n",
       "      <td>1.000000</td>\n",
       "      <td>0.555279</td>\n",
       "      <td>0.548419</td>\n",
       "    </tr>\n",
       "    <tr>\n",
       "      <th>instabilidade_tecnica</th>\n",
       "      <td>-0.053131</td>\n",
       "      <td>0.105344</td>\n",
       "      <td>-0.019686</td>\n",
       "      <td>0.019895</td>\n",
       "      <td>-0.095346</td>\n",
       "      <td>-0.056322</td>\n",
       "      <td>-0.033127</td>\n",
       "      <td>-0.027662</td>\n",
       "      <td>-0.063020</td>\n",
       "      <td>-0.155883</td>\n",
       "      <td>0.276608</td>\n",
       "      <td>0.217050</td>\n",
       "      <td>-0.084689</td>\n",
       "      <td>0.555279</td>\n",
       "      <td>1.000000</td>\n",
       "      <td>0.500395</td>\n",
       "    </tr>\n",
       "    <tr>\n",
       "      <th>instabilidade_tarefa</th>\n",
       "      <td>0.006292</td>\n",
       "      <td>-0.036604</td>\n",
       "      <td>0.054758</td>\n",
       "      <td>0.197101</td>\n",
       "      <td>-0.025156</td>\n",
       "      <td>-0.005003</td>\n",
       "      <td>-0.008335</td>\n",
       "      <td>-0.085648</td>\n",
       "      <td>-0.080357</td>\n",
       "      <td>-0.192245</td>\n",
       "      <td>0.313556</td>\n",
       "      <td>0.297042</td>\n",
       "      <td>-0.056867</td>\n",
       "      <td>0.548419</td>\n",
       "      <td>0.500395</td>\n",
       "      <td>1.000000</td>\n",
       "    </tr>\n",
       "  </tbody>\n",
       "</table>\n",
       "</div>"
      ],
      "text/plain": [
       "                             idade  anoFormacao  existenciaProjeto  \\\n",
       "idade                     1.000000    -0.604246          -0.038008   \n",
       "anoFormacao              -0.604246     1.000000          -0.055865   \n",
       "existenciaProjeto        -0.038008    -0.055865           1.000000   \n",
       "mesesNoProjeto            0.044196    -0.091173           0.649208   \n",
       "Gerenciamento_Stress      0.065809    -0.064939          -0.022284   \n",
       "Resolucao_Problemas       0.092102    -0.056600           0.026260   \n",
       "Gerenciamento_Emergencia  0.091165    -0.042132          -0.018407   \n",
       "Aprendizado               0.034707     0.033917          -0.087585   \n",
       "Interpersoal             -0.031924     0.056489          -0.017734   \n",
       "satisfacao                0.054575     0.049757          -0.065681   \n",
       "Burnout_cinismo          -0.054297    -0.015188           0.041288   \n",
       "Burnout_exaustao         -0.090982     0.037997           0.014865   \n",
       "Burnout_eficacia          0.093197    -0.011791          -0.072429   \n",
       "instabilidade_equipe     -0.015137     0.059261           0.099525   \n",
       "instabilidade_tecnica    -0.053131     0.105344          -0.019686   \n",
       "instabilidade_tarefa      0.006292    -0.036604           0.054758   \n",
       "\n",
       "                          mesesNoProjeto  Gerenciamento_Stress  \\\n",
       "idade                           0.044196              0.065809   \n",
       "anoFormacao                    -0.091173             -0.064939   \n",
       "existenciaProjeto               0.649208             -0.022284   \n",
       "mesesNoProjeto                  1.000000              0.010975   \n",
       "Gerenciamento_Stress            0.010975              1.000000   \n",
       "Resolucao_Problemas             0.035419              0.525293   \n",
       "Gerenciamento_Emergencia        0.059108              0.556379   \n",
       "Aprendizado                    -0.111965              0.448070   \n",
       "Interpersoal                   -0.041723              0.458993   \n",
       "satisfacao                     -0.085080              0.267727   \n",
       "Burnout_cinismo                 0.052443             -0.215274   \n",
       "Burnout_exaustao                0.038085             -0.243816   \n",
       "Burnout_eficacia               -0.005952              0.396173   \n",
       "instabilidade_equipe            0.133626             -0.010342   \n",
       "instabilidade_tecnica           0.019895             -0.095346   \n",
       "instabilidade_tarefa            0.197101             -0.025156   \n",
       "\n",
       "                          Resolucao_Problemas  Gerenciamento_Emergencia  \\\n",
       "idade                                0.092102                  0.091165   \n",
       "anoFormacao                         -0.056600                 -0.042132   \n",
       "existenciaProjeto                    0.026260                 -0.018407   \n",
       "mesesNoProjeto                       0.035419                  0.059108   \n",
       "Gerenciamento_Stress                 0.525293                  0.556379   \n",
       "Resolucao_Problemas                  1.000000                  0.514446   \n",
       "Gerenciamento_Emergencia             0.514446                  1.000000   \n",
       "Aprendizado                          0.501237                  0.394188   \n",
       "Interpersoal                         0.401678                  0.409914   \n",
       "satisfacao                           0.221208                  0.229737   \n",
       "Burnout_cinismo                     -0.192388                 -0.204450   \n",
       "Burnout_exaustao                    -0.213846                 -0.181903   \n",
       "Burnout_eficacia                     0.392838                  0.429710   \n",
       "instabilidade_equipe                -0.045055                 -0.003442   \n",
       "instabilidade_tecnica               -0.056322                 -0.033127   \n",
       "instabilidade_tarefa                -0.005003                 -0.008335   \n",
       "\n",
       "                          Aprendizado  Interpersoal  satisfacao  \\\n",
       "idade                        0.034707     -0.031924    0.054575   \n",
       "anoFormacao                  0.033917      0.056489    0.049757   \n",
       "existenciaProjeto           -0.087585     -0.017734   -0.065681   \n",
       "mesesNoProjeto              -0.111965     -0.041723   -0.085080   \n",
       "Gerenciamento_Stress         0.448070      0.458993    0.267727   \n",
       "Resolucao_Problemas          0.501237      0.401678    0.221208   \n",
       "Gerenciamento_Emergencia     0.394188      0.409914    0.229737   \n",
       "Aprendizado                  1.000000      0.449534    0.284316   \n",
       "Interpersoal                 0.449534      1.000000    0.266218   \n",
       "satisfacao                   0.284316      0.266218    1.000000   \n",
       "Burnout_cinismo             -0.284004     -0.219447   -0.710960   \n",
       "Burnout_exaustao            -0.278572     -0.129538   -0.609203   \n",
       "Burnout_eficacia             0.399860      0.285237    0.642285   \n",
       "instabilidade_equipe        -0.029575     -0.071646   -0.233699   \n",
       "instabilidade_tecnica       -0.027662     -0.063020   -0.155883   \n",
       "instabilidade_tarefa        -0.085648     -0.080357   -0.192245   \n",
       "\n",
       "                          Burnout_cinismo  Burnout_exaustao  Burnout_eficacia  \\\n",
       "idade                           -0.054297         -0.090982          0.093197   \n",
       "anoFormacao                     -0.015188          0.037997         -0.011791   \n",
       "existenciaProjeto                0.041288          0.014865         -0.072429   \n",
       "mesesNoProjeto                   0.052443          0.038085         -0.005952   \n",
       "Gerenciamento_Stress            -0.215274         -0.243816          0.396173   \n",
       "Resolucao_Problemas             -0.192388         -0.213846          0.392838   \n",
       "Gerenciamento_Emergencia        -0.204450         -0.181903          0.429710   \n",
       "Aprendizado                     -0.284004         -0.278572          0.399860   \n",
       "Interpersoal                    -0.219447         -0.129538          0.285237   \n",
       "satisfacao                      -0.710960         -0.609203          0.642285   \n",
       "Burnout_cinismo                  1.000000          0.684681         -0.554259   \n",
       "Burnout_exaustao                 0.684681          1.000000         -0.464694   \n",
       "Burnout_eficacia                -0.554259         -0.464694          1.000000   \n",
       "instabilidade_equipe             0.329457          0.294022         -0.101131   \n",
       "instabilidade_tecnica            0.276608          0.217050         -0.084689   \n",
       "instabilidade_tarefa             0.313556          0.297042         -0.056867   \n",
       "\n",
       "                          instabilidade_equipe  instabilidade_tecnica  \\\n",
       "idade                                -0.015137              -0.053131   \n",
       "anoFormacao                           0.059261               0.105344   \n",
       "existenciaProjeto                     0.099525              -0.019686   \n",
       "mesesNoProjeto                        0.133626               0.019895   \n",
       "Gerenciamento_Stress                 -0.010342              -0.095346   \n",
       "Resolucao_Problemas                  -0.045055              -0.056322   \n",
       "Gerenciamento_Emergencia             -0.003442              -0.033127   \n",
       "Aprendizado                          -0.029575              -0.027662   \n",
       "Interpersoal                         -0.071646              -0.063020   \n",
       "satisfacao                           -0.233699              -0.155883   \n",
       "Burnout_cinismo                       0.329457               0.276608   \n",
       "Burnout_exaustao                      0.294022               0.217050   \n",
       "Burnout_eficacia                     -0.101131              -0.084689   \n",
       "instabilidade_equipe                  1.000000               0.555279   \n",
       "instabilidade_tecnica                 0.555279               1.000000   \n",
       "instabilidade_tarefa                  0.548419               0.500395   \n",
       "\n",
       "                          instabilidade_tarefa  \n",
       "idade                                 0.006292  \n",
       "anoFormacao                          -0.036604  \n",
       "existenciaProjeto                     0.054758  \n",
       "mesesNoProjeto                        0.197101  \n",
       "Gerenciamento_Stress                 -0.025156  \n",
       "Resolucao_Problemas                  -0.005003  \n",
       "Gerenciamento_Emergencia             -0.008335  \n",
       "Aprendizado                          -0.085648  \n",
       "Interpersoal                         -0.080357  \n",
       "satisfacao                           -0.192245  \n",
       "Burnout_cinismo                       0.313556  \n",
       "Burnout_exaustao                      0.297042  \n",
       "Burnout_eficacia                     -0.056867  \n",
       "instabilidade_equipe                  0.548419  \n",
       "instabilidade_tecnica                 0.500395  \n",
       "instabilidade_tarefa                  1.000000  "
      ]
     },
     "metadata": {},
     "execution_count": 31
    }
   ],
   "metadata": {
    "collapsed": false,
    "pycharm": {
     "name": "#%%\n"
    }
   }
  },
  {
   "cell_type": "markdown",
   "source": [
    "dados['Gerenciamento_Stress'] = (dados['S1']+dados['S2']+dados['S3'])/3\n",
    "dados['Resolucao_Problemas'] = (dados['C1']+dados['C2']+dados['C3']+dados['C4'])/4\n",
    "dados['Gerenciamento_Emergencia'] = (dados['EM1']+dados['EM2']+dados['EM3'])/3\n",
    "dados['Aprendizado'] = (dados['T1']+dados['T2']+dados['T3']+dados['T4'])/4\n",
    "dados['Interpersoal'] = (dados['I1']+dados['I2']+dados['I3']+dados['I4'])/4\n",
    "dados['satisfacao']= (dados['sat1']+dados['sat2']+dados['satXet6'])/3\n",
    "dados['Burnout_cinismo'] = (dados['ci1']+dados['ci2']+dados['ci3']+dados['ci4'])/4\n",
    "dados['Burnout_exaustao'] = (dados['ee1']+dados['ee2']+dados['ee3']+dados['ee5']+dados['ee6'])/6\n",
    "dados['Burnout_eficacia'] = (dados['et1']+dados['et2']+dados['et3']+dados['et4']+dados['et5']+dados['satXet6'])/6\n",
    "dados['instabilidade_equipe'] = (dados['equipe1']+dados['equipe2']+dados['equipe3']+dados['equipe4'])/4\n",
    "dados['instabilidade_tecnica'] = (dados['tec1']+dados['tec2']+dados['tec3']+dados['tec4'])/4\n",
    "dados['instabilidade_tarefa'] = (dados['reque1']+dados['reque2']+dados['reque3']+dados['req4']+dados['req5']+dados['req6']+dados['req7'])/7"
   ],
   "metadata": {
    "collapsed": false,
    "pycharm": {
     "name": "#%% md\n"
    }
   }
  },
  {
   "cell_type": "markdown",
   "source": [
    "Será que existem diferenças entre os níveis de adaptação, satisfação e burnout entre homens e mulheres?\n",
    "\n"
   ],
   "metadata": {
    "collapsed": false,
    "pycharm": {
     "name": "#%% md\n"
    }
   }
  },
  {
   "cell_type": "code",
   "execution_count": 32,
   "source": [
    "dados_masculinos = dados.query(\"sexo == 'Masculino'\")\r\n",
    "dados_femininos = dados.query(\"sexo == 'Feminino'\")\r\n",
    "print (\"Masculino\")\r\n",
    "print (dados_masculinos.describe())\r\n",
    "print(\"-------------------------------\")\r\n",
    "print(\"Feminino\")\r\n",
    "print (dados_femininos.describe())"
   ],
   "outputs": [
    {
     "output_type": "stream",
     "name": "stdout",
     "text": [
      "Masculino\n",
      "            idade  anoFormacao  existenciaProjeto  mesesNoProjeto  \\\n",
      "count  380.000000   380.000000         380.000000      380.000000   \n",
      "mean    29.639474  1994.665789          25.023684       10.632895   \n",
      "std      6.392940   206.063638          40.615540       15.289471   \n",
      "min     18.000000     0.000000           0.000000        0.000000   \n",
      "25%     25.000000  2014.000000           5.000000        3.000000   \n",
      "50%     29.000000  2017.000000          12.000000        6.000000   \n",
      "75%     33.000000  2019.000000          24.000000       12.000000   \n",
      "max     56.000000  2024.000000         360.000000      126.000000   \n",
      "\n",
      "       Gerenciamento_Stress  Resolucao_Problemas  Gerenciamento_Emergencia  \\\n",
      "count            380.000000           380.000000                380.000000   \n",
      "mean              17.094737            22.463158                 16.560526   \n",
      "std                2.693973             3.693567                  2.938960   \n",
      "min                8.000000             7.000000                  8.000000   \n",
      "25%               15.000000            20.000000                 15.000000   \n",
      "50%               17.500000            23.000000                 17.000000   \n",
      "75%               19.000000            25.000000                 19.000000   \n",
      "max               21.000000            28.000000                 21.000000   \n",
      "\n",
      "       Aprendizado  Interpersoal  satisfacao  Burnout_cinismo  \\\n",
      "count   379.000000    380.000000  344.000000       344.000000   \n",
      "mean     23.242744     24.878947   16.098837         9.462209   \n",
      "std       3.670873      2.729895    4.194485         5.393417   \n",
      "min       7.000000     13.000000    3.000000         4.000000   \n",
      "25%      21.000000     23.000000   13.750000         5.000000   \n",
      "50%      23.000000     25.000000   17.000000         8.000000   \n",
      "75%      26.000000     27.000000   19.000000        13.000000   \n",
      "max      28.000000     28.000000   21.000000        28.000000   \n",
      "\n",
      "       Burnout_exaustao  Burnout_eficacia  instabilidade_equipe  \\\n",
      "count        343.000000        344.000000            355.000000   \n",
      "mean          17.055394         30.000000             15.456338   \n",
      "std            7.964458          4.425608              5.198890   \n",
      "min            5.000000         15.000000              4.000000   \n",
      "25%           10.000000         27.000000             11.000000   \n",
      "50%           16.000000         30.000000             15.000000   \n",
      "75%           22.000000         33.000000             19.000000   \n",
      "max           35.000000         41.000000             28.000000   \n",
      "\n",
      "       instabilidade_tecnica  instabilidade_tarefa  \n",
      "count             355.000000            354.000000  \n",
      "mean               15.135211             33.310734  \n",
      "std                 5.142465              8.955954  \n",
      "min                 4.000000              8.000000  \n",
      "25%                11.000000             27.250000  \n",
      "50%                15.000000             34.000000  \n",
      "75%                19.000000             39.750000  \n",
      "max                28.000000             49.000000  \n",
      "-------------------------------\n",
      "Feminino\n",
      "           idade  anoFormacao  existenciaProjeto  mesesNoProjeto  \\\n",
      "count  72.000000    72.000000          72.000000       72.000000   \n",
      "mean   29.305556  2016.666667          41.680556       10.694444   \n",
      "std     7.799673     4.093967         123.987258       16.198278   \n",
      "min    19.000000  2002.000000           0.000000        0.000000   \n",
      "25%    24.000000  2015.000000           5.000000        2.750000   \n",
      "50%    27.000000  2018.000000          11.500000        6.000000   \n",
      "75%    31.500000  2020.000000          25.000000       11.250000   \n",
      "max    59.000000  2022.000000        1000.000000      110.000000   \n",
      "\n",
      "       Gerenciamento_Stress  Resolucao_Problemas  Gerenciamento_Emergencia  \\\n",
      "count             72.000000            72.000000                 72.000000   \n",
      "mean              16.125000            20.763889                 16.069444   \n",
      "std                3.536281             3.690464                  3.017911   \n",
      "min                6.000000            12.000000                  7.000000   \n",
      "25%               14.000000            18.000000                 14.750000   \n",
      "50%               17.000000            21.000000                 16.500000   \n",
      "75%               19.000000            24.000000                 18.000000   \n",
      "max               21.000000            28.000000                 21.000000   \n",
      "\n",
      "       Aprendizado  Interpersoal  satisfacao  Burnout_cinismo  \\\n",
      "count    72.000000     72.000000   69.000000        69.000000   \n",
      "mean     22.888889     24.194444   15.130435        11.130435   \n",
      "std       3.350659      3.124816    4.620648         6.340609   \n",
      "min      15.000000     16.000000    3.000000         4.000000   \n",
      "25%      20.750000     22.000000   13.000000         5.000000   \n",
      "50%      23.000000     25.000000   16.000000         9.000000   \n",
      "75%      25.000000     27.000000   19.000000        15.000000   \n",
      "max      28.000000     28.000000   21.000000        27.000000   \n",
      "\n",
      "       Burnout_exaustao  Burnout_eficacia  instabilidade_equipe  \\\n",
      "count         69.000000         69.000000             69.000000   \n",
      "mean          19.043478         29.173913             16.884058   \n",
      "std            8.556791          4.588850              5.715140   \n",
      "min            5.000000         19.000000              5.000000   \n",
      "25%           12.000000         26.000000             13.000000   \n",
      "50%           18.000000         29.000000             17.000000   \n",
      "75%           26.000000         33.000000             21.000000   \n",
      "max           35.000000         36.000000             28.000000   \n",
      "\n",
      "       instabilidade_tecnica  instabilidade_tarefa  \n",
      "count              69.000000             69.000000  \n",
      "mean               17.101449             35.608696  \n",
      "std                 5.073417              8.788725  \n",
      "min                 4.000000             12.000000  \n",
      "25%                14.000000             30.000000  \n",
      "50%                17.000000             38.000000  \n",
      "75%                21.000000             42.000000  \n",
      "max                28.000000             49.000000  \n"
     ]
    }
   ],
   "metadata": {
    "collapsed": false,
    "pycharm": {
     "name": "#%%\n"
    }
   }
  },
  {
   "cell_type": "markdown",
   "source": [
    "Mulheres 72\n",
    "Homens 380"
   ],
   "metadata": {
    "collapsed": false,
    "pycharm": {
     "name": "#%% md\n"
    }
   }
  },
  {
   "cell_type": "markdown",
   "source": [
    "H0 = samples are equal.\n",
    "Fail to Reject H0: Sample distributions are equal.\n",
    "Reject H0: Sample distributions are not equal."
   ],
   "metadata": {
    "collapsed": false,
    "pycharm": {
     "name": "#%% md\n"
    }
   }
  },
  {
   "cell_type": "code",
   "execution_count": 33,
   "source": [
    "sns.boxplot(data= [dados_masculinos.satisfacao ,dados_femininos.satisfacao])\r\n",
    "print(dados_masculinos.satisfacao.describe())\r\n",
    "print(dados_femininos.satisfacao.describe())"
   ],
   "outputs": [
    {
     "output_type": "stream",
     "name": "stdout",
     "text": [
      "count    344.000000\n",
      "mean      16.098837\n",
      "std        4.194485\n",
      "min        3.000000\n",
      "25%       13.750000\n",
      "50%       17.000000\n",
      "75%       19.000000\n",
      "max       21.000000\n",
      "Name: satisfacao, dtype: float64\n",
      "count    69.000000\n",
      "mean     15.130435\n",
      "std       4.620648\n",
      "min       3.000000\n",
      "25%      13.000000\n",
      "50%      16.000000\n",
      "75%      19.000000\n",
      "max      21.000000\n",
      "Name: satisfacao, dtype: float64\n"
     ]
    },
    {
     "output_type": "display_data",
     "data": {
      "image/png": "[encoded data removed]",
      "text/plain": [
       "<Figure size 432x288 with 1 Axes>"
      ]
     },
     "metadata": {
      "needs_background": "light"
     }
    }
   ],
   "metadata": {
    "collapsed": false,
    "pycharm": {
     "name": "#%%\n"
    }
   }
  },
  {
   "cell_type": "code",
   "execution_count": 34,
   "source": [
    "#pip install pingouin --user\r\n",
    "import pingouin as pg\r\n",
    "from bootstrap import Bootstrap\r\n",
    "\r\n",
    "teste = Bootstrap()"
   ],
   "outputs": [],
   "metadata": {}
  },
  {
   "cell_type": "code",
   "execution_count": 35,
   "source": [
    "\r\n",
    "interpessoalMasculinoBS =  teste.doBoot(dados_masculinos.Interpersoal, len(dados_masculinos.Interpersoal))\r\n",
    "\r\n",
    "interpessoalFemininoBS = teste.doBoot(dados_femininos.Interpersoal, len(dados_femininos.Interpersoal))\r\n",
    "\r\n",
    "print(pg.ttest(interpessoalMasculinoBS,interpessoalFemininoBS))\r\n",
    "\r\n",
    "plt.hist(interpessoalMasculinoBS)\r\n",
    "plt.hist(interpessoalFemininoBS)\r\n",
    "\r\n",
    "\r\n",
    "\r\n"
   ],
   "outputs": [
    {
     "output_type": "stream",
     "name": "stdout",
     "text": [
      "                T   dof alternative  p-val         CI95%   cohen-d BF10  power\n",
      "T-test  55.204854  1998   two-sided    0.0  [0.67, 0.72]  2.468836  inf    1.0\n"
     ]
    },
    {
     "output_type": "stream",
     "name": "stderr",
     "text": [
      "C:\\Users\\danilo.ribeiro\\AppData\\Roaming\\Python\\Python38\\site-packages\\pingouin\\bayesian.py:146: RuntimeWarning: divide by zero encountered in double_scalars\n",
      "  bf10 = 1 / ((1 + t**2 / df)**(-(df + 1) / 2) / integr)\n"
     ]
    },
    {
     "output_type": "execute_result",
     "data": {
      "text/plain": [
       "(array([  4.,   8.,  48., 149., 269., 272., 189.,  50.,  10.,   1.]),\n",
       " array([22.75      , 23.03472222, 23.31944444, 23.60416667, 23.88888889,\n",
       "        24.17361111, 24.45833333, 24.74305556, 25.02777778, 25.3125    ,\n",
       "        25.59722222]),\n",
       " <BarContainer object of 10 artists>)"
      ]
     },
     "metadata": {},
     "execution_count": 35
    },
    {
     "output_type": "display_data",
     "data": {
      "image/png": "[encoded data removed]",
      "text/plain": [
       "<Figure size 432x288 with 1 Axes>"
      ]
     },
     "metadata": {
      "needs_background": "light"
     }
    }
   ],
   "metadata": {}
  },
  {
   "cell_type": "code",
   "execution_count": 36,
   "source": [
    "sns.boxplot(data= [interpessoalMasculinoBS ,interpessoalFemininoBS])"
   ],
   "outputs": [
    {
     "output_type": "execute_result",
     "data": {
      "text/plain": [
       "<AxesSubplot:>"
      ]
     },
     "metadata": {},
     "execution_count": 36
    },
    {
     "output_type": "display_data",
     "data": {
      "image/png": "[encoded data removed]",
      "text/plain": [
       "<Figure size 432x288 with 1 Axes>"
      ]
     },
     "metadata": {
      "needs_background": "light"
     }
    }
   ],
   "metadata": {}
  },
  {
   "cell_type": "code",
   "execution_count": 37,
   "source": [
    "MasculinoBS =  teste.doBoot(dados_masculinos.Burnout_eficacia.dropna(), len(dados_masculinos.Burnout_eficacia))\r\n",
    "\r\n",
    "FemininoBS = teste.doBoot(dados_femininos.Burnout_eficacia.dropna(), len(dados_femininos.Burnout_eficacia))\r\n",
    "\r\n",
    "print(pg.ttest(MasculinoBS,FemininoBS))\r\n",
    "\r\n",
    "\r\n",
    "\r\n",
    "plt.hist(MasculinoBS)\r\n",
    "plt.hist(FemininoBS)"
   ],
   "outputs": [
    {
     "output_type": "stream",
     "name": "stdout",
     "text": [
      "                T   dof alternative          p-val        CI95%   cohen-d  \\\n",
      "T-test  44.186904  1998   two-sided  4.423753e-298  [0.8, 0.88]  1.976098   \n",
      "\n",
      "              BF10  power  \n",
      "T-test  4.626e+293    1.0  \n"
     ]
    },
    {
     "output_type": "execute_result",
     "data": {
      "text/plain": [
       "(array([  6.,  26.,  74., 179., 243., 236., 159.,  52.,  21.,   4.]),\n",
       " array([27.38888889, 27.75416667, 28.11944444, 28.48472222, 28.85      ,\n",
       "        29.21527778, 29.58055556, 29.94583333, 30.31111111, 30.67638889,\n",
       "        31.04166667]),\n",
       " <BarContainer object of 10 artists>)"
      ]
     },
     "metadata": {},
     "execution_count": 37
    },
    {
     "output_type": "display_data",
     "data": {
      "image/png": "[encoded data removed]",
      "text/plain": [
       "<Figure size 432x288 with 1 Axes>"
      ]
     },
     "metadata": {
      "needs_background": "light"
     }
    }
   ],
   "metadata": {}
  },
  {
   "cell_type": "code",
   "execution_count": 38,
   "source": [
    "sns.boxplot(data= [MasculinoBS ,FemininoBS])"
   ],
   "outputs": [
    {
     "output_type": "execute_result",
     "data": {
      "text/plain": [
       "<AxesSubplot:>"
      ]
     },
     "metadata": {},
     "execution_count": 38
    },
    {
     "output_type": "display_data",
     "data": {
      "image/png": "[encoded data removed]",
      "text/plain": [
       "<Figure size 432x288 with 1 Axes>"
      ]
     },
     "metadata": {
      "needs_background": "light"
     }
    }
   ],
   "metadata": {}
  },
  {
   "cell_type": "code",
   "execution_count": 39,
   "source": [
    "\r\n",
    "FemininoBS  =  teste.doBoot(dados_masculinos.Burnout_exaustao.dropna(), len(dados_masculinos.Burnout_exaustao))\r\n",
    "MasculinoBS = teste.doBoot(dados_femininos.Burnout_exaustao.dropna(), len(dados_femininos.Burnout_exaustao))\r\n",
    "\r\n",
    "print(pg.ttest(MasculinoBS,FemininoBS))\r\n",
    "\r\n",
    "\r\n",
    "\r\n",
    "plt.hist(MasculinoBS)\r\n",
    "plt.hist(FemininoBS)"
   ],
   "outputs": [
    {
     "output_type": "stream",
     "name": "stdout",
     "text": [
      "               T   dof alternative  p-val        CI95%   cohen-d BF10  power\n",
      "T-test  54.09556  1998   two-sided    0.0  [1.86, 2.0]  2.419227  inf    1.0\n"
     ]
    },
    {
     "output_type": "stream",
     "name": "stderr",
     "text": [
      "C:\\Users\\danilo.ribeiro\\AppData\\Roaming\\Python\\Python38\\site-packages\\pingouin\\bayesian.py:146: RuntimeWarning: divide by zero encountered in double_scalars\n",
      "  bf10 = 1 / ((1 + t**2 / df)**(-(df + 1) / 2) / integr)\n"
     ]
    },
    {
     "output_type": "execute_result",
     "data": {
      "text/plain": [
       "(array([  4.,  25.,  67., 180., 268., 247., 146.,  48.,  13.,   2.]),\n",
       " array([15.68947368, 15.97578947, 16.26210526, 16.54842105, 16.83473684,\n",
       "        17.12105263, 17.40736842, 17.69368421, 17.98      , 18.26631579,\n",
       "        18.55263158]),\n",
       " <BarContainer object of 10 artists>)"
      ]
     },
     "metadata": {},
     "execution_count": 39
    },
    {
     "output_type": "display_data",
     "data": {
      "image/png": "[encoded data removed]",
      "text/plain": [
       "<Figure size 432x288 with 1 Axes>"
      ]
     },
     "metadata": {
      "needs_background": "light"
     }
    }
   ],
   "metadata": {}
  },
  {
   "cell_type": "code",
   "execution_count": 40,
   "source": [
    "sns.boxplot(data= [MasculinoBS ,FemininoBS])"
   ],
   "outputs": [
    {
     "output_type": "execute_result",
     "data": {
      "text/plain": [
       "<AxesSubplot:>"
      ]
     },
     "metadata": {},
     "execution_count": 40
    },
    {
     "output_type": "display_data",
     "data": {
      "image/png": "[encoded data removed]",
      "text/plain": [
       "<Figure size 432x288 with 1 Axes>"
      ]
     },
     "metadata": {
      "needs_background": "light"
     }
    }
   ],
   "metadata": {}
  },
  {
   "cell_type": "code",
   "execution_count": 42,
   "source": [
    "\r\n",
    "FemininoBS  =  teste.doBoot(dados_masculinos.instabilidade_equipe.dropna(), len(dados_masculinos.instabilidade_equipe))\r\n",
    "MasculinoBS = teste.doBoot(dados_femininos.Burnout_exaustao.dropna(), len(dados_femininos.instabilidade_equipe))\r\n",
    "\r\n",
    "print(pg.ttest(MasculinoBS,FemininoBS))\r\n",
    "\r\n",
    "\r\n",
    "\r\n",
    "plt.hist(MasculinoBS)\r\n",
    "plt.hist(FemininoBS)"
   ],
   "outputs": [
    {
     "output_type": "stream",
     "name": "stdout",
     "text": [
      "                 T   dof alternative  p-val         CI95%   cohen-d BF10  \\\n",
      "T-test  109.996739  1998   two-sided    0.0  [3.61, 3.74]  4.919204  inf   \n",
      "\n",
      "        power  \n",
      "T-test    1.0  \n"
     ]
    },
    {
     "output_type": "stream",
     "name": "stderr",
     "text": [
      "C:\\Users\\danilo.ribeiro\\AppData\\Roaming\\Python\\Python38\\site-packages\\pingouin\\bayesian.py:146: RuntimeWarning: divide by zero encountered in double_scalars\n",
      "  bf10 = 1 / ((1 + t**2 / df)**(-(df + 1) / 2) / integr)\n"
     ]
    },
    {
     "output_type": "execute_result",
     "data": {
      "text/plain": [
       "(array([  8.,  47., 143., 241., 260., 202.,  75.,  23.,   0.,   1.]),\n",
       " array([14.61578947, 14.81157895, 15.00736842, 15.20315789, 15.39894737,\n",
       "        15.59473684, 15.79052632, 15.98631579, 16.18210526, 16.37789474,\n",
       "        16.57368421]),\n",
       " <BarContainer object of 10 artists>)"
      ]
     },
     "metadata": {},
     "execution_count": 42
    },
    {
     "output_type": "display_data",
     "data": {
      "image/png": "[encoded data removed]",
      "text/plain": [
       "<Figure size 432x288 with 1 Axes>"
      ]
     },
     "metadata": {
      "needs_background": "light"
     }
    }
   ],
   "metadata": {}
  },
  {
   "cell_type": "code",
   "execution_count": 43,
   "source": [
    "sns.boxplot(data= [MasculinoBS ,FemininoBS])"
   ],
   "outputs": [
    {
     "output_type": "execute_result",
     "data": {
      "text/plain": [
       "<AxesSubplot:>"
      ]
     },
     "metadata": {},
     "execution_count": 43
    },
    {
     "output_type": "display_data",
     "data": {
      "image/png": "[encoded data removed]",
      "text/plain": [
       "<Figure size 432x288 with 1 Axes>"
      ]
     },
     "metadata": {
      "needs_background": "light"
     }
    }
   ],
   "metadata": {}
  }
 ],
 "metadata": {
  "kernelspec": {
   "name": "python3",
   "display_name": "Python 3.8.5 64-bit ('base': conda)"
  },
  "language_info": {
   "name": "python",
   "version": "3.8.5",
   "mimetype": "text/x-python",
   "codemirror_mode": {
    "name": "ipython",
    "version": 3
   },
   "pygments_lexer": "ipython3",
   "nbconvert_exporter": "python",
   "file_extension": ".py"
  },
  "interpreter": {
   "hash": "a46e9fe4ff4811eceacb5bb322456e79b6abd20f6f213b3fc9de22891b9f92d0"
  }
 },
 "nbformat": 4,
 "nbformat_minor": 2
}