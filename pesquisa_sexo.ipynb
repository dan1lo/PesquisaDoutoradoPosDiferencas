{
 "cells": [
  {
   "cell_type": "markdown",
   "source": [
    "Perguntas de pesquisa que irão guiar essa investigação\n",
    "\n",
    "Será que existem diferenças entre os níveis de adaptação, satisfação e burnout entre homens e mulheres?\n",
    "Será que existem diferenças entre os níveis de adaptação, satisfação e burnout entre os níveis e formação ?\n",
    "Será que existem diferenças entre os níveis de adaptação, satisfação e burnout entre pessoas mais e menos experientes ?\n",
    "Será que existem diferenças enrtre os níveis de adaptação, satisfação e burnout entre pessoas mais velhas e mais novas?\n",
    "Será que existem diferenças entre os níveis de adaptação, satisfação e burnout e as funções realizadas nos projetos?"
   ],
   "metadata": {
    "collapsed": false,
    "pycharm": {
     "name": "#%% md\n"
    }
   }
  },
  {
   "cell_type": "code",
   "source": [
    "import pandas as pd\n",
    "from scipy.stats import mannwhitneyu\n",
    "import matplotlib.pyplot as plt\n",
    "dados = pd.read_excel('/home/danilo/Documentos/GitHub/PesquisaIdade/data/idade.xlsx')\n",
    "dados.head()\n",
    "dados.columns\n"
   ],
   "metadata": {
    "collapsed": false,
    "pycharm": {
     "name": "#%%\n"
    }
   },
   "execution_count": 114,
   "outputs": [
    {
     "data": {
      "text/plain": "Index(['sexo', 'idade', 'formacao', 'curso', 'anoFormacao',\n       'tempoProfissional', 'tempoFuncao', 'funcao', 'metodologia',\n       'existenciaProjeto', 'mesesNoProjeto',\n       '@12.Emrelaçãoassuascaracterísticasporfavorresponda', 'S1', 'S2', 'S3',\n       'C2', 'C3', 'C4', 'C1', 'EM4', 'EM1', 'EM3', 'EM2', 'T3', 'T1', 'T4',\n       'T2', 'I2', 'I1', 'I4', 'I3',\n       '@13.Pararesponderasquestõesabaixoconsidereseuprojetoatua', 'equipe1',\n       'reque1', 'reque2', 'reque3', 'tec1', 'req4', 'tec2', 'tec3', 'tec4',\n       'req5', 'equipe2', 'equipe3', 'req6', 'tec5', 'tec6', 'req7', 'equipe4',\n       '@14.Emrelaçãoaoseudiaadiadotrabalho', 'ci2', 'et6', 'ci3', 'satXet6',\n       'ee6', 'ee2', 'et5', 'ci1', 'et4', 'ee1', 'et1', 'et2', 'et3', 'ee3',\n       'ci4', 'ee5', '@15.Emrelaçãoasuasatisfaçãocomotrabalho', 'sat1',\n       'sat2'],\n      dtype='object')"
     },
     "execution_count": 114,
     "metadata": {},
     "output_type": "execute_result"
    }
   ]
  },
  {
   "cell_type": "code",
   "execution_count": 115,
   "outputs": [
    {
     "data": {
      "text/plain": "                             idade  anoFormacao  existenciaProjeto  \\\nidade                     1.000000    -0.604246          -0.038008   \nanoFormacao              -0.604246     1.000000          -0.055865   \nexistenciaProjeto        -0.038008    -0.055865           1.000000   \nmesesNoProjeto            0.044196    -0.091173           0.649208   \nGerenciamento_Stress      0.065809    -0.064939          -0.022284   \nResolucao_Problemas       0.092102    -0.056600           0.026260   \nGerenciamento_Emergencia  0.091165    -0.042132          -0.018407   \nAprendizado               0.034707     0.033917          -0.087585   \nInterpersoal             -0.031924     0.056489          -0.017734   \nsatisfacao                0.054575     0.049757          -0.065681   \nBurnout_cinismo          -0.054297    -0.015188           0.041288   \nBurnout_exaustao         -0.090982     0.037997           0.014865   \nBurnout_eficacia          0.093197    -0.011791          -0.072429   \ninstabilidade_equipe     -0.015137     0.059261           0.099525   \ninstabilidade_tecnica    -0.053131     0.105344          -0.019686   \ninstabilidade_tarefa      0.006292    -0.036604           0.054758   \n\n                          mesesNoProjeto  Gerenciamento_Stress  \\\nidade                           0.044196              0.065809   \nanoFormacao                    -0.091173             -0.064939   \nexistenciaProjeto               0.649208             -0.022284   \nmesesNoProjeto                  1.000000              0.010975   \nGerenciamento_Stress            0.010975              1.000000   \nResolucao_Problemas             0.035419              0.525293   \nGerenciamento_Emergencia        0.059108              0.556379   \nAprendizado                    -0.111965              0.448070   \nInterpersoal                   -0.041723              0.458993   \nsatisfacao                     -0.085080              0.267727   \nBurnout_cinismo                 0.052443             -0.215274   \nBurnout_exaustao                0.038085             -0.243816   \nBurnout_eficacia               -0.005952              0.396173   \ninstabilidade_equipe            0.133626             -0.010342   \ninstabilidade_tecnica           0.019895             -0.095346   \ninstabilidade_tarefa            0.197101             -0.025156   \n\n                          Resolucao_Problemas  Gerenciamento_Emergencia  \\\nidade                                0.092102                  0.091165   \nanoFormacao                         -0.056600                 -0.042132   \nexistenciaProjeto                    0.026260                 -0.018407   \nmesesNoProjeto                       0.035419                  0.059108   \nGerenciamento_Stress                 0.525293                  0.556379   \nResolucao_Problemas                  1.000000                  0.514446   \nGerenciamento_Emergencia             0.514446                  1.000000   \nAprendizado                          0.501237                  0.394188   \nInterpersoal                         0.401678                  0.409914   \nsatisfacao                           0.221208                  0.229737   \nBurnout_cinismo                     -0.192388                 -0.204450   \nBurnout_exaustao                    -0.213846                 -0.181903   \nBurnout_eficacia                     0.392838                  0.429710   \ninstabilidade_equipe                -0.045055                 -0.003442   \ninstabilidade_tecnica               -0.056322                 -0.033127   \ninstabilidade_tarefa                -0.005003                 -0.008335   \n\n                          Aprendizado  Interpersoal  satisfacao  \\\nidade                        0.034707     -0.031924    0.054575   \nanoFormacao                  0.033917      0.056489    0.049757   \nexistenciaProjeto           -0.087585     -0.017734   -0.065681   \nmesesNoProjeto              -0.111965     -0.041723   -0.085080   \nGerenciamento_Stress         0.448070      0.458993    0.267727   \nResolucao_Problemas          0.501237      0.401678    0.221208   \nGerenciamento_Emergencia     0.394188      0.409914    0.229737   \nAprendizado                  1.000000      0.449534    0.284316   \nInterpersoal                 0.449534      1.000000    0.266218   \nsatisfacao                   0.284316      0.266218    1.000000   \nBurnout_cinismo             -0.284004     -0.219447   -0.710960   \nBurnout_exaustao            -0.278572     -0.129538   -0.609203   \nBurnout_eficacia             0.399860      0.285237    0.642285   \ninstabilidade_equipe        -0.029575     -0.071646   -0.233699   \ninstabilidade_tecnica       -0.027662     -0.063020   -0.155883   \ninstabilidade_tarefa        -0.085648     -0.080357   -0.192245   \n\n                          Burnout_cinismo  Burnout_exaustao  Burnout_eficacia  \\\nidade                           -0.054297         -0.090982          0.093197   \nanoFormacao                     -0.015188          0.037997         -0.011791   \nexistenciaProjeto                0.041288          0.014865         -0.072429   \nmesesNoProjeto                   0.052443          0.038085         -0.005952   \nGerenciamento_Stress            -0.215274         -0.243816          0.396173   \nResolucao_Problemas             -0.192388         -0.213846          0.392838   \nGerenciamento_Emergencia        -0.204450         -0.181903          0.429710   \nAprendizado                     -0.284004         -0.278572          0.399860   \nInterpersoal                    -0.219447         -0.129538          0.285237   \nsatisfacao                      -0.710960         -0.609203          0.642285   \nBurnout_cinismo                  1.000000          0.684681         -0.554259   \nBurnout_exaustao                 0.684681          1.000000         -0.464694   \nBurnout_eficacia                -0.554259         -0.464694          1.000000   \ninstabilidade_equipe             0.329457          0.294022         -0.101131   \ninstabilidade_tecnica            0.276608          0.217050         -0.084689   \ninstabilidade_tarefa             0.313556          0.297042         -0.056867   \n\n                          instabilidade_equipe  instabilidade_tecnica  \\\nidade                                -0.015137              -0.053131   \nanoFormacao                           0.059261               0.105344   \nexistenciaProjeto                     0.099525              -0.019686   \nmesesNoProjeto                        0.133626               0.019895   \nGerenciamento_Stress                 -0.010342              -0.095346   \nResolucao_Problemas                  -0.045055              -0.056322   \nGerenciamento_Emergencia             -0.003442              -0.033127   \nAprendizado                          -0.029575              -0.027662   \nInterpersoal                         -0.071646              -0.063020   \nsatisfacao                           -0.233699              -0.155883   \nBurnout_cinismo                       0.329457               0.276608   \nBurnout_exaustao                      0.294022               0.217050   \nBurnout_eficacia                     -0.101131              -0.084689   \ninstabilidade_equipe                  1.000000               0.555279   \ninstabilidade_tecnica                 0.555279               1.000000   \ninstabilidade_tarefa                  0.548419               0.500395   \n\n                          instabilidade_tarefa  \nidade                                 0.006292  \nanoFormacao                          -0.036604  \nexistenciaProjeto                     0.054758  \nmesesNoProjeto                        0.197101  \nGerenciamento_Stress                 -0.025156  \nResolucao_Problemas                  -0.005003  \nGerenciamento_Emergencia             -0.008335  \nAprendizado                          -0.085648  \nInterpersoal                         -0.080357  \nsatisfacao                           -0.192245  \nBurnout_cinismo                       0.313556  \nBurnout_exaustao                      0.297042  \nBurnout_eficacia                     -0.056867  \ninstabilidade_equipe                  0.548419  \ninstabilidade_tecnica                 0.500395  \ninstabilidade_tarefa                  1.000000  ",
      "text/html": "<div>\n<style scoped>\n    .dataframe tbody tr th:only-of-type {\n        vertical-align: middle;\n    }\n\n    .dataframe tbody tr th {\n        vertical-align: top;\n    }\n\n    .dataframe thead th {\n        text-align: right;\n    }\n</style>\n<table border=\"1\" class=\"dataframe\">\n  <thead>\n    <tr style=\"text-align: right;\">\n      <th></th>\n      <th>idade</th>\n      <th>anoFormacao</th>\n      <th>existenciaProjeto</th>\n      <th>mesesNoProjeto</th>\n      <th>Gerenciamento_Stress</th>\n      <th>Resolucao_Problemas</th>\n      <th>Gerenciamento_Emergencia</th>\n      <th>Aprendizado</th>\n      <th>Interpersoal</th>\n      <th>satisfacao</th>\n      <th>Burnout_cinismo</th>\n      <th>Burnout_exaustao</th>\n      <th>Burnout_eficacia</th>\n      <th>instabilidade_equipe</th>\n      <th>instabilidade_tecnica</th>\n      <th>instabilidade_tarefa</th>\n    </tr>\n  </thead>\n  <tbody>\n    <tr>\n      <th>idade</th>\n      <td>1.000000</td>\n      <td>-0.604246</td>\n      <td>-0.038008</td>\n      <td>0.044196</td>\n      <td>0.065809</td>\n      <td>0.092102</td>\n      <td>0.091165</td>\n      <td>0.034707</td>\n      <td>-0.031924</td>\n      <td>0.054575</td>\n      <td>-0.054297</td>\n      <td>-0.090982</td>\n      <td>0.093197</td>\n      <td>-0.015137</td>\n      <td>-0.053131</td>\n      <td>0.006292</td>\n    </tr>\n    <tr>\n      <th>anoFormacao</th>\n      <td>-0.604246</td>\n      <td>1.000000</td>\n      <td>-0.055865</td>\n      <td>-0.091173</td>\n      <td>-0.064939</td>\n      <td>-0.056600</td>\n      <td>-0.042132</td>\n      <td>0.033917</td>\n      <td>0.056489</td>\n      <td>0.049757</td>\n      <td>-0.015188</td>\n      <td>0.037997</td>\n      <td>-0.011791</td>\n      <td>0.059261</td>\n      <td>0.105344</td>\n      <td>-0.036604</td>\n    </tr>\n    <tr>\n      <th>existenciaProjeto</th>\n      <td>-0.038008</td>\n      <td>-0.055865</td>\n      <td>1.000000</td>\n      <td>0.649208</td>\n      <td>-0.022284</td>\n      <td>0.026260</td>\n      <td>-0.018407</td>\n      <td>-0.087585</td>\n      <td>-0.017734</td>\n      <td>-0.065681</td>\n      <td>0.041288</td>\n      <td>0.014865</td>\n      <td>-0.072429</td>\n      <td>0.099525</td>\n      <td>-0.019686</td>\n      <td>0.054758</td>\n    </tr>\n    <tr>\n      <th>mesesNoProjeto</th>\n      <td>0.044196</td>\n      <td>-0.091173</td>\n      <td>0.649208</td>\n      <td>1.000000</td>\n      <td>0.010975</td>\n      <td>0.035419</td>\n      <td>0.059108</td>\n      <td>-0.111965</td>\n      <td>-0.041723</td>\n      <td>-0.085080</td>\n      <td>0.052443</td>\n      <td>0.038085</td>\n      <td>-0.005952</td>\n      <td>0.133626</td>\n      <td>0.019895</td>\n      <td>0.197101</td>\n    </tr>\n    <tr>\n      <th>Gerenciamento_Stress</th>\n      <td>0.065809</td>\n      <td>-0.064939</td>\n      <td>-0.022284</td>\n      <td>0.010975</td>\n      <td>1.000000</td>\n      <td>0.525293</td>\n      <td>0.556379</td>\n      <td>0.448070</td>\n      <td>0.458993</td>\n      <td>0.267727</td>\n      <td>-0.215274</td>\n      <td>-0.243816</td>\n      <td>0.396173</td>\n      <td>-0.010342</td>\n      <td>-0.095346</td>\n      <td>-0.025156</td>\n    </tr>\n    <tr>\n      <th>Resolucao_Problemas</th>\n      <td>0.092102</td>\n      <td>-0.056600</td>\n      <td>0.026260</td>\n      <td>0.035419</td>\n      <td>0.525293</td>\n      <td>1.000000</td>\n      <td>0.514446</td>\n      <td>0.501237</td>\n      <td>0.401678</td>\n      <td>0.221208</td>\n      <td>-0.192388</td>\n      <td>-0.213846</td>\n      <td>0.392838</td>\n      <td>-0.045055</td>\n      <td>-0.056322</td>\n      <td>-0.005003</td>\n    </tr>\n    <tr>\n      <th>Gerenciamento_Emergencia</th>\n      <td>0.091165</td>\n      <td>-0.042132</td>\n      <td>-0.018407</td>\n      <td>0.059108</td>\n      <td>0.556379</td>\n      <td>0.514446</td>\n      <td>1.000000</td>\n      <td>0.394188</td>\n      <td>0.409914</td>\n      <td>0.229737</td>\n      <td>-0.204450</td>\n      <td>-0.181903</td>\n      <td>0.429710</td>\n      <td>-0.003442</td>\n      <td>-0.033127</td>\n      <td>-0.008335</td>\n    </tr>\n    <tr>\n      <th>Aprendizado</th>\n      <td>0.034707</td>\n      <td>0.033917</td>\n      <td>-0.087585</td>\n      <td>-0.111965</td>\n      <td>0.448070</td>\n      <td>0.501237</td>\n      <td>0.394188</td>\n      <td>1.000000</td>\n      <td>0.449534</td>\n      <td>0.284316</td>\n      <td>-0.284004</td>\n      <td>-0.278572</td>\n      <td>0.399860</td>\n      <td>-0.029575</td>\n      <td>-0.027662</td>\n      <td>-0.085648</td>\n    </tr>\n    <tr>\n      <th>Interpersoal</th>\n      <td>-0.031924</td>\n      <td>0.056489</td>\n      <td>-0.017734</td>\n      <td>-0.041723</td>\n      <td>0.458993</td>\n      <td>0.401678</td>\n      <td>0.409914</td>\n      <td>0.449534</td>\n      <td>1.000000</td>\n      <td>0.266218</td>\n      <td>-0.219447</td>\n      <td>-0.129538</td>\n      <td>0.285237</td>\n      <td>-0.071646</td>\n      <td>-0.063020</td>\n      <td>-0.080357</td>\n    </tr>\n    <tr>\n      <th>satisfacao</th>\n      <td>0.054575</td>\n      <td>0.049757</td>\n      <td>-0.065681</td>\n      <td>-0.085080</td>\n      <td>0.267727</td>\n      <td>0.221208</td>\n      <td>0.229737</td>\n      <td>0.284316</td>\n      <td>0.266218</td>\n      <td>1.000000</td>\n      <td>-0.710960</td>\n      <td>-0.609203</td>\n      <td>0.642285</td>\n      <td>-0.233699</td>\n      <td>-0.155883</td>\n      <td>-0.192245</td>\n    </tr>\n    <tr>\n      <th>Burnout_cinismo</th>\n      <td>-0.054297</td>\n      <td>-0.015188</td>\n      <td>0.041288</td>\n      <td>0.052443</td>\n      <td>-0.215274</td>\n      <td>-0.192388</td>\n      <td>-0.204450</td>\n      <td>-0.284004</td>\n      <td>-0.219447</td>\n      <td>-0.710960</td>\n      <td>1.000000</td>\n      <td>0.684681</td>\n      <td>-0.554259</td>\n      <td>0.329457</td>\n      <td>0.276608</td>\n      <td>0.313556</td>\n    </tr>\n    <tr>\n      <th>Burnout_exaustao</th>\n      <td>-0.090982</td>\n      <td>0.037997</td>\n      <td>0.014865</td>\n      <td>0.038085</td>\n      <td>-0.243816</td>\n      <td>-0.213846</td>\n      <td>-0.181903</td>\n      <td>-0.278572</td>\n      <td>-0.129538</td>\n      <td>-0.609203</td>\n      <td>0.684681</td>\n      <td>1.000000</td>\n      <td>-0.464694</td>\n      <td>0.294022</td>\n      <td>0.217050</td>\n      <td>0.297042</td>\n    </tr>\n    <tr>\n      <th>Burnout_eficacia</th>\n      <td>0.093197</td>\n      <td>-0.011791</td>\n      <td>-0.072429</td>\n      <td>-0.005952</td>\n      <td>0.396173</td>\n      <td>0.392838</td>\n      <td>0.429710</td>\n      <td>0.399860</td>\n      <td>0.285237</td>\n      <td>0.642285</td>\n      <td>-0.554259</td>\n      <td>-0.464694</td>\n      <td>1.000000</td>\n      <td>-0.101131</td>\n      <td>-0.084689</td>\n      <td>-0.056867</td>\n    </tr>\n    <tr>\n      <th>instabilidade_equipe</th>\n      <td>-0.015137</td>\n      <td>0.059261</td>\n      <td>0.099525</td>\n      <td>0.133626</td>\n      <td>-0.010342</td>\n      <td>-0.045055</td>\n      <td>-0.003442</td>\n      <td>-0.029575</td>\n      <td>-0.071646</td>\n      <td>-0.233699</td>\n      <td>0.329457</td>\n      <td>0.294022</td>\n      <td>-0.101131</td>\n      <td>1.000000</td>\n      <td>0.555279</td>\n      <td>0.548419</td>\n    </tr>\n    <tr>\n      <th>instabilidade_tecnica</th>\n      <td>-0.053131</td>\n      <td>0.105344</td>\n      <td>-0.019686</td>\n      <td>0.019895</td>\n      <td>-0.095346</td>\n      <td>-0.056322</td>\n      <td>-0.033127</td>\n      <td>-0.027662</td>\n      <td>-0.063020</td>\n      <td>-0.155883</td>\n      <td>0.276608</td>\n      <td>0.217050</td>\n      <td>-0.084689</td>\n      <td>0.555279</td>\n      <td>1.000000</td>\n      <td>0.500395</td>\n    </tr>\n    <tr>\n      <th>instabilidade_tarefa</th>\n      <td>0.006292</td>\n      <td>-0.036604</td>\n      <td>0.054758</td>\n      <td>0.197101</td>\n      <td>-0.025156</td>\n      <td>-0.005003</td>\n      <td>-0.008335</td>\n      <td>-0.085648</td>\n      <td>-0.080357</td>\n      <td>-0.192245</td>\n      <td>0.313556</td>\n      <td>0.297042</td>\n      <td>-0.056867</td>\n      <td>0.548419</td>\n      <td>0.500395</td>\n      <td>1.000000</td>\n    </tr>\n  </tbody>\n</table>\n</div>"
     },
     "execution_count": 115,
     "metadata": {},
     "output_type": "execute_result"
    }
   ],
   "source": [
    "\n",
    "dados['Gerenciamento_Stress'] = (dados['S1']+dados['S2']+dados['S3'])/3\n",
    "dados['Resolucao_Problemas'] = (dados['C1']+dados['C2']+dados['C3']+dados['C4'])/4\n",
    "dados['Gerenciamento_Emergencia'] = (dados['EM1']+dados['EM2']+dados['EM3'])/3\n",
    "dados['Aprendizado'] = (dados['T1']+dados['T2']+dados['T3']+dados['T4'])/4\n",
    "dados['Interpersoal'] = (dados['I1']+dados['I2']+dados['I3']+dados['I4'])/4\n",
    "dados['satisfacao']= (dados['sat1']+dados['sat2']+dados['satXet6'])/3\n",
    "dados['Burnout_cinismo'] = (dados['ci1']+dados['ci2']+dados['ci3']+dados['ci4'])/4\n",
    "dados['Burnout_exaustao'] = (dados['ee1']+dados['ee2']+dados['ee3']+dados['ee5']+dados['ee6'])/6\n",
    "dados['Burnout_eficacia'] = (dados['et1']+dados['et2']+dados['et3']+dados['et4']+dados['et5']+dados['satXet6'])/6\n",
    "dados['instabilidade_equipe'] = (dados['equipe1']+dados['equipe2']+dados['equipe3']+dados['equipe4'])/4\n",
    "dados['instabilidade_tecnica'] = (dados['tec1']+dados['tec2']+dados['tec3']+dados['tec4'])/4\n",
    "dados['instabilidade_tarefa'] = (dados['reque1']+dados['reque2']+dados['reque3']+dados['req4']+dados['req5']+dados['req6']+dados['req7'])/7\n",
    "\n",
    "dados.columns\n",
    "\n",
    "labels = ['@12.Emrelaçãoassuascaracterísticasporfavorresponda', 'S1', 'S2', 'S3',\n",
    "          'C2', 'C3', 'C4', 'C1', 'EM4', 'EM1', 'EM3', 'EM2', 'T3', 'T1', 'T4',\n",
    "          'T2', 'I2', 'I1', 'I4', 'I3',\n",
    "          '@13.Pararesponderasquestõesabaixoconsidereseuprojetoatua', 'equipe1',\n",
    "          'reque1', 'reque2', 'reque3', 'tec1', 'req4', 'tec2', 'tec3', 'tec4',\n",
    "          'req5', 'equipe2', 'equipe3', 'req6', 'tec5', 'tec6', 'req7', 'equipe4',\n",
    "          '@14.Emrelaçãoaoseudiaadiadotrabalho', 'ci2', 'et6', 'ci3', 'satXet6',\n",
    "          'ee6', 'ee2', 'et5', 'ci1', 'et4', 'ee1', 'et1', 'et2', 'et3', 'ee3',\n",
    "          'ci4', 'ee5', '@15.Emrelaçãoasuasatisfaçãocomotrabalho', 'sat1', 'sat2']\n",
    "dados.drop(columns = labels, inplace=True)\n",
    "dados.columns\n",
    "dados.corr(method='spearman')"
   ],
   "metadata": {
    "collapsed": false,
    "pycharm": {
     "name": "#%%\n"
    }
   }
  },
  {
   "cell_type": "markdown",
   "source": [
    "Será que existem diferenças entre os níveis de adaptação, satisfação e burnout entre homens e mulheres?\n",
    "\n"
   ],
   "metadata": {
    "collapsed": false,
    "pycharm": {
     "name": "#%% md\n"
    }
   }
  },
  {
   "cell_type": "code",
   "execution_count": 116,
   "outputs": [
    {
     "name": "stdout",
     "output_type": "stream",
     "text": [
      "Masculino\n",
      "            idade  anoFormacao  existenciaProjeto  mesesNoProjeto  \\\n",
      "count  380.000000   380.000000         380.000000      380.000000   \n",
      "mean    29.639474  1994.665789          25.023684       10.632895   \n",
      "std      6.392940   206.063638          40.615540       15.289471   \n",
      "min     18.000000     0.000000           0.000000        0.000000   \n",
      "25%     25.000000  2014.000000           5.000000        3.000000   \n",
      "50%     29.000000  2017.000000          12.000000        6.000000   \n",
      "75%     33.000000  2019.000000          24.000000       12.000000   \n",
      "max     56.000000  2024.000000         360.000000      126.000000   \n",
      "\n",
      "       Gerenciamento_Stress  Resolucao_Problemas  Gerenciamento_Emergencia  \\\n",
      "count            380.000000           380.000000                380.000000   \n",
      "mean               5.698246             5.615789                  5.520175   \n",
      "std                0.897991             0.923392                  0.979653   \n",
      "min                2.666667             1.750000                  2.666667   \n",
      "25%                5.000000             5.000000                  5.000000   \n",
      "50%                5.833333             5.750000                  5.666667   \n",
      "75%                6.333333             6.250000                  6.333333   \n",
      "max                7.000000             7.000000                  7.000000   \n",
      "\n",
      "       Aprendizado  Interpersoal  satisfacao  Burnout_cinismo  \\\n",
      "count   379.000000    380.000000  344.000000       344.000000   \n",
      "mean      5.810686      6.219737    5.366279         2.365552   \n",
      "std       0.917718      0.682474    1.398162         1.348354   \n",
      "min       1.750000      3.250000    1.000000         1.000000   \n",
      "25%       5.250000      5.750000    4.583333         1.250000   \n",
      "50%       5.750000      6.250000    5.666667         2.000000   \n",
      "75%       6.500000      6.750000    6.333333         3.250000   \n",
      "max       7.000000      7.000000    7.000000         7.000000   \n",
      "\n",
      "       Burnout_exaustao  Burnout_eficacia  instabilidade_equipe  \\\n",
      "count        343.000000        344.000000            355.000000   \n",
      "mean           2.842566          5.000000              3.864085   \n",
      "std            1.327410          0.737601              1.299722   \n",
      "min            0.833333          2.500000              1.000000   \n",
      "25%            1.666667          4.500000              2.750000   \n",
      "50%            2.666667          5.000000              3.750000   \n",
      "75%            3.666667          5.500000              4.750000   \n",
      "max            5.833333          6.833333              7.000000   \n",
      "\n",
      "       instabilidade_tecnica  instabilidade_tarefa  \n",
      "count             355.000000            354.000000  \n",
      "mean                3.783803              4.758676  \n",
      "std                 1.285616              1.279422  \n",
      "min                 1.000000              1.142857  \n",
      "25%                 2.750000              3.892857  \n",
      "50%                 3.750000              4.857143  \n",
      "75%                 4.750000              5.678571  \n",
      "max                 7.000000              7.000000  \n",
      "-------------------------------\n",
      "Feminino\n",
      "           idade  anoFormacao  existenciaProjeto  mesesNoProjeto  \\\n",
      "count  72.000000    72.000000          72.000000       72.000000   \n",
      "mean   29.305556  2016.666667          41.680556       10.694444   \n",
      "std     7.799673     4.093967         123.987258       16.198278   \n",
      "min    19.000000  2002.000000           0.000000        0.000000   \n",
      "25%    24.000000  2015.000000           5.000000        2.750000   \n",
      "50%    27.000000  2018.000000          11.500000        6.000000   \n",
      "75%    31.500000  2020.000000          25.000000       11.250000   \n",
      "max    59.000000  2022.000000        1000.000000      110.000000   \n",
      "\n",
      "       Gerenciamento_Stress  Resolucao_Problemas  Gerenciamento_Emergencia  \\\n",
      "count             72.000000            72.000000                 72.000000   \n",
      "mean               5.375000             5.190972                  5.356481   \n",
      "std                1.178760             0.922616                  1.005970   \n",
      "min                2.000000             3.000000                  2.333333   \n",
      "25%                4.666667             4.500000                  4.916667   \n",
      "50%                5.666667             5.250000                  5.500000   \n",
      "75%                6.333333             6.000000                  6.000000   \n",
      "max                7.000000             7.000000                  7.000000   \n",
      "\n",
      "       Aprendizado  Interpersoal  satisfacao  Burnout_cinismo  \\\n",
      "count    72.000000     72.000000   69.000000        69.000000   \n",
      "mean      5.722222      6.048611    5.043478         2.782609   \n",
      "std       0.837665      0.781204    1.540216         1.585152   \n",
      "min       3.750000      4.000000    1.000000         1.000000   \n",
      "25%       5.187500      5.500000    4.333333         1.250000   \n",
      "50%       5.750000      6.250000    5.333333         2.250000   \n",
      "75%       6.250000      6.750000    6.333333         3.750000   \n",
      "max       7.000000      7.000000    7.000000         6.750000   \n",
      "\n",
      "       Burnout_exaustao  Burnout_eficacia  instabilidade_equipe  \\\n",
      "count         69.000000         69.000000             69.000000   \n",
      "mean           3.173913          4.862319              4.221014   \n",
      "std            1.426132          0.764808              1.428785   \n",
      "min            0.833333          3.166667              1.250000   \n",
      "25%            2.000000          4.333333              3.250000   \n",
      "50%            3.000000          4.833333              4.250000   \n",
      "75%            4.333333          5.500000              5.250000   \n",
      "max            5.833333          6.000000              7.000000   \n",
      "\n",
      "       instabilidade_tecnica  instabilidade_tarefa  \n",
      "count              69.000000             69.000000  \n",
      "mean                4.275362              5.086957  \n",
      "std                 1.268354              1.255532  \n",
      "min                 1.000000              1.714286  \n",
      "25%                 3.500000              4.285714  \n",
      "50%                 4.250000              5.428571  \n",
      "75%                 5.250000              6.000000  \n",
      "max                 7.000000              7.000000  \n"
     ]
    }
   ],
   "source": [
    "dados_masculinos = dados.query(\"sexo == 'Masculino'\")\n",
    "dados_femininos = dados.query(\"sexo == 'Feminino'\")\n",
    "print (\"Masculino\")\n",
    "print (dados_masculinos.describe())\n",
    "print(\"-------------------------------\")\n",
    "print(\"Feminino\")\n",
    "print (dados_femininos.describe())"
   ],
   "metadata": {
    "collapsed": false,
    "pycharm": {
     "name": "#%%\n"
    }
   }
  },
  {
   "cell_type": "markdown",
   "source": [
    "Mulheres 72\n",
    "Homens 380"
   ],
   "metadata": {
    "collapsed": false,
    "pycharm": {
     "name": "#%% md\n"
    }
   }
  },
  {
   "cell_type": "code",
   "execution_count": 117,
   "outputs": [
    {
     "name": "stdout",
     "output_type": "stream",
     "text": [
      "Valor de rho 12210.5\n",
      "Valor de pvalue 0.07388305351005788\n"
     ]
    },
    {
     "data": {
      "text/plain": "<module 'matplotlib.pyplot' from '/home/danilo/anaconda3/lib/python3.8/site-packages/matplotlib/pyplot.py'>"
     },
     "execution_count": 117,
     "metadata": {},
     "output_type": "execute_result"
    },
    {
     "data": {
      "text/plain": "<Figure size 432x288 with 1 Axes>",
      "image/png": "[encoded data removed]"
     },
     "metadata": {
      "needs_background": "light"
     },
     "output_type": "display_data"
    }
   ],
   "source": [
    "def verificacao_diferenca (dados1,dados2):\n",
    "    rho, pvalue = mannwhitneyu(dados1,dados2)\n",
    "    print (\"Valor de rho\", rho)\n",
    "    print (\"Valor de pvalue\", pvalue)\n",
    "    plt.boxplot([dados1.dropna(),dados2.dropna()])\n",
    "    plt\n",
    "\n",
    "\n",
    "#verificacao_diferenca(dados_masculinos.satisfacao,dados_femininos.satisfacao)\n",
    "verificacao_diferenca(dados_masculinos.instabilidade_equipe,dados_femininos.instabilidade_equipe)\n",
    "\n",
    "dados_masculinos.instabilidade_equipe\n",
    "plt.boxplot([dados_masculinos.instabilidade_equipe.dropna(),dados_femininos.instabilidade_equipe.dropna()])\n",
    "plt"
   ],
   "metadata": {
    "collapsed": false,
    "pycharm": {
     "name": "#%%\n"
    }
   }
  },
  {
   "cell_type": "code",
   "execution_count": 118,
   "outputs": [
    {
     "data": {
      "text/plain": "count    453.000000\nmean      29.593819\nstd        6.623113\nmin       18.000000\n25%       25.000000\n50%       28.000000\n75%       33.000000\nmax       59.000000\nName: idade, dtype: float64"
     },
     "execution_count": 118,
     "metadata": {},
     "output_type": "execute_result"
    }
   ],
   "source": [
    "dados.idade.describe()"
   ],
   "metadata": {
    "collapsed": false,
    "pycharm": {
     "name": "#%%\n"
    }
   }
  },
  {
   "cell_type": "code",
   "execution_count": 118,
   "outputs": [],
   "source": [],
   "metadata": {
    "collapsed": false,
    "pycharm": {
     "name": "#%%\n"
    }
   }
  }
 ],
 "metadata": {
  "kernelspec": {
   "display_name": "Python 3",
   "language": "python",
   "name": "python3"
  },
  "language_info": {
   "codemirror_mode": {
    "name": "ipython",
    "version": 2
   },
   "file_extension": ".py",
   "mimetype": "text/x-python",
   "name": "python",
   "nbconvert_exporter": "python",
   "pygments_lexer": "ipython2",
   "version": "2.7.6"
  }
 },
 "nbformat": 4,
 "nbformat_minor": 0
}