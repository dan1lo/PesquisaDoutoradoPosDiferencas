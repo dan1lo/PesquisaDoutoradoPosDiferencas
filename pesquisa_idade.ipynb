{
 "cells": [
  {
   "cell_type": "markdown",
   "source": [
    "Perguntas de pesquisa que irão guiar essa investigação\n",
    "\n",
    "Será que existem diferenças entre os níveis de adaptação, satisfação e burnout entre homens e mulheres?\n",
    "Será que existem diferenças entre os níveis de adaptação, satisfação e burnout entre os níveis e formação ?\n",
    "Será que existem diferenças entre os níveis de adaptação, satisfação e burnout entre pessoas mais e menos experientes ?\n",
    "Será que existem diferenças enrtre os níveis de adaptação, satisfação e burnout entre pessoas mais velhas e mais novas?\n",
    "Será que existem diferenças entre os níveis de adaptação, satisfação e burnout e as funções realizadas nos projetos?"
   ],
   "metadata": {
    "collapsed": false,
    "pycharm": {
     "name": "#%% md\n"
    }
   }
  },
  {
   "cell_type": "code",
   "execution_count": 17,
   "outputs": [
    {
     "data": {
      "text/plain": "       sexo  idade             formacao                   curso  anoFormacao  \\\n0  Feminino     31       Especialização             Agronegócio         2017   \n1  Feminino     59            Doutorado   Ciência da computação         2019   \n2  Feminino     35  Superior incompleto  Sistemas de Informação         2019   \n3  Feminino     28  Superior incompleto   Ciência da computação         2021   \n4  Feminino     39            Doutorado   Ciência da computação         2021   \n\n  tempoProfissional tempoFuncao         funcao  metodologia  \\\n0                11           2  Product Owner         Ágil   \n1                20          15        Gerente      Híbrida   \n2                 1           1  Desenvolvedor  Tradicional   \n3                10           1  Desenvolvedor         Ágil   \n4                10           7       Analista         Ágil   \n\n   existenciaProjeto  ...  ee1  et1  et2  et3  ee3  ci4  ee5  \\\n0                  6  ...  1.0  7.0  7.0  7.0  2.0  1.0  2.0   \n1                 18  ...  1.0  7.0  7.0  7.0  1.0  1.0  1.0   \n2                 12  ...  2.0  7.0  6.0  5.0  2.0  1.0  1.0   \n3                  6  ...  1.0  7.0  7.0  6.0  2.0  1.0  4.0   \n4                  0  ...  4.0  7.0  7.0  5.0  7.0  1.0  7.0   \n\n   @15.Emrelaçãoasuasatisfaçãocomotrabalho  sat1  sat2  \n0                                      NaN   7.0   7.0  \n1                                      NaN   6.0   7.0  \n2                                      NaN   4.0   4.0  \n3                                      NaN   7.0   7.0  \n4                                      NaN   7.0   7.0  \n\n[5 rows x 69 columns]",
      "text/html": "<div>\n<style scoped>\n    .dataframe tbody tr th:only-of-type {\n        vertical-align: middle;\n    }\n\n    .dataframe tbody tr th {\n        vertical-align: top;\n    }\n\n    .dataframe thead th {\n        text-align: right;\n    }\n</style>\n<table border=\"1\" class=\"dataframe\">\n  <thead>\n    <tr style=\"text-align: right;\">\n      <th></th>\n      <th>sexo</th>\n      <th>idade</th>\n      <th>formacao</th>\n      <th>curso</th>\n      <th>anoFormacao</th>\n      <th>tempoProfissional</th>\n      <th>tempoFuncao</th>\n      <th>funcao</th>\n      <th>metodologia</th>\n      <th>existenciaProjeto</th>\n      <th>...</th>\n      <th>ee1</th>\n      <th>et1</th>\n      <th>et2</th>\n      <th>et3</th>\n      <th>ee3</th>\n      <th>ci4</th>\n      <th>ee5</th>\n      <th>@15.Emrelaçãoasuasatisfaçãocomotrabalho</th>\n      <th>sat1</th>\n      <th>sat2</th>\n    </tr>\n  </thead>\n  <tbody>\n    <tr>\n      <th>0</th>\n      <td>Feminino</td>\n      <td>31</td>\n      <td>Especialização</td>\n      <td>Agronegócio</td>\n      <td>2017</td>\n      <td>11</td>\n      <td>2</td>\n      <td>Product Owner</td>\n      <td>Ágil</td>\n      <td>6</td>\n      <td>...</td>\n      <td>1.0</td>\n      <td>7.0</td>\n      <td>7.0</td>\n      <td>7.0</td>\n      <td>2.0</td>\n      <td>1.0</td>\n      <td>2.0</td>\n      <td>NaN</td>\n      <td>7.0</td>\n      <td>7.0</td>\n    </tr>\n    <tr>\n      <th>1</th>\n      <td>Feminino</td>\n      <td>59</td>\n      <td>Doutorado</td>\n      <td>Ciência da computação</td>\n      <td>2019</td>\n      <td>20</td>\n      <td>15</td>\n      <td>Gerente</td>\n      <td>Híbrida</td>\n      <td>18</td>\n      <td>...</td>\n      <td>1.0</td>\n      <td>7.0</td>\n      <td>7.0</td>\n      <td>7.0</td>\n      <td>1.0</td>\n      <td>1.0</td>\n      <td>1.0</td>\n      <td>NaN</td>\n      <td>6.0</td>\n      <td>7.0</td>\n    </tr>\n    <tr>\n      <th>2</th>\n      <td>Feminino</td>\n      <td>35</td>\n      <td>Superior incompleto</td>\n      <td>Sistemas de Informação</td>\n      <td>2019</td>\n      <td>1</td>\n      <td>1</td>\n      <td>Desenvolvedor</td>\n      <td>Tradicional</td>\n      <td>12</td>\n      <td>...</td>\n      <td>2.0</td>\n      <td>7.0</td>\n      <td>6.0</td>\n      <td>5.0</td>\n      <td>2.0</td>\n      <td>1.0</td>\n      <td>1.0</td>\n      <td>NaN</td>\n      <td>4.0</td>\n      <td>4.0</td>\n    </tr>\n    <tr>\n      <th>3</th>\n      <td>Feminino</td>\n      <td>28</td>\n      <td>Superior incompleto</td>\n      <td>Ciência da computação</td>\n      <td>2021</td>\n      <td>10</td>\n      <td>1</td>\n      <td>Desenvolvedor</td>\n      <td>Ágil</td>\n      <td>6</td>\n      <td>...</td>\n      <td>1.0</td>\n      <td>7.0</td>\n      <td>7.0</td>\n      <td>6.0</td>\n      <td>2.0</td>\n      <td>1.0</td>\n      <td>4.0</td>\n      <td>NaN</td>\n      <td>7.0</td>\n      <td>7.0</td>\n    </tr>\n    <tr>\n      <th>4</th>\n      <td>Feminino</td>\n      <td>39</td>\n      <td>Doutorado</td>\n      <td>Ciência da computação</td>\n      <td>2021</td>\n      <td>10</td>\n      <td>7</td>\n      <td>Analista</td>\n      <td>Ágil</td>\n      <td>0</td>\n      <td>...</td>\n      <td>4.0</td>\n      <td>7.0</td>\n      <td>7.0</td>\n      <td>5.0</td>\n      <td>7.0</td>\n      <td>1.0</td>\n      <td>7.0</td>\n      <td>NaN</td>\n      <td>7.0</td>\n      <td>7.0</td>\n    </tr>\n  </tbody>\n</table>\n<p>5 rows × 69 columns</p>\n</div>"
     },
     "execution_count": 17,
     "metadata": {},
     "output_type": "execute_result"
    }
   ],
   "source": [
    "import pandas as pd\n",
    "\n",
    "dados = pd.read_excel('/home/danilo/Documentos/GitHub/PesquisaIdade/data/idade.xlsx')\n",
    "dados.head()\n"
   ],
   "metadata": {
    "collapsed": false,
    "pycharm": {
     "name": "#%%\n"
    }
   }
  },
  {
   "cell_type": "markdown",
   "source": [
    "Será que existem diferenças entre os níveis de adaptação, satisfação e burnout entre homens e mulheres?\n",
    "\n"
   ],
   "metadata": {
    "collapsed": false,
    "pycharm": {
     "name": "#%% md\n"
    }
   }
  },
  {
   "cell_type": "code",
   "execution_count": 21,
   "outputs": [
    {
     "name": "stdout",
     "output_type": "stream",
     "text": [
      "Masculino\n",
      "            idade  anoFormacao  existenciaProjeto  mesesNoProjeto  \\\n",
      "count  380.000000   380.000000         380.000000      380.000000   \n",
      "mean    29.639474  1994.665789          25.023684       10.632895   \n",
      "std      6.392940   206.063638          40.615540       15.289471   \n",
      "min     18.000000     0.000000           0.000000        0.000000   \n",
      "25%     25.000000  2014.000000           5.000000        3.000000   \n",
      "50%     29.000000  2017.000000          12.000000        6.000000   \n",
      "75%     33.000000  2019.000000          24.000000       12.000000   \n",
      "max     56.000000  2024.000000         360.000000      126.000000   \n",
      "\n",
      "       @12.Emrelaçãoassuascaracterísticasporfavorresponda          S1  \\\n",
      "count                                                0.0   380.000000   \n",
      "mean                                                 NaN     5.652632   \n",
      "std                                                  NaN     1.285342   \n",
      "min                                                  NaN     1.000000   \n",
      "25%                                                  NaN     5.000000   \n",
      "50%                                                  NaN     6.000000   \n",
      "75%                                                  NaN     7.000000   \n",
      "max                                                  NaN     7.000000   \n",
      "\n",
      "               S2          S3          C2          C3  ...         ee1  \\\n",
      "count  380.000000  380.000000  380.000000  380.000000  ...  344.000000   \n",
      "mean     6.131579    5.310526    5.644737    5.707895  ...    2.793605   \n",
      "std      1.051975    1.400488    1.369706    1.207470  ...    1.964960   \n",
      "min      2.000000    1.000000    1.000000    1.000000  ...    1.000000   \n",
      "25%      6.000000    4.000000    5.000000    5.000000  ...    1.000000   \n",
      "50%      6.000000    6.000000    6.000000    6.000000  ...    2.000000   \n",
      "75%      7.000000    6.000000    7.000000    7.000000  ...    4.000000   \n",
      "max      7.000000    7.000000    7.000000    7.000000  ...    7.000000   \n",
      "\n",
      "              et1         et2         et3         ee3         ci4         ee5  \\\n",
      "count  344.000000  344.000000  344.000000  343.000000  344.000000  344.000000   \n",
      "mean     6.180233    5.590116    5.540698    3.419825    1.875000    3.933140   \n",
      "std      1.210770    1.499472    1.288467    2.103704    1.505699    2.125413   \n",
      "min      1.000000    1.000000    1.000000    1.000000    1.000000    1.000000   \n",
      "25%      6.000000    5.000000    5.000000    2.000000    1.000000    2.000000   \n",
      "50%      7.000000    6.000000    6.000000    3.000000    1.000000    4.000000   \n",
      "75%      7.000000    7.000000    7.000000    5.000000    2.000000    6.000000   \n",
      "max      7.000000    7.000000    7.000000    7.000000    7.000000    7.000000   \n",
      "\n",
      "       @15.Emrelaçãoasuasatisfaçãocomotrabalho        sat1        sat2  \n",
      "count                                      0.0  344.000000  344.000000  \n",
      "mean                                       NaN    5.363372    5.607558  \n",
      "std                                        NaN    1.524894    1.525316  \n",
      "min                                        NaN    1.000000    1.000000  \n",
      "25%                                        NaN    4.750000    5.000000  \n",
      "50%                                        NaN    6.000000    6.000000  \n",
      "75%                                        NaN    7.000000    7.000000  \n",
      "max                                        NaN    7.000000    7.000000  \n",
      "\n",
      "[8 rows x 62 columns]\n",
      "-------------------------------\n",
      "Feminino\n",
      "           idade  anoFormacao  existenciaProjeto  mesesNoProjeto  \\\n",
      "count  72.000000    72.000000          72.000000       72.000000   \n",
      "mean   29.305556  2016.666667          41.680556       10.694444   \n",
      "std     7.799673     4.093967         123.987258       16.198278   \n",
      "min    19.000000  2002.000000           0.000000        0.000000   \n",
      "25%    24.000000  2015.000000           5.000000        2.750000   \n",
      "50%    27.000000  2018.000000          11.500000        6.000000   \n",
      "75%    31.500000  2020.000000          25.000000       11.250000   \n",
      "max    59.000000  2022.000000        1000.000000      110.000000   \n",
      "\n",
      "       @12.Emrelaçãoassuascaracterísticasporfavorresponda         S1  \\\n",
      "count                                                0.0   72.000000   \n",
      "mean                                                 NaN    5.263889   \n",
      "std                                                  NaN    1.433926   \n",
      "min                                                  NaN    1.000000   \n",
      "25%                                                  NaN    4.000000   \n",
      "50%                                                  NaN    6.000000   \n",
      "75%                                                  NaN    6.000000   \n",
      "max                                                  NaN    7.000000   \n",
      "\n",
      "              S2         S3         C2         C3  ...        ee1        et1  \\\n",
      "count  72.000000  72.000000  72.000000  72.000000  ...  69.000000  69.000000   \n",
      "mean    5.916667   4.944444   5.069444   5.458333  ...   3.144928   6.173913   \n",
      "std     1.218981   1.564473   1.377141   1.186040  ...   2.177933   1.084063   \n",
      "min     2.000000   1.000000   1.000000   1.000000  ...   1.000000   3.000000   \n",
      "25%     5.000000   4.000000   4.000000   5.000000  ...   1.000000   6.000000   \n",
      "50%     6.000000   5.000000   5.000000   6.000000  ...   2.000000   7.000000   \n",
      "75%     7.000000   6.000000   6.000000   6.000000  ...   5.000000   7.000000   \n",
      "max     7.000000   7.000000   7.000000   7.000000  ...   7.000000   7.000000   \n",
      "\n",
      "             et2        et3        ee3        ci4        ee5  \\\n",
      "count  69.000000  69.000000  69.000000  69.000000  69.000000   \n",
      "mean    5.101449   5.318841   4.144928   2.202899   4.463768   \n",
      "std     1.716228   1.419328   2.204777   1.728479   2.159655   \n",
      "min     1.000000   2.000000   1.000000   1.000000   1.000000   \n",
      "25%     4.000000   4.000000   2.000000   1.000000   3.000000   \n",
      "50%     5.000000   5.000000   4.000000   1.000000   5.000000   \n",
      "75%     7.000000   7.000000   6.000000   3.000000   7.000000   \n",
      "max     7.000000   7.000000   7.000000   7.000000   7.000000   \n",
      "\n",
      "       @15.Emrelaçãoasuasatisfaçãocomotrabalho       sat1       sat2  \n",
      "count                                      0.0  69.000000  69.000000  \n",
      "mean                                       NaN   5.101449   5.202899  \n",
      "std                                        NaN   1.690327   1.586521  \n",
      "min                                        NaN   1.000000   1.000000  \n",
      "25%                                        NaN   4.000000   4.000000  \n",
      "50%                                        NaN   6.000000   5.000000  \n",
      "75%                                        NaN   6.000000   6.000000  \n",
      "max                                        NaN   7.000000   7.000000  \n",
      "\n",
      "[8 rows x 62 columns]\n"
     ]
    }
   ],
   "source": [
    "dados_masculinos = dados.query(\"sexo == 'Masculino'\")\n",
    "dados_femininos = dados.query(\"sexo == 'Feminino'\")\n",
    "print (\"Masculino\")\n",
    "print (dados_masculinos.describe())\n",
    "print(\"-------------------------------\")\n",
    "print(\"Feminino\")\n",
    "print (dados_femininos.describe())"
   ],
   "metadata": {
    "collapsed": false,
    "pycharm": {
     "name": "#%%\n"
    }
   }
  },
  {
   "cell_type": "markdown",
   "source": [
    "Mulheres 72\n",
    "Homens 380"
   ],
   "metadata": {
    "collapsed": false,
    "pycharm": {
     "name": "#%% md\n"
    }
   }
  },
  {
   "cell_type": "code",
   "execution_count": 19,
   "outputs": [
    {
     "data": {
      "text/plain": "count    453.000000\nmean      29.593819\nstd        6.623113\nmin       18.000000\n25%       25.000000\n50%       28.000000\n75%       33.000000\nmax       59.000000\nName: idade, dtype: float64"
     },
     "execution_count": 19,
     "metadata": {},
     "output_type": "execute_result"
    }
   ],
   "source": [
    "dados.idade.describe()"
   ],
   "metadata": {
    "collapsed": false,
    "pycharm": {
     "name": "#%%\n"
    }
   }
  },
  {
   "cell_type": "code",
   "execution_count": 19,
   "outputs": [],
   "source": [],
   "metadata": {
    "collapsed": false,
    "pycharm": {
     "name": "#%%\n"
    }
   }
  }
 ],
 "metadata": {
  "kernelspec": {
   "display_name": "Python 3",
   "language": "python",
   "name": "python3"
  },
  "language_info": {
   "codemirror_mode": {
    "name": "ipython",
    "version": 2
   },
   "file_extension": ".py",
   "mimetype": "text/x-python",
   "name": "python",
   "nbconvert_exporter": "python",
   "pygments_lexer": "ipython2",
   "version": "2.7.6"
  }
 },
 "nbformat": 4,
 "nbformat_minor": 0
}