{
 "cells": [
  {
   "cell_type": "code",
   "execution_count": 2,
   "metadata": {},
   "outputs": [
    {
     "name": "stdout",
     "output_type": "stream",
     "text": [
      "Collecting factor_analyzer\n",
      "  Downloading factor_analyzer-0.4.0.tar.gz (41 kB)\n",
      "Requirement already satisfied: pandas in c:\\programdata\\anaconda3\\lib\\site-packages (from factor_analyzer) (1.2.4)\n",
      "Requirement already satisfied: scipy in c:\\programdata\\anaconda3\\lib\\site-packages (from factor_analyzer) (1.6.2)\n",
      "Requirement already satisfied: numpy in c:\\programdata\\anaconda3\\lib\\site-packages (from factor_analyzer) (1.20.1)\n",
      "Requirement already satisfied: scikit-learn in c:\\programdata\\anaconda3\\lib\\site-packages (from factor_analyzer) (0.24.1)\n",
      "Requirement already satisfied: pytz>=2017.3 in c:\\programdata\\anaconda3\\lib\\site-packages (from pandas->factor_analyzer) (2021.1)\n",
      "Requirement already satisfied: python-dateutil>=2.7.3 in c:\\programdata\\anaconda3\\lib\\site-packages (from pandas->factor_analyzer) (2.8.1)\n",
      "Requirement already satisfied: six>=1.5 in c:\\programdata\\anaconda3\\lib\\site-packages (from python-dateutil>=2.7.3->pandas->factor_analyzer) (1.15.0)\n",
      "Requirement already satisfied: joblib>=0.11 in c:\\programdata\\anaconda3\\lib\\site-packages (from scikit-learn->factor_analyzer) (1.0.1)\n",
      "Requirement already satisfied: threadpoolctl>=2.0.0 in c:\\programdata\\anaconda3\\lib\\site-packages (from scikit-learn->factor_analyzer) (2.1.0)\n",
      "Building wheels for collected packages: factor-analyzer\n",
      "  Building wheel for factor-analyzer (setup.py): started\n",
      "  Building wheel for factor-analyzer (setup.py): finished with status 'done'\n",
      "  Created wheel for factor-analyzer: filename=factor_analyzer-0.4.0-py3-none-any.whl size=41441 sha256=52fb0a0aaeb96ad18811bb9ff2028edbcf5d848d239560add37d913889f8c634\n",
      "  Stored in directory: c:\\users\\danil\\appdata\\local\\pip\\cache\\wheels\\00\\cf\\ea\\83feab47e1d682730be5935c52a2647f49adfb393e948d4bf5\n",
      "Successfully built factor-analyzer\n",
      "Installing collected packages: factor-analyzer\n",
      "Successfully installed factor-analyzer-0.4.0\n"
     ]
    }
   ],
   "source": [
    "# Import required libraries\n",
    "#!pip install factor_analyzer\n",
    "#https://www.datacamp.com/tutorial/introduction-factor-analysis\n",
    "import pandas as pd\n",
    "from sklearn.datasets import load_iris\n",
    "from factor_analyzer import FactorAnalyzer\n",
    "import matplotlib.pyplot as plt\n",
    "\n",
    "data = pd.read_excel('data/idade.xlsx')\n"
   ]
  },
  {
   "cell_type": "code",
   "execution_count": 5,
   "metadata": {},
   "outputs": [
    {
     "data": {
      "text/plain": [
       "Index(['equipe1', 'reque1', 'reque2', 'reque3', 'tec1', 'req4', 'tec2', 'tec3',\n",
       "       'tec4', 'req5', 'equipe2', 'equipe3', 'req6', 'tec5', 'tec6', 'req7',\n",
       "       'equipe4'],\n",
       "      dtype='object')"
      ]
     },
     "execution_count": 5,
     "metadata": {},
     "output_type": "execute_result"
    }
   ],
   "source": [
    "data.columns\n",
    "data.drop(['sexo', 'idade', 'formacao', 'curso', 'anoFormacao',\n",
    "       'tempoProfissional', 'tempoFuncao', 'funcao', 'metodologia',\n",
    "       'existenciaProjeto', 'mesesNoProjeto',\n",
    "       '@12.Emrelaçãoassuascaracterísticasporfavorresponda', 'S1', 'S2', 'S3',\n",
    "       'C2', 'C3', 'C4', 'C1', 'EM4', 'EM1', 'EM3', 'EM2', 'T3', 'T1', 'T4',\n",
    "       'T2', 'I2', 'I1', 'I4', 'I3',\n",
    "       '@13.Pararesponderasquestõesabaixoconsidereseuprojetoatua',\n",
    "       '@14.Emrelaçãoaoseudiaadiadotrabalho', 'ci2', 'et6', 'ci3', 'satXet6',\n",
    "       'ee6', 'ee2', 'et5', 'ci1', 'et4', 'ee1', 'et1', 'et2', 'et3', 'ee3',\n",
    "       'ci4', 'ee5', '@15.Emrelaçãoasuasatisfaçãocomotrabalho', 'sat1',\n",
    "       'sat2'],axis=1,inplace=True)\n",
    "\n",
    "data.columns"
   ]
  },
  {
   "cell_type": "code",
   "execution_count": 7,
   "metadata": {},
   "outputs": [],
   "source": [
    "# Dropping missing values rows\n",
    "data.dropna(inplace=True)\n",
    "df = data"
   ]
  },
  {
   "cell_type": "code",
   "execution_count": 8,
   "metadata": {},
   "outputs": [
    {
     "name": "stdout",
     "output_type": "stream",
     "text": [
      "<class 'pandas.core.frame.DataFrame'>\n",
      "Int64Index: 424 entries, 0 to 452\n",
      "Data columns (total 17 columns):\n",
      " #   Column   Non-Null Count  Dtype  \n",
      "---  ------   --------------  -----  \n",
      " 0   equipe1  424 non-null    float64\n",
      " 1   reque1   424 non-null    float64\n",
      " 2   reque2   424 non-null    float64\n",
      " 3   reque3   424 non-null    float64\n",
      " 4   tec1     424 non-null    float64\n",
      " 5   req4     424 non-null    float64\n",
      " 6   tec2     424 non-null    float64\n",
      " 7   tec3     424 non-null    float64\n",
      " 8   tec4     424 non-null    float64\n",
      " 9   req5     424 non-null    float64\n",
      " 10  equipe2  424 non-null    float64\n",
      " 11  equipe3  424 non-null    float64\n",
      " 12  req6     424 non-null    float64\n",
      " 13  tec5     424 non-null    float64\n",
      " 14  tec6     424 non-null    float64\n",
      " 15  req7     424 non-null    float64\n",
      " 16  equipe4  424 non-null    float64\n",
      "dtypes: float64(17)\n",
      "memory usage: 59.6 KB\n"
     ]
    }
   ],
   "source": [
    "df.info()\n"
   ]
  },
  {
   "cell_type": "code",
   "execution_count": 9,
   "metadata": {},
   "outputs": [
    {
     "data": {
      "text/plain": [
       "(2057.1653558683706, 0.0)"
      ]
     },
     "execution_count": 9,
     "metadata": {},
     "output_type": "execute_result"
    }
   ],
   "source": [
    "from factor_analyzer.factor_analyzer import calculate_bartlett_sphericity\n",
    "chi_square_value,p_value=calculate_bartlett_sphericity(df)\n",
    "chi_square_value, p_value"
   ]
  },
  {
   "cell_type": "code",
   "execution_count": 11,
   "metadata": {},
   "outputs": [
    {
     "data": {
      "text/plain": [
       "0.9064565745904647"
      ]
     },
     "execution_count": 11,
     "metadata": {},
     "output_type": "execute_result"
    }
   ],
   "source": [
    "from factor_analyzer.factor_analyzer import calculate_kmo\n",
    "kmo_all,kmo_model=calculate_kmo(df)\n",
    "kmo_model"
   ]
  },
  {
   "cell_type": "code",
   "execution_count": 12,
   "metadata": {},
   "outputs": [
    {
     "ename": "AttributeError",
     "evalue": "'FactorAnalyzer' object has no attribute 'analyze'",
     "output_type": "error",
     "traceback": [
      "\u001b[1;31m---------------------------------------------------------------------------\u001b[0m",
      "\u001b[1;31mAttributeError\u001b[0m                            Traceback (most recent call last)",
      "\u001b[1;32m<ipython-input-12-2a97f8ef31e6>\u001b[0m in \u001b[0;36m<module>\u001b[1;34m\u001b[0m\n\u001b[0;32m      1\u001b[0m \u001b[1;31m# Create factor analysis object and perform factor analysis\u001b[0m\u001b[1;33m\u001b[0m\u001b[1;33m\u001b[0m\u001b[1;33m\u001b[0m\u001b[0m\n\u001b[0;32m      2\u001b[0m \u001b[0mfa\u001b[0m \u001b[1;33m=\u001b[0m \u001b[0mFactorAnalyzer\u001b[0m\u001b[1;33m(\u001b[0m\u001b[1;33m)\u001b[0m\u001b[1;33m\u001b[0m\u001b[1;33m\u001b[0m\u001b[0m\n\u001b[1;32m----> 3\u001b[1;33m \u001b[0mfa\u001b[0m\u001b[1;33m.\u001b[0m\u001b[0manalyze\u001b[0m\u001b[1;33m(\u001b[0m\u001b[0mdf\u001b[0m\u001b[1;33m,\u001b[0m \u001b[1;36m25\u001b[0m\u001b[1;33m,\u001b[0m \u001b[0mrotation\u001b[0m\u001b[1;33m=\u001b[0m\u001b[1;32mNone\u001b[0m\u001b[1;33m)\u001b[0m\u001b[1;33m\u001b[0m\u001b[1;33m\u001b[0m\u001b[0m\n\u001b[0m\u001b[0;32m      4\u001b[0m \u001b[1;31m# Check Eigenvalues\u001b[0m\u001b[1;33m\u001b[0m\u001b[1;33m\u001b[0m\u001b[1;33m\u001b[0m\u001b[0m\n\u001b[0;32m      5\u001b[0m \u001b[0mev\u001b[0m\u001b[1;33m,\u001b[0m \u001b[0mv\u001b[0m \u001b[1;33m=\u001b[0m \u001b[0mfa\u001b[0m\u001b[1;33m.\u001b[0m\u001b[0mget_eigenvalues\u001b[0m\u001b[1;33m(\u001b[0m\u001b[1;33m)\u001b[0m\u001b[1;33m\u001b[0m\u001b[1;33m\u001b[0m\u001b[0m\n",
      "\u001b[1;31mAttributeError\u001b[0m: 'FactorAnalyzer' object has no attribute 'analyze'"
     ]
    }
   ],
   "source": [
    "# Create factor analysis object and perform factor analysis\n",
    "fa = FactorAnalyzer()\n",
    "fa.analyze(df, 25, rotation=None)\n",
    "# Check Eigenvalues\n",
    "ev, v = fa.get_eigenvalues()\n",
    "ev\n"
   ]
  },
  {
   "cell_type": "code",
   "execution_count": 13,
   "metadata": {},
   "outputs": [
    {
     "ename": "AttributeError",
     "evalue": "'FactorAnalyzer' object has no attribute 'analyze'",
     "output_type": "error",
     "traceback": [
      "\u001b[1;31m---------------------------------------------------------------------------\u001b[0m",
      "\u001b[1;31mAttributeError\u001b[0m                            Traceback (most recent call last)",
      "\u001b[1;32m<ipython-input-13-60d4f1ef2bd4>\u001b[0m in \u001b[0;36m<module>\u001b[1;34m\u001b[0m\n\u001b[0;32m      1\u001b[0m \u001b[1;31m# Create factor analysis object and perform factor analysis\u001b[0m\u001b[1;33m\u001b[0m\u001b[1;33m\u001b[0m\u001b[1;33m\u001b[0m\u001b[0m\n\u001b[0;32m      2\u001b[0m \u001b[0mfa\u001b[0m \u001b[1;33m=\u001b[0m \u001b[0mFactorAnalyzer\u001b[0m\u001b[1;33m(\u001b[0m\u001b[1;33m)\u001b[0m\u001b[1;33m\u001b[0m\u001b[1;33m\u001b[0m\u001b[0m\n\u001b[1;32m----> 3\u001b[1;33m \u001b[0mfa\u001b[0m\u001b[1;33m.\u001b[0m\u001b[0manalyze\u001b[0m\u001b[1;33m(\u001b[0m\u001b[0mdf\u001b[0m\u001b[1;33m,\u001b[0m \u001b[1;36m6\u001b[0m\u001b[1;33m,\u001b[0m \u001b[0mrotation\u001b[0m\u001b[1;33m=\u001b[0m\u001b[1;34m\"varimax\"\u001b[0m\u001b[1;33m)\u001b[0m\u001b[1;33m\u001b[0m\u001b[1;33m\u001b[0m\u001b[0m\n\u001b[0m",
      "\u001b[1;31mAttributeError\u001b[0m: 'FactorAnalyzer' object has no attribute 'analyze'"
     ]
    }
   ],
   "source": [
    "# Create factor analysis object and perform factor analysis\n",
    "fa = FactorAnalyzer()\n",
    "fa.analyze(df, 6, rotation=\"varimax\")"
   ]
  },
  {
   "cell_type": "code",
   "execution_count": 14,
   "metadata": {},
   "outputs": [
    {
     "data": {
      "text/plain": [
       "FactorAnalyzer(rotation='varimax', rotation_kwargs={})"
      ]
     },
     "execution_count": 14,
     "metadata": {},
     "output_type": "execute_result"
    }
   ],
   "source": [
    "fa = FactorAnalyzer(n_factors=3,rotation='varimax')\n",
    "fa.fit(df)"
   ]
  },
  {
   "cell_type": "code",
   "execution_count": 16,
   "metadata": {},
   "outputs": [
    {
     "data": {
      "text/plain": [
       "array([[ 0.20809266,  0.47243501,  0.20574788],\n",
       "       [ 0.34076544,  0.33485164,  0.27904619],\n",
       "       [ 0.76046563,  0.09816717,  0.21807596],\n",
       "       [ 0.7616385 ,  0.20021985,  0.14424761],\n",
       "       [ 0.17119336,  0.05472414,  0.54950621],\n",
       "       [ 0.53963922,  0.4140232 ,  0.04001195],\n",
       "       [ 0.12840888,  0.05624814,  0.55314175],\n",
       "       [ 0.20044883,  0.47496434,  0.33074753],\n",
       "       [ 0.08515505,  0.57277707,  0.29742718],\n",
       "       [ 0.5952533 ,  0.24107204,  0.20536075],\n",
       "       [ 0.19647866,  0.36040716,  0.3727096 ],\n",
       "       [ 0.2379296 ,  0.45657093,  0.32863088],\n",
       "       [ 0.56092681,  0.31430779,  0.29859831],\n",
       "       [-0.08051121, -0.23640881,  0.05421309],\n",
       "       [ 0.31260998,  0.40255672,  0.1481441 ],\n",
       "       [ 0.4245785 ,  0.44018519,  0.14275715],\n",
       "       [ 0.0634911 ,  0.18583525,  0.31885023]])"
      ]
     },
     "execution_count": 16,
     "metadata": {},
     "output_type": "execute_result"
    }
   ],
   "source": [
    "fa.loadings_"
   ]
  },
  {
   "cell_type": "code",
   "execution_count": 19,
   "metadata": {},
   "outputs": [
    {
     "name": "stdout",
     "output_type": "stream",
     "text": [
      "                0         1         2\n",
      "equipe1  0.208093  0.472435  0.205748\n",
      "reque1   0.340765  0.334852  0.279046\n",
      "reque2   0.760466  0.098167  0.218076\n",
      "reque3   0.761639  0.200220  0.144248\n",
      "tec1     0.171193  0.054724  0.549506\n",
      "req4     0.539639  0.414023  0.040012\n",
      "tec2     0.128409  0.056248  0.553142\n",
      "tec3     0.200449  0.474964  0.330748\n",
      "tec4     0.085155  0.572777  0.297427\n",
      "req5     0.595253  0.241072  0.205361\n",
      "equipe2  0.196479  0.360407  0.372710\n",
      "equipe3  0.237930  0.456571  0.328631\n",
      "req6     0.560927  0.314308  0.298598\n",
      "tec5    -0.080511 -0.236409  0.054213\n",
      "tec6     0.312610  0.402557  0.148144\n",
      "req7     0.424579  0.440185  0.142757\n",
      "equipe4  0.063491  0.185835  0.318850\n"
     ]
    }
   ],
   "source": [
    "factor_df=pd.DataFrame(fa.loadings_,index=df.columns)\n",
    "print(factor_df)"
   ]
  }
 ],
 "metadata": {
  "interpreter": {
   "hash": "b3ba2566441a7c06988d0923437866b63cedc61552a5af99d1f4fb67d367b25f"
  },
  "kernelspec": {
   "display_name": "Python 3.8.8 ('base')",
   "language": "python",
   "name": "python3"
  },
  "language_info": {
   "codemirror_mode": {
    "name": "ipython",
    "version": 3
   },
   "file_extension": ".py",
   "mimetype": "text/x-python",
   "name": "python",
   "nbconvert_exporter": "python",
   "pygments_lexer": "ipython3",
   "version": "3.8.8"
  },
  "orig_nbformat": 4
 },
 "nbformat": 4,
 "nbformat_minor": 2
}
