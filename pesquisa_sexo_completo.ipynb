{
 "cells": [
  {
   "cell_type": "markdown",
   "source": [
    "Perguntas de pesquisa que irão guiar essa investigação\n",
    "\n",
    "Será que existem diferenças entre os níveis de adaptação, satisfação e burnout entre homens e mulheres?\n",
    "Será que existem diferenças entre os níveis de adaptação, satisfação e burnout entre os níveis e formação ?\n",
    "Será que existem diferenças entre os níveis de adaptação, satisfação e burnout entre pessoas mais e menos experientes ?\n",
    "Será que existem diferenças enrtre os níveis de adaptação, satisfação e burnout entre pessoas mais velhas e mais novas?\n",
    "Será que existem diferenças entre os níveis de adaptação, satisfação e burnout e as funções realizadas nos projetos?"
   ],
   "metadata": {
    "collapsed": false,
    "pycharm": {
     "name": "#%% md\n"
    }
   }
  },
  {
   "cell_type": "code",
   "execution_count": 1,
   "source": [
    "import matplotlib.pyplot as plt\r\n",
    "import pandas as pd\r\n",
    "from scipy.stats import mannwhitneyu\r\n",
    "from scipy.stats import shapiro\r\n",
    "from scipy.stats import ttest_ind\r\n",
    "#import matplotlib.pyplot as plt\r\n",
    "import seaborn as sns\r\n",
    "#dados = pd.read_excel('/home/danilo/Documentos/GitHub/PesquisaIdade/data/idade.xlsx')\r\n",
    "dados = pd.read_excel(r'C:\\Users\\danilo.ribeiro\\Documents\\GitHub\\PesquisaDoutoradoPosDiferencas\\data\\idade.xlsx')\r\n",
    "dados.head()\r\n",
    "dados.columns\r\n"
   ],
   "outputs": [
    {
     "output_type": "execute_result",
     "data": {
      "text/plain": [
       "Index(['sexo', 'idade', 'formacao', 'curso', 'anoFormacao',\n",
       "       'tempoProfissional', 'tempoFuncao', 'funcao', 'metodologia',\n",
       "       'existenciaProjeto', 'mesesNoProjeto',\n",
       "       '@12.Emrelaçãoassuascaracterísticasporfavorresponda', 'S1', 'S2', 'S3',\n",
       "       'C2', 'C3', 'C4', 'C1', 'EM4', 'EM1', 'EM3', 'EM2', 'T3', 'T1', 'T4',\n",
       "       'T2', 'I2', 'I1', 'I4', 'I3',\n",
       "       '@13.Pararesponderasquestõesabaixoconsidereseuprojetoatua', 'equipe1',\n",
       "       'reque1', 'reque2', 'reque3', 'tec1', 'req4', 'tec2', 'tec3', 'tec4',\n",
       "       'req5', 'equipe2', 'equipe3', 'req6', 'tec5', 'tec6', 'req7', 'equipe4',\n",
       "       '@14.Emrelaçãoaoseudiaadiadotrabalho', 'ci2', 'et6', 'ci3', 'satXet6',\n",
       "       'ee6', 'ee2', 'et5', 'ci1', 'et4', 'ee1', 'et1', 'et2', 'et3', 'ee3',\n",
       "       'ci4', 'ee5', '@15.Emrelaçãoasuasatisfaçãocomotrabalho', 'sat1',\n",
       "       'sat2'],\n",
       "      dtype='object')"
      ]
     },
     "metadata": {},
     "execution_count": 1
    }
   ],
   "metadata": {
    "collapsed": false,
    "pycharm": {
     "name": "#%%\n"
    }
   }
  },
  {
   "cell_type": "code",
   "execution_count": 2,
   "source": [
    "\r\n",
    "dados['Gerenciamento_Stress'] = (dados['S1']+dados['S2']+dados['S3'])\r\n",
    "dados['Resolucao_Problemas'] = (dados['C1']+dados['C2']+dados['C3']+dados['C4'])\r\n",
    "dados['Gerenciamento_Emergencia'] = (dados['EM1']+dados['EM2']+dados['EM3'])\r\n",
    "dados['Aprendizado'] = (dados['T1']+dados['T2']+dados['T3']+dados['T4'])\r\n",
    "dados['Interpersoal'] = (dados['I1']+dados['I2']+dados['I3']+dados['I4'])\r\n",
    "dados['satisfacao']= (dados['sat1']+dados['sat2']+dados['satXet6'])\r\n",
    "dados['Burnout_cinismo'] = (dados['ci1']+dados['ci2']+dados['ci3']+dados['ci4'])\r\n",
    "dados['Burnout_exaustao'] = (dados['ee1']+dados['ee2']+dados['ee3']+dados['ee5']+dados['ee6'])\r\n",
    "dados['Burnout_eficacia'] = (dados['et1']+dados['et2']+dados['et3']+dados['et4']+dados['et5']+dados['satXet6'])\r\n",
    "dados['instabilidade_equipe'] = (dados['equipe1']+dados['equipe2']+dados['equipe3']+dados['equipe4'])\r\n",
    "dados['instabilidade_tecnica'] = (dados['tec1']+dados['tec2']+dados['tec3']+dados['tec4'])\r\n",
    "dados['instabilidade_tarefa'] = (dados['reque1']+dados['reque2']+dados['reque3']+dados['req4']+dados['req5']+dados['req6']+dados['req7'])\r\n",
    "\r\n",
    "dados.columns\r\n",
    "\r\n",
    "labels = ['@12.Emrelaçãoassuascaracterísticasporfavorresponda', 'S1', 'S2', 'S3',\r\n",
    "          'C2', 'C3', 'C4', 'C1', 'EM4', 'EM1', 'EM3', 'EM2', 'T3', 'T1', 'T4',\r\n",
    "          'T2', 'I2', 'I1', 'I4', 'I3',\r\n",
    "          '@13.Pararesponderasquestõesabaixoconsidereseuprojetoatua', 'equipe1',\r\n",
    "          'reque1', 'reque2', 'reque3', 'tec1', 'req4', 'tec2', 'tec3', 'tec4',\r\n",
    "          'req5', 'equipe2', 'equipe3', 'req6', 'tec5', 'tec6', 'req7', 'equipe4',\r\n",
    "          '@14.Emrelaçãoaoseudiaadiadotrabalho', 'ci2', 'et6', 'ci3', 'satXet6',\r\n",
    "          'ee6', 'ee2', 'et5', 'ci1', 'et4', 'ee1', 'et1', 'et2', 'et3', 'ee3',\r\n",
    "          'ci4', 'ee5', '@15.Emrelaçãoasuasatisfaçãocomotrabalho', 'sat1', 'sat2']\r\n",
    "dados.drop(columns = labels, inplace=True)\r\n",
    "dados.columns\r\n",
    "dados.corr(method='spearman')"
   ],
   "outputs": [
    {
     "output_type": "execute_result",
     "data": {
      "text/html": [
       "<div>\n",
       "<style scoped>\n",
       "    .dataframe tbody tr th:only-of-type {\n",
       "        vertical-align: middle;\n",
       "    }\n",
       "\n",
       "    .dataframe tbody tr th {\n",
       "        vertical-align: top;\n",
       "    }\n",
       "\n",
       "    .dataframe thead th {\n",
       "        text-align: right;\n",
       "    }\n",
       "</style>\n",
       "<table border=\"1\" class=\"dataframe\">\n",
       "  <thead>\n",
       "    <tr style=\"text-align: right;\">\n",
       "      <th></th>\n",
       "      <th>idade</th>\n",
       "      <th>anoFormacao</th>\n",
       "      <th>existenciaProjeto</th>\n",
       "      <th>mesesNoProjeto</th>\n",
       "      <th>Gerenciamento_Stress</th>\n",
       "      <th>Resolucao_Problemas</th>\n",
       "      <th>Gerenciamento_Emergencia</th>\n",
       "      <th>Aprendizado</th>\n",
       "      <th>Interpersoal</th>\n",
       "      <th>satisfacao</th>\n",
       "      <th>Burnout_cinismo</th>\n",
       "      <th>Burnout_exaustao</th>\n",
       "      <th>Burnout_eficacia</th>\n",
       "      <th>instabilidade_equipe</th>\n",
       "      <th>instabilidade_tecnica</th>\n",
       "      <th>instabilidade_tarefa</th>\n",
       "    </tr>\n",
       "  </thead>\n",
       "  <tbody>\n",
       "    <tr>\n",
       "      <th>idade</th>\n",
       "      <td>1.000000</td>\n",
       "      <td>-0.604246</td>\n",
       "      <td>-0.038008</td>\n",
       "      <td>0.044196</td>\n",
       "      <td>0.065809</td>\n",
       "      <td>0.092102</td>\n",
       "      <td>0.091165</td>\n",
       "      <td>0.034707</td>\n",
       "      <td>-0.031924</td>\n",
       "      <td>0.054575</td>\n",
       "      <td>-0.054297</td>\n",
       "      <td>-0.090982</td>\n",
       "      <td>0.093197</td>\n",
       "      <td>-0.015137</td>\n",
       "      <td>-0.053131</td>\n",
       "      <td>0.006292</td>\n",
       "    </tr>\n",
       "    <tr>\n",
       "      <th>anoFormacao</th>\n",
       "      <td>-0.604246</td>\n",
       "      <td>1.000000</td>\n",
       "      <td>-0.055865</td>\n",
       "      <td>-0.091173</td>\n",
       "      <td>-0.064939</td>\n",
       "      <td>-0.056600</td>\n",
       "      <td>-0.042132</td>\n",
       "      <td>0.033917</td>\n",
       "      <td>0.056489</td>\n",
       "      <td>0.049757</td>\n",
       "      <td>-0.015188</td>\n",
       "      <td>0.037997</td>\n",
       "      <td>-0.011791</td>\n",
       "      <td>0.059261</td>\n",
       "      <td>0.105344</td>\n",
       "      <td>-0.036604</td>\n",
       "    </tr>\n",
       "    <tr>\n",
       "      <th>existenciaProjeto</th>\n",
       "      <td>-0.038008</td>\n",
       "      <td>-0.055865</td>\n",
       "      <td>1.000000</td>\n",
       "      <td>0.649208</td>\n",
       "      <td>-0.022284</td>\n",
       "      <td>0.026260</td>\n",
       "      <td>-0.018407</td>\n",
       "      <td>-0.087585</td>\n",
       "      <td>-0.017734</td>\n",
       "      <td>-0.065681</td>\n",
       "      <td>0.041288</td>\n",
       "      <td>0.014865</td>\n",
       "      <td>-0.072429</td>\n",
       "      <td>0.099525</td>\n",
       "      <td>-0.019686</td>\n",
       "      <td>0.054758</td>\n",
       "    </tr>\n",
       "    <tr>\n",
       "      <th>mesesNoProjeto</th>\n",
       "      <td>0.044196</td>\n",
       "      <td>-0.091173</td>\n",
       "      <td>0.649208</td>\n",
       "      <td>1.000000</td>\n",
       "      <td>0.010975</td>\n",
       "      <td>0.035419</td>\n",
       "      <td>0.059108</td>\n",
       "      <td>-0.111965</td>\n",
       "      <td>-0.041723</td>\n",
       "      <td>-0.085080</td>\n",
       "      <td>0.052443</td>\n",
       "      <td>0.038085</td>\n",
       "      <td>-0.005952</td>\n",
       "      <td>0.133626</td>\n",
       "      <td>0.019895</td>\n",
       "      <td>0.197101</td>\n",
       "    </tr>\n",
       "    <tr>\n",
       "      <th>Gerenciamento_Stress</th>\n",
       "      <td>0.065809</td>\n",
       "      <td>-0.064939</td>\n",
       "      <td>-0.022284</td>\n",
       "      <td>0.010975</td>\n",
       "      <td>1.000000</td>\n",
       "      <td>0.525293</td>\n",
       "      <td>0.556379</td>\n",
       "      <td>0.448070</td>\n",
       "      <td>0.458993</td>\n",
       "      <td>0.267727</td>\n",
       "      <td>-0.215274</td>\n",
       "      <td>-0.243816</td>\n",
       "      <td>0.396173</td>\n",
       "      <td>-0.010342</td>\n",
       "      <td>-0.095346</td>\n",
       "      <td>-0.025156</td>\n",
       "    </tr>\n",
       "    <tr>\n",
       "      <th>Resolucao_Problemas</th>\n",
       "      <td>0.092102</td>\n",
       "      <td>-0.056600</td>\n",
       "      <td>0.026260</td>\n",
       "      <td>0.035419</td>\n",
       "      <td>0.525293</td>\n",
       "      <td>1.000000</td>\n",
       "      <td>0.514446</td>\n",
       "      <td>0.501237</td>\n",
       "      <td>0.401678</td>\n",
       "      <td>0.221208</td>\n",
       "      <td>-0.192388</td>\n",
       "      <td>-0.213846</td>\n",
       "      <td>0.392838</td>\n",
       "      <td>-0.045055</td>\n",
       "      <td>-0.056322</td>\n",
       "      <td>-0.005003</td>\n",
       "    </tr>\n",
       "    <tr>\n",
       "      <th>Gerenciamento_Emergencia</th>\n",
       "      <td>0.091165</td>\n",
       "      <td>-0.042132</td>\n",
       "      <td>-0.018407</td>\n",
       "      <td>0.059108</td>\n",
       "      <td>0.556379</td>\n",
       "      <td>0.514446</td>\n",
       "      <td>1.000000</td>\n",
       "      <td>0.394188</td>\n",
       "      <td>0.409914</td>\n",
       "      <td>0.229737</td>\n",
       "      <td>-0.204450</td>\n",
       "      <td>-0.181903</td>\n",
       "      <td>0.429710</td>\n",
       "      <td>-0.003442</td>\n",
       "      <td>-0.033127</td>\n",
       "      <td>-0.008335</td>\n",
       "    </tr>\n",
       "    <tr>\n",
       "      <th>Aprendizado</th>\n",
       "      <td>0.034707</td>\n",
       "      <td>0.033917</td>\n",
       "      <td>-0.087585</td>\n",
       "      <td>-0.111965</td>\n",
       "      <td>0.448070</td>\n",
       "      <td>0.501237</td>\n",
       "      <td>0.394188</td>\n",
       "      <td>1.000000</td>\n",
       "      <td>0.449534</td>\n",
       "      <td>0.284316</td>\n",
       "      <td>-0.284004</td>\n",
       "      <td>-0.278572</td>\n",
       "      <td>0.399860</td>\n",
       "      <td>-0.029575</td>\n",
       "      <td>-0.027662</td>\n",
       "      <td>-0.085648</td>\n",
       "    </tr>\n",
       "    <tr>\n",
       "      <th>Interpersoal</th>\n",
       "      <td>-0.031924</td>\n",
       "      <td>0.056489</td>\n",
       "      <td>-0.017734</td>\n",
       "      <td>-0.041723</td>\n",
       "      <td>0.458993</td>\n",
       "      <td>0.401678</td>\n",
       "      <td>0.409914</td>\n",
       "      <td>0.449534</td>\n",
       "      <td>1.000000</td>\n",
       "      <td>0.266218</td>\n",
       "      <td>-0.219447</td>\n",
       "      <td>-0.129538</td>\n",
       "      <td>0.285237</td>\n",
       "      <td>-0.071646</td>\n",
       "      <td>-0.063020</td>\n",
       "      <td>-0.080357</td>\n",
       "    </tr>\n",
       "    <tr>\n",
       "      <th>satisfacao</th>\n",
       "      <td>0.054575</td>\n",
       "      <td>0.049757</td>\n",
       "      <td>-0.065681</td>\n",
       "      <td>-0.085080</td>\n",
       "      <td>0.267727</td>\n",
       "      <td>0.221208</td>\n",
       "      <td>0.229737</td>\n",
       "      <td>0.284316</td>\n",
       "      <td>0.266218</td>\n",
       "      <td>1.000000</td>\n",
       "      <td>-0.710960</td>\n",
       "      <td>-0.609203</td>\n",
       "      <td>0.642285</td>\n",
       "      <td>-0.233699</td>\n",
       "      <td>-0.155883</td>\n",
       "      <td>-0.192245</td>\n",
       "    </tr>\n",
       "    <tr>\n",
       "      <th>Burnout_cinismo</th>\n",
       "      <td>-0.054297</td>\n",
       "      <td>-0.015188</td>\n",
       "      <td>0.041288</td>\n",
       "      <td>0.052443</td>\n",
       "      <td>-0.215274</td>\n",
       "      <td>-0.192388</td>\n",
       "      <td>-0.204450</td>\n",
       "      <td>-0.284004</td>\n",
       "      <td>-0.219447</td>\n",
       "      <td>-0.710960</td>\n",
       "      <td>1.000000</td>\n",
       "      <td>0.684681</td>\n",
       "      <td>-0.554259</td>\n",
       "      <td>0.329457</td>\n",
       "      <td>0.276608</td>\n",
       "      <td>0.313556</td>\n",
       "    </tr>\n",
       "    <tr>\n",
       "      <th>Burnout_exaustao</th>\n",
       "      <td>-0.090982</td>\n",
       "      <td>0.037997</td>\n",
       "      <td>0.014865</td>\n",
       "      <td>0.038085</td>\n",
       "      <td>-0.243816</td>\n",
       "      <td>-0.213846</td>\n",
       "      <td>-0.181903</td>\n",
       "      <td>-0.278572</td>\n",
       "      <td>-0.129538</td>\n",
       "      <td>-0.609203</td>\n",
       "      <td>0.684681</td>\n",
       "      <td>1.000000</td>\n",
       "      <td>-0.464694</td>\n",
       "      <td>0.294022</td>\n",
       "      <td>0.217050</td>\n",
       "      <td>0.297042</td>\n",
       "    </tr>\n",
       "    <tr>\n",
       "      <th>Burnout_eficacia</th>\n",
       "      <td>0.093197</td>\n",
       "      <td>-0.011791</td>\n",
       "      <td>-0.072429</td>\n",
       "      <td>-0.005952</td>\n",
       "      <td>0.396173</td>\n",
       "      <td>0.392838</td>\n",
       "      <td>0.429710</td>\n",
       "      <td>0.399860</td>\n",
       "      <td>0.285237</td>\n",
       "      <td>0.642285</td>\n",
       "      <td>-0.554259</td>\n",
       "      <td>-0.464694</td>\n",
       "      <td>1.000000</td>\n",
       "      <td>-0.101131</td>\n",
       "      <td>-0.084689</td>\n",
       "      <td>-0.056867</td>\n",
       "    </tr>\n",
       "    <tr>\n",
       "      <th>instabilidade_equipe</th>\n",
       "      <td>-0.015137</td>\n",
       "      <td>0.059261</td>\n",
       "      <td>0.099525</td>\n",
       "      <td>0.133626</td>\n",
       "      <td>-0.010342</td>\n",
       "      <td>-0.045055</td>\n",
       "      <td>-0.003442</td>\n",
       "      <td>-0.029575</td>\n",
       "      <td>-0.071646</td>\n",
       "      <td>-0.233699</td>\n",
       "      <td>0.329457</td>\n",
       "      <td>0.294022</td>\n",
       "      <td>-0.101131</td>\n",
       "      <td>1.000000</td>\n",
       "      <td>0.555279</td>\n",
       "      <td>0.548419</td>\n",
       "    </tr>\n",
       "    <tr>\n",
       "      <th>instabilidade_tecnica</th>\n",
       "      <td>-0.053131</td>\n",
       "      <td>0.105344</td>\n",
       "      <td>-0.019686</td>\n",
       "      <td>0.019895</td>\n",
       "      <td>-0.095346</td>\n",
       "      <td>-0.056322</td>\n",
       "      <td>-0.033127</td>\n",
       "      <td>-0.027662</td>\n",
       "      <td>-0.063020</td>\n",
       "      <td>-0.155883</td>\n",
       "      <td>0.276608</td>\n",
       "      <td>0.217050</td>\n",
       "      <td>-0.084689</td>\n",
       "      <td>0.555279</td>\n",
       "      <td>1.000000</td>\n",
       "      <td>0.500395</td>\n",
       "    </tr>\n",
       "    <tr>\n",
       "      <th>instabilidade_tarefa</th>\n",
       "      <td>0.006292</td>\n",
       "      <td>-0.036604</td>\n",
       "      <td>0.054758</td>\n",
       "      <td>0.197101</td>\n",
       "      <td>-0.025156</td>\n",
       "      <td>-0.005003</td>\n",
       "      <td>-0.008335</td>\n",
       "      <td>-0.085648</td>\n",
       "      <td>-0.080357</td>\n",
       "      <td>-0.192245</td>\n",
       "      <td>0.313556</td>\n",
       "      <td>0.297042</td>\n",
       "      <td>-0.056867</td>\n",
       "      <td>0.548419</td>\n",
       "      <td>0.500395</td>\n",
       "      <td>1.000000</td>\n",
       "    </tr>\n",
       "  </tbody>\n",
       "</table>\n",
       "</div>"
      ],
      "text/plain": [
       "                             idade  anoFormacao  existenciaProjeto  \\\n",
       "idade                     1.000000    -0.604246          -0.038008   \n",
       "anoFormacao              -0.604246     1.000000          -0.055865   \n",
       "existenciaProjeto        -0.038008    -0.055865           1.000000   \n",
       "mesesNoProjeto            0.044196    -0.091173           0.649208   \n",
       "Gerenciamento_Stress      0.065809    -0.064939          -0.022284   \n",
       "Resolucao_Problemas       0.092102    -0.056600           0.026260   \n",
       "Gerenciamento_Emergencia  0.091165    -0.042132          -0.018407   \n",
       "Aprendizado               0.034707     0.033917          -0.087585   \n",
       "Interpersoal             -0.031924     0.056489          -0.017734   \n",
       "satisfacao                0.054575     0.049757          -0.065681   \n",
       "Burnout_cinismo          -0.054297    -0.015188           0.041288   \n",
       "Burnout_exaustao         -0.090982     0.037997           0.014865   \n",
       "Burnout_eficacia          0.093197    -0.011791          -0.072429   \n",
       "instabilidade_equipe     -0.015137     0.059261           0.099525   \n",
       "instabilidade_tecnica    -0.053131     0.105344          -0.019686   \n",
       "instabilidade_tarefa      0.006292    -0.036604           0.054758   \n",
       "\n",
       "                          mesesNoProjeto  Gerenciamento_Stress  \\\n",
       "idade                           0.044196              0.065809   \n",
       "anoFormacao                    -0.091173             -0.064939   \n",
       "existenciaProjeto               0.649208             -0.022284   \n",
       "mesesNoProjeto                  1.000000              0.010975   \n",
       "Gerenciamento_Stress            0.010975              1.000000   \n",
       "Resolucao_Problemas             0.035419              0.525293   \n",
       "Gerenciamento_Emergencia        0.059108              0.556379   \n",
       "Aprendizado                    -0.111965              0.448070   \n",
       "Interpersoal                   -0.041723              0.458993   \n",
       "satisfacao                     -0.085080              0.267727   \n",
       "Burnout_cinismo                 0.052443             -0.215274   \n",
       "Burnout_exaustao                0.038085             -0.243816   \n",
       "Burnout_eficacia               -0.005952              0.396173   \n",
       "instabilidade_equipe            0.133626             -0.010342   \n",
       "instabilidade_tecnica           0.019895             -0.095346   \n",
       "instabilidade_tarefa            0.197101             -0.025156   \n",
       "\n",
       "                          Resolucao_Problemas  Gerenciamento_Emergencia  \\\n",
       "idade                                0.092102                  0.091165   \n",
       "anoFormacao                         -0.056600                 -0.042132   \n",
       "existenciaProjeto                    0.026260                 -0.018407   \n",
       "mesesNoProjeto                       0.035419                  0.059108   \n",
       "Gerenciamento_Stress                 0.525293                  0.556379   \n",
       "Resolucao_Problemas                  1.000000                  0.514446   \n",
       "Gerenciamento_Emergencia             0.514446                  1.000000   \n",
       "Aprendizado                          0.501237                  0.394188   \n",
       "Interpersoal                         0.401678                  0.409914   \n",
       "satisfacao                           0.221208                  0.229737   \n",
       "Burnout_cinismo                     -0.192388                 -0.204450   \n",
       "Burnout_exaustao                    -0.213846                 -0.181903   \n",
       "Burnout_eficacia                     0.392838                  0.429710   \n",
       "instabilidade_equipe                -0.045055                 -0.003442   \n",
       "instabilidade_tecnica               -0.056322                 -0.033127   \n",
       "instabilidade_tarefa                -0.005003                 -0.008335   \n",
       "\n",
       "                          Aprendizado  Interpersoal  satisfacao  \\\n",
       "idade                        0.034707     -0.031924    0.054575   \n",
       "anoFormacao                  0.033917      0.056489    0.049757   \n",
       "existenciaProjeto           -0.087585     -0.017734   -0.065681   \n",
       "mesesNoProjeto              -0.111965     -0.041723   -0.085080   \n",
       "Gerenciamento_Stress         0.448070      0.458993    0.267727   \n",
       "Resolucao_Problemas          0.501237      0.401678    0.221208   \n",
       "Gerenciamento_Emergencia     0.394188      0.409914    0.229737   \n",
       "Aprendizado                  1.000000      0.449534    0.284316   \n",
       "Interpersoal                 0.449534      1.000000    0.266218   \n",
       "satisfacao                   0.284316      0.266218    1.000000   \n",
       "Burnout_cinismo             -0.284004     -0.219447   -0.710960   \n",
       "Burnout_exaustao            -0.278572     -0.129538   -0.609203   \n",
       "Burnout_eficacia             0.399860      0.285237    0.642285   \n",
       "instabilidade_equipe        -0.029575     -0.071646   -0.233699   \n",
       "instabilidade_tecnica       -0.027662     -0.063020   -0.155883   \n",
       "instabilidade_tarefa        -0.085648     -0.080357   -0.192245   \n",
       "\n",
       "                          Burnout_cinismo  Burnout_exaustao  Burnout_eficacia  \\\n",
       "idade                           -0.054297         -0.090982          0.093197   \n",
       "anoFormacao                     -0.015188          0.037997         -0.011791   \n",
       "existenciaProjeto                0.041288          0.014865         -0.072429   \n",
       "mesesNoProjeto                   0.052443          0.038085         -0.005952   \n",
       "Gerenciamento_Stress            -0.215274         -0.243816          0.396173   \n",
       "Resolucao_Problemas             -0.192388         -0.213846          0.392838   \n",
       "Gerenciamento_Emergencia        -0.204450         -0.181903          0.429710   \n",
       "Aprendizado                     -0.284004         -0.278572          0.399860   \n",
       "Interpersoal                    -0.219447         -0.129538          0.285237   \n",
       "satisfacao                      -0.710960         -0.609203          0.642285   \n",
       "Burnout_cinismo                  1.000000          0.684681         -0.554259   \n",
       "Burnout_exaustao                 0.684681          1.000000         -0.464694   \n",
       "Burnout_eficacia                -0.554259         -0.464694          1.000000   \n",
       "instabilidade_equipe             0.329457          0.294022         -0.101131   \n",
       "instabilidade_tecnica            0.276608          0.217050         -0.084689   \n",
       "instabilidade_tarefa             0.313556          0.297042         -0.056867   \n",
       "\n",
       "                          instabilidade_equipe  instabilidade_tecnica  \\\n",
       "idade                                -0.015137              -0.053131   \n",
       "anoFormacao                           0.059261               0.105344   \n",
       "existenciaProjeto                     0.099525              -0.019686   \n",
       "mesesNoProjeto                        0.133626               0.019895   \n",
       "Gerenciamento_Stress                 -0.010342              -0.095346   \n",
       "Resolucao_Problemas                  -0.045055              -0.056322   \n",
       "Gerenciamento_Emergencia             -0.003442              -0.033127   \n",
       "Aprendizado                          -0.029575              -0.027662   \n",
       "Interpersoal                         -0.071646              -0.063020   \n",
       "satisfacao                           -0.233699              -0.155883   \n",
       "Burnout_cinismo                       0.329457               0.276608   \n",
       "Burnout_exaustao                      0.294022               0.217050   \n",
       "Burnout_eficacia                     -0.101131              -0.084689   \n",
       "instabilidade_equipe                  1.000000               0.555279   \n",
       "instabilidade_tecnica                 0.555279               1.000000   \n",
       "instabilidade_tarefa                  0.548419               0.500395   \n",
       "\n",
       "                          instabilidade_tarefa  \n",
       "idade                                 0.006292  \n",
       "anoFormacao                          -0.036604  \n",
       "existenciaProjeto                     0.054758  \n",
       "mesesNoProjeto                        0.197101  \n",
       "Gerenciamento_Stress                 -0.025156  \n",
       "Resolucao_Problemas                  -0.005003  \n",
       "Gerenciamento_Emergencia             -0.008335  \n",
       "Aprendizado                          -0.085648  \n",
       "Interpersoal                         -0.080357  \n",
       "satisfacao                           -0.192245  \n",
       "Burnout_cinismo                       0.313556  \n",
       "Burnout_exaustao                      0.297042  \n",
       "Burnout_eficacia                     -0.056867  \n",
       "instabilidade_equipe                  0.548419  \n",
       "instabilidade_tecnica                 0.500395  \n",
       "instabilidade_tarefa                  1.000000  "
      ]
     },
     "metadata": {},
     "execution_count": 2
    }
   ],
   "metadata": {
    "collapsed": false,
    "pycharm": {
     "name": "#%%\n"
    }
   }
  },
  {
   "cell_type": "markdown",
   "source": [
    "dados['Gerenciamento_Stress'] = (dados['S1']+dados['S2']+dados['S3'])/3\n",
    "dados['Resolucao_Problemas'] = (dados['C1']+dados['C2']+dados['C3']+dados['C4'])/4\n",
    "dados['Gerenciamento_Emergencia'] = (dados['EM1']+dados['EM2']+dados['EM3'])/3\n",
    "dados['Aprendizado'] = (dados['T1']+dados['T2']+dados['T3']+dados['T4'])/4\n",
    "dados['Interpersoal'] = (dados['I1']+dados['I2']+dados['I3']+dados['I4'])/4\n",
    "dados['satisfacao']= (dados['sat1']+dados['sat2']+dados['satXet6'])/3\n",
    "dados['Burnout_cinismo'] = (dados['ci1']+dados['ci2']+dados['ci3']+dados['ci4'])/4\n",
    "dados['Burnout_exaustao'] = (dados['ee1']+dados['ee2']+dados['ee3']+dados['ee5']+dados['ee6'])/6\n",
    "dados['Burnout_eficacia'] = (dados['et1']+dados['et2']+dados['et3']+dados['et4']+dados['et5']+dados['satXet6'])/6\n",
    "dados['instabilidade_equipe'] = (dados['equipe1']+dados['equipe2']+dados['equipe3']+dados['equipe4'])/4\n",
    "dados['instabilidade_tecnica'] = (dados['tec1']+dados['tec2']+dados['tec3']+dados['tec4'])/4\n",
    "dados['instabilidade_tarefa'] = (dados['reque1']+dados['reque2']+dados['reque3']+dados['req4']+dados['req5']+dados['req6']+dados['req7'])/7"
   ],
   "metadata": {
    "collapsed": false,
    "pycharm": {
     "name": "#%% md\n"
    }
   }
  },
  {
   "cell_type": "markdown",
   "source": [
    "Será que existem diferenças entre os níveis de adaptação, satisfação e burnout entre homens e mulheres?\n",
    "\n"
   ],
   "metadata": {
    "collapsed": false,
    "pycharm": {
     "name": "#%% md\n"
    }
   }
  },
  {
   "cell_type": "code",
   "execution_count": 3,
   "source": [
    "dados_masculinos = dados.query(\"sexo == 'Masculino'\")\r\n",
    "dados_femininos = dados.query(\"sexo == 'Feminino'\")\r\n",
    "print (\"Masculino\")\r\n",
    "print (dados_masculinos.describe())\r\n",
    "print(\"-------------------------------\")\r\n",
    "print(\"Feminino\")\r\n",
    "print (dados_femininos.describe())"
   ],
   "outputs": [
    {
     "output_type": "stream",
     "name": "stdout",
     "text": [
      "Masculino\n",
      "            idade  anoFormacao  existenciaProjeto  mesesNoProjeto  \\\n",
      "count  380.000000   380.000000         380.000000      380.000000   \n",
      "mean    29.639474  1994.665789          25.023684       10.632895   \n",
      "std      6.392940   206.063638          40.615540       15.289471   \n",
      "min     18.000000     0.000000           0.000000        0.000000   \n",
      "25%     25.000000  2014.000000           5.000000        3.000000   \n",
      "50%     29.000000  2017.000000          12.000000        6.000000   \n",
      "75%     33.000000  2019.000000          24.000000       12.000000   \n",
      "max     56.000000  2024.000000         360.000000      126.000000   \n",
      "\n",
      "       Gerenciamento_Stress  Resolucao_Problemas  Gerenciamento_Emergencia  \\\n",
      "count            380.000000           380.000000                380.000000   \n",
      "mean              17.094737            22.463158                 16.560526   \n",
      "std                2.693973             3.693567                  2.938960   \n",
      "min                8.000000             7.000000                  8.000000   \n",
      "25%               15.000000            20.000000                 15.000000   \n",
      "50%               17.500000            23.000000                 17.000000   \n",
      "75%               19.000000            25.000000                 19.000000   \n",
      "max               21.000000            28.000000                 21.000000   \n",
      "\n",
      "       Aprendizado  Interpersoal  satisfacao  Burnout_cinismo  \\\n",
      "count   379.000000    380.000000  344.000000       344.000000   \n",
      "mean     23.242744     24.878947   16.098837         9.462209   \n",
      "std       3.670873      2.729895    4.194485         5.393417   \n",
      "min       7.000000     13.000000    3.000000         4.000000   \n",
      "25%      21.000000     23.000000   13.750000         5.000000   \n",
      "50%      23.000000     25.000000   17.000000         8.000000   \n",
      "75%      26.000000     27.000000   19.000000        13.000000   \n",
      "max      28.000000     28.000000   21.000000        28.000000   \n",
      "\n",
      "       Burnout_exaustao  Burnout_eficacia  instabilidade_equipe  \\\n",
      "count        343.000000        344.000000            355.000000   \n",
      "mean          17.055394         30.000000             15.456338   \n",
      "std            7.964458          4.425608              5.198890   \n",
      "min            5.000000         15.000000              4.000000   \n",
      "25%           10.000000         27.000000             11.000000   \n",
      "50%           16.000000         30.000000             15.000000   \n",
      "75%           22.000000         33.000000             19.000000   \n",
      "max           35.000000         41.000000             28.000000   \n",
      "\n",
      "       instabilidade_tecnica  instabilidade_tarefa  \n",
      "count             355.000000            354.000000  \n",
      "mean               15.135211             33.310734  \n",
      "std                 5.142465              8.955954  \n",
      "min                 4.000000              8.000000  \n",
      "25%                11.000000             27.250000  \n",
      "50%                15.000000             34.000000  \n",
      "75%                19.000000             39.750000  \n",
      "max                28.000000             49.000000  \n",
      "-------------------------------\n",
      "Feminino\n",
      "           idade  anoFormacao  existenciaProjeto  mesesNoProjeto  \\\n",
      "count  72.000000    72.000000          72.000000       72.000000   \n",
      "mean   29.305556  2016.666667          41.680556       10.694444   \n",
      "std     7.799673     4.093967         123.987258       16.198278   \n",
      "min    19.000000  2002.000000           0.000000        0.000000   \n",
      "25%    24.000000  2015.000000           5.000000        2.750000   \n",
      "50%    27.000000  2018.000000          11.500000        6.000000   \n",
      "75%    31.500000  2020.000000          25.000000       11.250000   \n",
      "max    59.000000  2022.000000        1000.000000      110.000000   \n",
      "\n",
      "       Gerenciamento_Stress  Resolucao_Problemas  Gerenciamento_Emergencia  \\\n",
      "count             72.000000            72.000000                 72.000000   \n",
      "mean              16.125000            20.763889                 16.069444   \n",
      "std                3.536281             3.690464                  3.017911   \n",
      "min                6.000000            12.000000                  7.000000   \n",
      "25%               14.000000            18.000000                 14.750000   \n",
      "50%               17.000000            21.000000                 16.500000   \n",
      "75%               19.000000            24.000000                 18.000000   \n",
      "max               21.000000            28.000000                 21.000000   \n",
      "\n",
      "       Aprendizado  Interpersoal  satisfacao  Burnout_cinismo  \\\n",
      "count    72.000000     72.000000   69.000000        69.000000   \n",
      "mean     22.888889     24.194444   15.130435        11.130435   \n",
      "std       3.350659      3.124816    4.620648         6.340609   \n",
      "min      15.000000     16.000000    3.000000         4.000000   \n",
      "25%      20.750000     22.000000   13.000000         5.000000   \n",
      "50%      23.000000     25.000000   16.000000         9.000000   \n",
      "75%      25.000000     27.000000   19.000000        15.000000   \n",
      "max      28.000000     28.000000   21.000000        27.000000   \n",
      "\n",
      "       Burnout_exaustao  Burnout_eficacia  instabilidade_equipe  \\\n",
      "count         69.000000         69.000000             69.000000   \n",
      "mean          19.043478         29.173913             16.884058   \n",
      "std            8.556791          4.588850              5.715140   \n",
      "min            5.000000         19.000000              5.000000   \n",
      "25%           12.000000         26.000000             13.000000   \n",
      "50%           18.000000         29.000000             17.000000   \n",
      "75%           26.000000         33.000000             21.000000   \n",
      "max           35.000000         36.000000             28.000000   \n",
      "\n",
      "       instabilidade_tecnica  instabilidade_tarefa  \n",
      "count              69.000000             69.000000  \n",
      "mean               17.101449             35.608696  \n",
      "std                 5.073417              8.788725  \n",
      "min                 4.000000             12.000000  \n",
      "25%                14.000000             30.000000  \n",
      "50%                17.000000             38.000000  \n",
      "75%                21.000000             42.000000  \n",
      "max                28.000000             49.000000  \n"
     ]
    }
   ],
   "metadata": {
    "collapsed": false,
    "pycharm": {
     "name": "#%%\n"
    }
   }
  },
  {
   "cell_type": "markdown",
   "source": [
    "Mulheres 72\n",
    "Homens 380"
   ],
   "metadata": {
    "collapsed": false,
    "pycharm": {
     "name": "#%% md\n"
    }
   }
  },
  {
   "cell_type": "markdown",
   "source": [
    "H0 = samples are equal.\n",
    "Fail to Reject H0: Sample distributions are equal.\n",
    "Reject H0: Sample distributions are not equal."
   ],
   "metadata": {
    "collapsed": false,
    "pycharm": {
     "name": "#%% md\n"
    }
   }
  },
  {
   "cell_type": "code",
   "execution_count": 31,
   "source": [
    "def verificacao_diferenca (string,dados1,dados2):\r\n",
    "    rho, pvalue = mannwhitneyu(dados1,dados2)\r\n",
    "    print ('Para ', string, 'os valores foram:')\r\n",
    "    print (\"Valor de rho\", rho)\r\n",
    "    print (\"Valor de pvalue\", pvalue)\r\n",
    "    if pvalue>0.05:\r\n",
    "        print('Grupos iguais falha em rejeitar a hipotese nula')\r\n",
    "    else:\r\n",
    "        print('Grupos diferentes, rejeitando hipotese nula')\r\n",
    "    print('-----------------')\r\n",
    "    #sns.boxplot(data = [dados1.dropna(),dados2.dropna()])\r\n",
    "    #sns\r\n",
    "\r\n",
    "\r\n",
    "verificacao_diferenca('satisfacao',dados_masculinos.satisfacao,dados_femininos.satisfacao)\r\n",
    "verificacao_diferenca('instabilidade_equipe',dados_masculinos.instabilidade_equipe,dados_femininos.instabilidade_equipe)\r\n",
    "verificacao_diferenca('instabilidade_tarefa', dados_masculinos.instabilidade_tarefa ,dados_femininos.instabilidade_tarefa)\r\n",
    "verificacao_diferenca('instabilidade_tecnica', dados_masculinos.instabilidade_tecnica ,dados_femininos.instabilidade_tecnica)\r\n",
    "verificacao_diferenca('Gerenciamento_Stress', dados_masculinos.Gerenciamento_Stress ,dados_femininos.Gerenciamento_Stress)\r\n",
    "verificacao_diferenca('Resolucao_Problemas', dados_masculinos.Resolucao_Problemas ,dados_femininos.Resolucao_Problemas)\r\n",
    "verificacao_diferenca('Gerenciamento_Emergencia', dados_masculinos.Gerenciamento_Emergencia ,dados_femininos.Gerenciamento_Emergencia)\r\n",
    "verificacao_diferenca('Aprendizado', dados_masculinos.Aprendizado ,dados_femininos.Aprendizado)\r\n",
    "verificacao_diferenca('Interpersoal', dados_masculinos.Interpersoal ,dados_femininos.Interpersoal)\r\n",
    "verificacao_diferenca('Burnout_cinismo', dados_masculinos.Burnout_cinismo ,dados_femininos.Burnout_cinismo)\r\n",
    "verificacao_diferenca('Burnout_exaustao', dados_masculinos.Burnout_exaustao ,dados_femininos.Burnout_exaustao)\r\n",
    "verificacao_diferenca('Burnout_eficacia', dados_masculinos.Burnout_eficacia ,dados_femininos.Burnout_eficacia)\r\n",
    "#plt.boxplot([dados_masculinos.instabilidade_equipe.dropna(),dados_femininos.instabilidade_equipe.dropna()])\r\n",
    "#plt\r\n",
    "\r\n",
    "sns.boxplot(data= [dados_masculinos.Burnout_eficacia ,dados_femininos.Burnout_eficacia])\r\n",
    "print(dados_masculinos.Burnout_eficacia.describe())\r\n",
    "print(dados_femininos.Burnout_eficacia.describe())"
   ],
   "outputs": [
    {
     "output_type": "error",
     "ename": "ValueError",
     "evalue": "`x` and `y` must not contain NaNs.",
     "traceback": [
      "\u001b[1;31m---------------------------------------------------------------------------\u001b[0m",
      "\u001b[1;31mValueError\u001b[0m                                Traceback (most recent call last)",
      "\u001b[1;32m<ipython-input-31-651b0f105039>\u001b[0m in \u001b[0;36m<module>\u001b[1;34m\u001b[0m\n\u001b[0;32m     13\u001b[0m \u001b[1;33m\u001b[0m\u001b[0m\n\u001b[0;32m     14\u001b[0m \u001b[1;33m\u001b[0m\u001b[0m\n\u001b[1;32m---> 15\u001b[1;33m \u001b[0mverificacao_diferenca\u001b[0m\u001b[1;33m(\u001b[0m\u001b[1;34m'satisfacao'\u001b[0m\u001b[1;33m,\u001b[0m\u001b[0mdados_masculinos\u001b[0m\u001b[1;33m.\u001b[0m\u001b[0msatisfacao\u001b[0m\u001b[1;33m,\u001b[0m\u001b[0mdados_femininos\u001b[0m\u001b[1;33m.\u001b[0m\u001b[0msatisfacao\u001b[0m\u001b[1;33m)\u001b[0m\u001b[1;33m\u001b[0m\u001b[1;33m\u001b[0m\u001b[0m\n\u001b[0m\u001b[0;32m     16\u001b[0m \u001b[0mverificacao_diferenca\u001b[0m\u001b[1;33m(\u001b[0m\u001b[1;34m'instabilidade_equipe'\u001b[0m\u001b[1;33m,\u001b[0m\u001b[0mdados_masculinos\u001b[0m\u001b[1;33m.\u001b[0m\u001b[0minstabilidade_equipe\u001b[0m\u001b[1;33m,\u001b[0m\u001b[0mdados_femininos\u001b[0m\u001b[1;33m.\u001b[0m\u001b[0minstabilidade_equipe\u001b[0m\u001b[1;33m)\u001b[0m\u001b[1;33m\u001b[0m\u001b[1;33m\u001b[0m\u001b[0m\n\u001b[0;32m     17\u001b[0m \u001b[0mverificacao_diferenca\u001b[0m\u001b[1;33m(\u001b[0m\u001b[1;34m'instabilidade_tarefa'\u001b[0m\u001b[1;33m,\u001b[0m \u001b[0mdados_masculinos\u001b[0m\u001b[1;33m.\u001b[0m\u001b[0minstabilidade_tarefa\u001b[0m \u001b[1;33m,\u001b[0m\u001b[0mdados_femininos\u001b[0m\u001b[1;33m.\u001b[0m\u001b[0minstabilidade_tarefa\u001b[0m\u001b[1;33m)\u001b[0m\u001b[1;33m\u001b[0m\u001b[1;33m\u001b[0m\u001b[0m\n",
      "\u001b[1;32m<ipython-input-31-651b0f105039>\u001b[0m in \u001b[0;36mverificacao_diferenca\u001b[1;34m(string, dados1, dados2)\u001b[0m\n\u001b[0;32m      1\u001b[0m \u001b[1;32mdef\u001b[0m \u001b[0mverificacao_diferenca\u001b[0m \u001b[1;33m(\u001b[0m\u001b[0mstring\u001b[0m\u001b[1;33m,\u001b[0m\u001b[0mdados1\u001b[0m\u001b[1;33m,\u001b[0m\u001b[0mdados2\u001b[0m\u001b[1;33m)\u001b[0m\u001b[1;33m:\u001b[0m\u001b[1;33m\u001b[0m\u001b[1;33m\u001b[0m\u001b[0m\n\u001b[1;32m----> 2\u001b[1;33m     \u001b[0mrho\u001b[0m\u001b[1;33m,\u001b[0m \u001b[0mpvalue\u001b[0m \u001b[1;33m=\u001b[0m \u001b[0mmannwhitneyu\u001b[0m\u001b[1;33m(\u001b[0m\u001b[0mdados1\u001b[0m\u001b[1;33m,\u001b[0m\u001b[0mdados2\u001b[0m\u001b[1;33m)\u001b[0m\u001b[1;33m\u001b[0m\u001b[1;33m\u001b[0m\u001b[0m\n\u001b[0m\u001b[0;32m      3\u001b[0m     \u001b[0mprint\u001b[0m \u001b[1;33m(\u001b[0m\u001b[1;34m'Para '\u001b[0m\u001b[1;33m,\u001b[0m \u001b[0mstring\u001b[0m\u001b[1;33m,\u001b[0m \u001b[1;34m'os valores foram:'\u001b[0m\u001b[1;33m)\u001b[0m\u001b[1;33m\u001b[0m\u001b[1;33m\u001b[0m\u001b[0m\n\u001b[0;32m      4\u001b[0m     \u001b[0mprint\u001b[0m \u001b[1;33m(\u001b[0m\u001b[1;34m\"Valor de rho\"\u001b[0m\u001b[1;33m,\u001b[0m \u001b[0mrho\u001b[0m\u001b[1;33m)\u001b[0m\u001b[1;33m\u001b[0m\u001b[1;33m\u001b[0m\u001b[0m\n\u001b[0;32m      5\u001b[0m     \u001b[0mprint\u001b[0m \u001b[1;33m(\u001b[0m\u001b[1;34m\"Valor de pvalue\"\u001b[0m\u001b[1;33m,\u001b[0m \u001b[0mpvalue\u001b[0m\u001b[1;33m)\u001b[0m\u001b[1;33m\u001b[0m\u001b[1;33m\u001b[0m\u001b[0m\n",
      "\u001b[1;32m~\\anaconda3\\lib\\site-packages\\scipy\\stats\\_mannwhitneyu.py\u001b[0m in \u001b[0;36mmannwhitneyu\u001b[1;34m(x, y, use_continuity, alternative, axis, method)\u001b[0m\n\u001b[0;32m    389\u001b[0m \u001b[1;33m\u001b[0m\u001b[0m\n\u001b[0;32m    390\u001b[0m     x, y, use_continuity, alternative, axis_int, method = (\n\u001b[1;32m--> 391\u001b[1;33m         _mwu_input_validation(x, y, use_continuity, alternative, axis, method))\n\u001b[0m\u001b[0;32m    392\u001b[0m \u001b[1;33m\u001b[0m\u001b[0m\n\u001b[0;32m    393\u001b[0m     \u001b[0mx\u001b[0m\u001b[1;33m,\u001b[0m \u001b[0my\u001b[0m\u001b[1;33m,\u001b[0m \u001b[0mxy\u001b[0m \u001b[1;33m=\u001b[0m \u001b[0m_broadcast_concatenate\u001b[0m\u001b[1;33m(\u001b[0m\u001b[0mx\u001b[0m\u001b[1;33m,\u001b[0m \u001b[0my\u001b[0m\u001b[1;33m,\u001b[0m \u001b[0maxis\u001b[0m\u001b[1;33m)\u001b[0m\u001b[1;33m\u001b[0m\u001b[1;33m\u001b[0m\u001b[0m\n",
      "\u001b[1;32m~\\anaconda3\\lib\\site-packages\\scipy\\stats\\_mannwhitneyu.py\u001b[0m in \u001b[0;36m_mwu_input_validation\u001b[1;34m(x, y, use_continuity, alternative, axis, method)\u001b[0m\n\u001b[0;32m    131\u001b[0m     \u001b[0mx\u001b[0m\u001b[1;33m,\u001b[0m \u001b[0my\u001b[0m \u001b[1;33m=\u001b[0m \u001b[0mnp\u001b[0m\u001b[1;33m.\u001b[0m\u001b[0matleast_1d\u001b[0m\u001b[1;33m(\u001b[0m\u001b[0mx\u001b[0m\u001b[1;33m)\u001b[0m\u001b[1;33m,\u001b[0m \u001b[0mnp\u001b[0m\u001b[1;33m.\u001b[0m\u001b[0matleast_1d\u001b[0m\u001b[1;33m(\u001b[0m\u001b[0my\u001b[0m\u001b[1;33m)\u001b[0m\u001b[1;33m\u001b[0m\u001b[1;33m\u001b[0m\u001b[0m\n\u001b[0;32m    132\u001b[0m     \u001b[1;32mif\u001b[0m \u001b[0mnp\u001b[0m\u001b[1;33m.\u001b[0m\u001b[0misnan\u001b[0m\u001b[1;33m(\u001b[0m\u001b[0mx\u001b[0m\u001b[1;33m)\u001b[0m\u001b[1;33m.\u001b[0m\u001b[0many\u001b[0m\u001b[1;33m(\u001b[0m\u001b[1;33m)\u001b[0m \u001b[1;32mor\u001b[0m \u001b[0mnp\u001b[0m\u001b[1;33m.\u001b[0m\u001b[0misnan\u001b[0m\u001b[1;33m(\u001b[0m\u001b[0my\u001b[0m\u001b[1;33m)\u001b[0m\u001b[1;33m.\u001b[0m\u001b[0many\u001b[0m\u001b[1;33m(\u001b[0m\u001b[1;33m)\u001b[0m\u001b[1;33m:\u001b[0m\u001b[1;33m\u001b[0m\u001b[1;33m\u001b[0m\u001b[0m\n\u001b[1;32m--> 133\u001b[1;33m         \u001b[1;32mraise\u001b[0m \u001b[0mValueError\u001b[0m\u001b[1;33m(\u001b[0m\u001b[1;34m'`x` and `y` must not contain NaNs.'\u001b[0m\u001b[1;33m)\u001b[0m\u001b[1;33m\u001b[0m\u001b[1;33m\u001b[0m\u001b[0m\n\u001b[0m\u001b[0;32m    134\u001b[0m     \u001b[1;32mif\u001b[0m \u001b[0mnp\u001b[0m\u001b[1;33m.\u001b[0m\u001b[0msize\u001b[0m\u001b[1;33m(\u001b[0m\u001b[0mx\u001b[0m\u001b[1;33m)\u001b[0m \u001b[1;33m==\u001b[0m \u001b[1;36m0\u001b[0m \u001b[1;32mor\u001b[0m \u001b[0mnp\u001b[0m\u001b[1;33m.\u001b[0m\u001b[0msize\u001b[0m\u001b[1;33m(\u001b[0m\u001b[0my\u001b[0m\u001b[1;33m)\u001b[0m \u001b[1;33m==\u001b[0m \u001b[1;36m0\u001b[0m\u001b[1;33m:\u001b[0m\u001b[1;33m\u001b[0m\u001b[1;33m\u001b[0m\u001b[0m\n\u001b[0;32m    135\u001b[0m         \u001b[1;32mraise\u001b[0m \u001b[0mValueError\u001b[0m\u001b[1;33m(\u001b[0m\u001b[1;34m'`x` and `y` must be of nonzero size.'\u001b[0m\u001b[1;33m)\u001b[0m\u001b[1;33m\u001b[0m\u001b[1;33m\u001b[0m\u001b[0m\n",
      "\u001b[1;31mValueError\u001b[0m: `x` and `y` must not contain NaNs."
     ]
    }
   ],
   "metadata": {
    "collapsed": false,
    "pycharm": {
     "name": "#%%\n"
    }
   }
  },
  {
   "cell_type": "code",
   "execution_count": null,
   "source": [
    "sns.boxplot(data= [dados_masculinos.satisfacao ,dados_femininos.satisfacao])\r\n",
    "print(dados_masculinos.satisfacao.describe())\r\n",
    "print(dados_femininos.satisfacao.describe())"
   ],
   "outputs": [
    {
     "output_type": "stream",
     "name": "stdout",
     "text": [
      "count    344.000000\n",
      "mean      16.098837\n",
      "std        4.194485\n",
      "min        3.000000\n",
      "25%       13.750000\n",
      "50%       17.000000\n",
      "75%       19.000000\n",
      "max       21.000000\n",
      "Name: satisfacao, dtype: float64\n",
      "count    69.000000\n",
      "mean     15.130435\n",
      "std       4.620648\n",
      "min       3.000000\n",
      "25%      13.000000\n",
      "50%      16.000000\n",
      "75%      19.000000\n",
      "max      21.000000\n",
      "Name: satisfacao, dtype: float64\n"
     ]
    },
    {
     "output_type": "display_data",
     "data": {
      "image/png": "[encoded data removed]",
      "text/plain": [
       "<Figure size 432x288 with 1 Axes>"
      ]
     },
     "metadata": {
      "needs_background": "light"
     }
    }
   ],
   "metadata": {
    "collapsed": false,
    "pycharm": {
     "name": "#%%\n"
    }
   }
  },
  {
   "cell_type": "code",
   "execution_count": null,
   "source": [
    "dados.idade.describe()\r\n",
    "sns.boxplot(data= [dados_masculinos.Resolucao_Problemas ,dados_femininos.Resolucao_Problemas])\r\n",
    "print(dados_masculinos.Resolucao_Problemas.describe())\r\n",
    "print(dados_femininos.Resolucao_Problemas.describe())\r\n",
    "rho, p = shapiro(dados_masculinos.Resolucao_Problemas)\r\n",
    "\r\n",
    "print (p)\r\n",
    "rho, p = shapiro(dados_femininos.Resolucao_Problemas)\r\n",
    "print (p)\r\n",
    "\r\n",
    "rho, p = ttest_ind(dados_masculinos.Resolucao_Problemas, dados_femininos.Resolucao_Problemas)\r\n",
    "print (p)\r\n",
    "\r\n"
   ],
   "outputs": [
    {
     "output_type": "stream",
     "name": "stdout",
     "text": [
      "count    380.000000\n",
      "mean      22.463158\n",
      "std        3.693567\n",
      "min        7.000000\n",
      "25%       20.000000\n",
      "50%       23.000000\n",
      "75%       25.000000\n",
      "max       28.000000\n",
      "Name: Resolucao_Problemas, dtype: float64\n",
      "count    72.000000\n",
      "mean     20.763889\n",
      "std       3.690464\n",
      "min      12.000000\n",
      "25%      18.000000\n",
      "50%      21.000000\n",
      "75%      24.000000\n",
      "max      28.000000\n",
      "Name: Resolucao_Problemas, dtype: float64\n",
      "3.6868513797472247e-10\n",
      "0.11451186239719391\n",
      "0.0003812116991043839\n"
     ]
    },
    {
     "output_type": "display_data",
     "data": {
      "image/png": "[encoded data removed]",
      "text/plain": [
       "<Figure size 432x288 with 1 Axes>"
      ]
     },
     "metadata": {
      "needs_background": "light"
     }
    }
   ],
   "metadata": {
    "collapsed": false,
    "pycharm": {
     "name": "#%%\n"
    }
   }
  },
  {
   "cell_type": "code",
   "execution_count": null,
   "source": [
    "sns.boxplot(data= [dados_masculinos.Interpersoal ,dados_femininos.Interpersoal])\r\n",
    "print(dados_masculinos.Interpersoal.describe())\r\n",
    "print(dados_femininos.Interpersoal.describe())"
   ],
   "outputs": [
    {
     "output_type": "stream",
     "name": "stdout",
     "text": [
      "count    380.000000\n",
      "mean      24.878947\n",
      "std        2.729895\n",
      "min       13.000000\n",
      "25%       23.000000\n",
      "50%       25.000000\n",
      "75%       27.000000\n",
      "max       28.000000\n",
      "Name: Interpersoal, dtype: float64\n",
      "count    72.000000\n",
      "mean     24.194444\n",
      "std       3.124816\n",
      "min      16.000000\n",
      "25%      22.000000\n",
      "50%      25.000000\n",
      "75%      27.000000\n",
      "max      28.000000\n",
      "Name: Interpersoal, dtype: float64\n"
     ]
    },
    {
     "output_type": "display_data",
     "data": {
      "image/png": "[encoded data removed]",
      "text/plain": [
       "<Figure size 432x288 with 1 Axes>"
      ]
     },
     "metadata": {
      "needs_background": "light"
     }
    }
   ],
   "metadata": {
    "collapsed": false,
    "pycharm": {
     "name": "#%%\n"
    }
   }
  },
  {
   "cell_type": "code",
   "execution_count": null,
   "source": [
    "import sys\r\n",
    "# insert at 1, 0 is the script path (or '' in REPL)\r\n",
    "sys.path.insert(1, '/home/danilo/Documentos/GitHub/zup-pesquisa-dados/danilo/zupedu/zupstatistic')\r\n",
    "from zupstatistic import zupstats\r\n",
    "\r\n",
    "teste = zupstats.bootstrap(dados_masculinos.Resolucao_Problemas)\r\n",
    "\r\n",
    "\r\n",
    "z = plt.hist(teste)\r\n",
    "z\r\n"
   ],
   "outputs": [
    {
     "output_type": "execute_result",
     "data": {
      "text/plain": [
       "(array([4.000e+00, 5.100e+01, 3.710e+02, 1.565e+03, 2.901e+03, 3.014e+03,\n",
       "        1.623e+03, 4.180e+02, 5.000e+01, 3.000e+00]),\n",
       " array([21.65789474, 21.81789474, 21.97789474, 22.13789474, 22.29789474,\n",
       "        22.45789474, 22.61789474, 22.77789474, 22.93789474, 23.09789474,\n",
       "        23.25789474]),\n",
       " <BarContainer object of 10 artists>)"
      ]
     },
     "metadata": {},
     "execution_count": 20
    },
    {
     "output_type": "display_data",
     "data": {
      "image/png": "[encoded data removed]",
      "text/plain": [
       "<Figure size 432x288 with 1 Axes>"
      ]
     },
     "metadata": {
      "needs_background": "light"
     }
    }
   ],
   "metadata": {
    "collapsed": false,
    "pycharm": {
     "name": "#%%\n"
    }
   }
  },
  {
   "cell_type": "code",
   "execution_count": null,
   "source": [
    "x = plt.hist(dados_masculinos.Resolucao_Problemas)\r\n",
    "x\r\n",
    "plt.hist(dados_femininos.Resolucao_Problemas)"
   ],
   "outputs": [
    {
     "output_type": "execute_result",
     "data": {
      "text/plain": [
       "(array([ 2.,  4.,  6.,  9.,  4., 15., 13.,  9.,  8.,  2.]),\n",
       " array([12. , 13.6, 15.2, 16.8, 18.4, 20. , 21.6, 23.2, 24.8, 26.4, 28. ]),\n",
       " <BarContainer object of 10 artists>)"
      ]
     },
     "metadata": {},
     "execution_count": 12
    },
    {
     "output_type": "display_data",
     "data": {
      "image/png": "[encoded data removed]",
      "text/plain": [
       "<Figure size 432x288 with 1 Axes>"
      ]
     },
     "metadata": {
      "needs_background": "light"
     }
    }
   ],
   "metadata": {
    "collapsed": false,
    "pycharm": {
     "name": "#%%\n"
    }
   }
  },
  {
   "cell_type": "code",
   "execution_count": null,
   "source": [
    "sns.distplot(dados_masculinos.satisfacao)"
   ],
   "outputs": [
    {
     "output_type": "error",
     "ename": "ValueError",
     "evalue": "cannot convert float NaN to integer",
     "traceback": [
      "\u001b[0;31m---------------------------------------------------------------------------\u001b[0m",
      "\u001b[0;31mValueError\u001b[0m                                Traceback (most recent call last)",
      "\u001b[0;32m<ipython-input-13-1fb980b4ef33>\u001b[0m in \u001b[0;36m<module>\u001b[0;34m\u001b[0m\n\u001b[0;32m----> 1\u001b[0;31m \u001b[0msns\u001b[0m\u001b[0;34m.\u001b[0m\u001b[0mdistplot\u001b[0m\u001b[0;34m(\u001b[0m\u001b[0mdados_masculinos\u001b[0m\u001b[0;34m.\u001b[0m\u001b[0msatisfacao\u001b[0m\u001b[0;34m)\u001b[0m\u001b[0;34m\u001b[0m\u001b[0;34m\u001b[0m\u001b[0m\n\u001b[0m",
      "\u001b[0;32m~/anaconda3/lib/python3.8/site-packages/seaborn/distributions.py\u001b[0m in \u001b[0;36mdistplot\u001b[0;34m(a, bins, hist, kde, rug, fit, hist_kws, kde_kws, rug_kws, fit_kws, color, vertical, norm_hist, axlabel, label, ax)\u001b[0m\n\u001b[1;32m    213\u001b[0m     \u001b[0;32mif\u001b[0m \u001b[0mhist\u001b[0m\u001b[0;34m:\u001b[0m\u001b[0;34m\u001b[0m\u001b[0;34m\u001b[0m\u001b[0m\n\u001b[1;32m    214\u001b[0m         \u001b[0;32mif\u001b[0m \u001b[0mbins\u001b[0m \u001b[0;32mis\u001b[0m \u001b[0;32mNone\u001b[0m\u001b[0;34m:\u001b[0m\u001b[0;34m\u001b[0m\u001b[0;34m\u001b[0m\u001b[0m\n\u001b[0;32m--> 215\u001b[0;31m             \u001b[0mbins\u001b[0m \u001b[0;34m=\u001b[0m \u001b[0mmin\u001b[0m\u001b[0;34m(\u001b[0m\u001b[0m_freedman_diaconis_bins\u001b[0m\u001b[0;34m(\u001b[0m\u001b[0ma\u001b[0m\u001b[0;34m)\u001b[0m\u001b[0;34m,\u001b[0m \u001b[0;36m50\u001b[0m\u001b[0;34m)\u001b[0m\u001b[0;34m\u001b[0m\u001b[0;34m\u001b[0m\u001b[0m\n\u001b[0m\u001b[1;32m    216\u001b[0m         \u001b[0mhist_kws\u001b[0m\u001b[0;34m.\u001b[0m\u001b[0msetdefault\u001b[0m\u001b[0;34m(\u001b[0m\u001b[0;34m\"alpha\"\u001b[0m\u001b[0;34m,\u001b[0m \u001b[0;36m0.4\u001b[0m\u001b[0;34m)\u001b[0m\u001b[0;34m\u001b[0m\u001b[0;34m\u001b[0m\u001b[0m\n\u001b[1;32m    217\u001b[0m         \u001b[0;32mif\u001b[0m \u001b[0mLooseVersion\u001b[0m\u001b[0;34m(\u001b[0m\u001b[0mmpl\u001b[0m\u001b[0;34m.\u001b[0m\u001b[0m__version__\u001b[0m\u001b[0;34m)\u001b[0m \u001b[0;34m<\u001b[0m \u001b[0mLooseVersion\u001b[0m\u001b[0;34m(\u001b[0m\u001b[0;34m\"2.2\"\u001b[0m\u001b[0;34m)\u001b[0m\u001b[0;34m:\u001b[0m\u001b[0;34m\u001b[0m\u001b[0;34m\u001b[0m\u001b[0m\n",
      "\u001b[0;32m~/anaconda3/lib/python3.8/site-packages/seaborn/distributions.py\u001b[0m in \u001b[0;36m_freedman_diaconis_bins\u001b[0;34m(a)\u001b[0m\n\u001b[1;32m     37\u001b[0m         \u001b[0;32mreturn\u001b[0m \u001b[0mint\u001b[0m\u001b[0;34m(\u001b[0m\u001b[0mnp\u001b[0m\u001b[0;34m.\u001b[0m\u001b[0msqrt\u001b[0m\u001b[0;34m(\u001b[0m\u001b[0ma\u001b[0m\u001b[0;34m.\u001b[0m\u001b[0msize\u001b[0m\u001b[0;34m)\u001b[0m\u001b[0;34m)\u001b[0m\u001b[0;34m\u001b[0m\u001b[0;34m\u001b[0m\u001b[0m\n\u001b[1;32m     38\u001b[0m     \u001b[0;32melse\u001b[0m\u001b[0;34m:\u001b[0m\u001b[0;34m\u001b[0m\u001b[0;34m\u001b[0m\u001b[0m\n\u001b[0;32m---> 39\u001b[0;31m         \u001b[0;32mreturn\u001b[0m \u001b[0mint\u001b[0m\u001b[0;34m(\u001b[0m\u001b[0mnp\u001b[0m\u001b[0;34m.\u001b[0m\u001b[0mceil\u001b[0m\u001b[0;34m(\u001b[0m\u001b[0;34m(\u001b[0m\u001b[0ma\u001b[0m\u001b[0;34m.\u001b[0m\u001b[0mmax\u001b[0m\u001b[0;34m(\u001b[0m\u001b[0;34m)\u001b[0m \u001b[0;34m-\u001b[0m \u001b[0ma\u001b[0m\u001b[0;34m.\u001b[0m\u001b[0mmin\u001b[0m\u001b[0;34m(\u001b[0m\u001b[0;34m)\u001b[0m\u001b[0;34m)\u001b[0m \u001b[0;34m/\u001b[0m \u001b[0mh\u001b[0m\u001b[0;34m)\u001b[0m\u001b[0;34m)\u001b[0m\u001b[0;34m\u001b[0m\u001b[0;34m\u001b[0m\u001b[0m\n\u001b[0m\u001b[1;32m     40\u001b[0m \u001b[0;34m\u001b[0m\u001b[0m\n\u001b[1;32m     41\u001b[0m \u001b[0;34m\u001b[0m\u001b[0m\n",
      "\u001b[0;31mValueError\u001b[0m: cannot convert float NaN to integer"
     ]
    },
    {
     "output_type": "display_data",
     "data": {
      "image/png": "[encoded data removed]",
      "text/plain": [
       "<Figure size 432x288 with 1 Axes>"
      ]
     },
     "metadata": {
      "needs_background": "light"
     }
    }
   ],
   "metadata": {
    "collapsed": false,
    "pycharm": {
     "name": "#%%\n"
    }
   }
  },
  {
   "cell_type": "code",
   "execution_count": null,
   "source": [
    "sns.distplot(dados_femininos.satisfacao)"
   ],
   "outputs": [],
   "metadata": {
    "collapsed": false,
    "pycharm": {
     "name": "#%%\n"
    }
   }
  },
  {
   "cell_type": "code",
   "execution_count": null,
   "source": [
    "x = plt.hist(dados_masculinos.Resolucao_Problemas)"
   ],
   "outputs": [],
   "metadata": {
    "collapsed": false,
    "pycharm": {
     "name": "#%%\n"
    }
   }
  },
  {
   "cell_type": "code",
   "execution_count": null,
   "source": [
    "import numpy as np\r\n",
    "\r\n",
    "teste = np.random.choice(dados_masculinos.Resolucao_Problemas, size=100)\r\n",
    "\r\n",
    "x = plt.hist(teste)"
   ],
   "outputs": [],
   "metadata": {
    "collapsed": false,
    "pycharm": {
     "name": "#%%\n"
    }
   }
  },
  {
   "cell_type": "code",
   "execution_count": null,
   "source": [],
   "outputs": [],
   "metadata": {
    "collapsed": false,
    "pycharm": {
     "name": "#%%\n"
    }
   }
  },
  {
   "cell_type": "code",
   "execution_count": 5,
   "source": [
    "import pingouin as pg\r\n",
    "pg.compute_effsize(dados_masculinos.Resolucao_Problemas, dados_femininos.Resolucao_Problemas, eftype='CLES', paired= False)"
   ],
   "outputs": [
    {
     "output_type": "execute_result",
     "data": {
      "text/plain": [
       "0.6366228070175438"
      ]
     },
     "metadata": {},
     "execution_count": 5
    }
   ],
   "metadata": {
    "collapsed": false,
    "pycharm": {
     "name": "#%%\n"
    }
   }
  },
  {
   "cell_type": "code",
   "execution_count": null,
   "source": [
    "import sys\r\n",
    "sys.path.append('/home/danilo/Documentos/GitHub/zup-pesquisa-dados/danilo')\r\n",
    "import ZupEduStats.zupedustats as zup\r\n",
    "zup.verifica_df_dependente(dados_masculinos.Resolucao_Problemas, dados_femininos.Resolucao_Problemas)\r\n"
   ],
   "outputs": [
    {
     "output_type": "stream",
     "name": "stdout",
     "text": [
      "Teste na primeira váriavel:\n",
      "Distribuição não normal 3.6868513797472247e-10\n",
      "Teste na segunda váriavel:\n",
      "Distribuição normal 0.11451186239719391\n",
      "Aplicando Mannwthiteyu...\n",
      "9942.0\n",
      "0.00011155819820588666\n",
      "Os grupos são diferentes\n"
     ]
    }
   ],
   "metadata": {
    "collapsed": false,
    "pycharm": {
     "name": "#%%\n"
    }
   }
  },
  {
   "cell_type": "code",
   "execution_count": null,
   "source": [
    "pip install pingouin --user"
   ],
   "outputs": [
    {
     "output_type": "stream",
     "name": "stdout",
     "text": [
      "Processing c:\\users\\danilo.ribeiro\\appdata\\local\\pip\\cache\\wheels\\ec\\70\\de\\1e3c7a601836488b2cf43111bbf06c569e2a0b8d01b7d727a1\\pingouin-0.4.0-py3-none-any.whl\n",
      "Requirement already satisfied: pandas>=1.0 in c:\\users\\danilo.ribeiro\\anaconda3\\lib\\site-packages (from pingouin) (1.1.3)\n",
      "Collecting tabulate\n",
      "  Using cached tabulate-0.8.9-py3-none-any.whl (25 kB)\n",
      "Requirement already satisfied: statsmodels>=0.12.0 in c:\\users\\danilo.ribeiro\\anaconda3\\lib\\site-packages (from pingouin) (0.12.0)\n",
      "Requirement already satisfied: numpy>=1.19 in c:\\users\\danilo.ribeiro\\anaconda3\\lib\\site-packages (from pingouin) (1.19.2)\n",
      "Collecting pandas-flavor>=0.2.0\n",
      "  Using cached pandas_flavor-0.2.0-py2.py3-none-any.whl (6.6 kB)\n",
      "Requirement already satisfied: scipy>=1.7 in c:\\users\\danilo.ribeiro\\anaconda3\\lib\\site-packages (from pingouin) (1.7.1)\n",
      "Requirement already satisfied: scikit-learn in c:\\users\\danilo.ribeiro\\anaconda3\\lib\\site-packages (from pingouin) (0.23.2)\n",
      "Requirement already satisfied: matplotlib>=3.0.2 in c:\\users\\danilo.ribeiro\\anaconda3\\lib\\site-packages (from pingouin) (3.3.2)\n",
      "Requirement already satisfied: seaborn>=0.9.0 in c:\\users\\danilo.ribeiro\\anaconda3\\lib\\site-packages (from pingouin) (0.11.0)\n",
      "Collecting outdated\n",
      "  Using cached outdated-0.2.1-py3-none-any.whl (7.5 kB)\n",
      "Requirement already satisfied: python-dateutil>=2.7.3 in c:\\users\\danilo.ribeiro\\anaconda3\\lib\\site-packages (from pandas>=1.0->pingouin) (2.8.1)\n",
      "Requirement already satisfied: pytz>=2017.2 in c:\\users\\danilo.ribeiro\\anaconda3\\lib\\site-packages (from pandas>=1.0->pingouin) (2020.1)\n",
      "Requirement already satisfied: patsy>=0.5 in c:\\users\\danilo.ribeiro\\anaconda3\\lib\\site-packages (from statsmodels>=0.12.0->pingouin) (0.5.1)\n",
      "Collecting xarray\n",
      "  Using cached xarray-0.19.0-py3-none-any.whl (827 kB)\n",
      "Requirement already satisfied: threadpoolctl>=2.0.0 in c:\\users\\danilo.ribeiro\\anaconda3\\lib\\site-packages (from scikit-learn->pingouin) (2.1.0)\n",
      "Requirement already satisfied: joblib>=0.11 in c:\\users\\danilo.ribeiro\\anaconda3\\lib\\site-packages (from scikit-learn->pingouin) (0.17.0)\n",
      "Requirement already satisfied: pyparsing!=2.0.4,!=2.1.2,!=2.1.6,>=2.0.3 in c:\\users\\danilo.ribeiro\\anaconda3\\lib\\site-packages (from matplotlib>=3.0.2->pingouin) (2.4.7)\n",
      "Requirement already satisfied: pillow>=6.2.0 in c:\\users\\danilo.ribeiro\\anaconda3\\lib\\site-packages (from matplotlib>=3.0.2->pingouin) (8.0.1)\n",
      "Requirement already satisfied: certifi>=2020.06.20 in c:\\users\\danilo.ribeiro\\anaconda3\\lib\\site-packages (from matplotlib>=3.0.2->pingouin) (2020.6.20)\n",
      "Requirement already satisfied: kiwisolver>=1.0.1 in c:\\users\\danilo.ribeiro\\anaconda3\\lib\\site-packages (from matplotlib>=3.0.2->pingouin) (1.3.0)\n",
      "Requirement already satisfied: cycler>=0.10 in c:\\users\\danilo.ribeiro\\anaconda3\\lib\\site-packages (from matplotlib>=3.0.2->pingouin) (0.10.0)\n",
      "Processing c:\\users\\danilo.ribeiro\\appdata\\local\\pip\\cache\\wheels\\6a\\33\\c4\\0ef84d7f5568c2823e3d63a6e08988852fb9e4bc822034870a\\littleutils-0.2.2-py3-none-any.whl\n",
      "Requirement already satisfied: requests in c:\\users\\danilo.ribeiro\\anaconda3\\lib\\site-packages (from outdated->pingouin) (2.24.0)\n",
      "Requirement already satisfied: six>=1.5 in c:\\users\\danilo.ribeiro\\anaconda3\\lib\\site-packages (from python-dateutil>=2.7.3->pandas>=1.0->pingouin) (1.15.0)\n",
      "Requirement already satisfied: setuptools>=40.4 in c:\\users\\danilo.ribeiro\\anaconda3\\lib\\site-packages (from xarray->pandas-flavor>=0.2.0->pingouin) (50.3.1.post20201107)\n",
      "Requirement already satisfied: chardet<4,>=3.0.2 in c:\\users\\danilo.ribeiro\\anaconda3\\lib\\site-packages (from requests->outdated->pingouin) (3.0.4)\n",
      "Requirement already satisfied: urllib3!=1.25.0,!=1.25.1,<1.26,>=1.21.1 in c:\\users\\danilo.ribeiro\\anaconda3\\lib\\site-packages (from requests->outdated->pingouin) (1.25.11)\n",
      "Requirement already satisfied: idna<3,>=2.5 in c:\\users\\danilo.ribeiro\\anaconda3\\lib\\site-packages (from requests->outdated->pingouin) (2.10)\n",
      "Installing collected packages: tabulate, xarray, pandas-flavor, littleutils, outdated, pingouin\n",
      "Successfully installed littleutils-0.2.2 outdated-0.2.1 pandas-flavor-0.2.0 pingouin-0.4.0 tabulate-0.8.9 xarray-0.19.0\n",
      "Note: you may need to restart the kernel to use updated packages.\n"
     ]
    },
    {
     "output_type": "stream",
     "name": "stderr",
     "text": [
      "  WARNING: The script tabulate.exe is installed in 'C:\\Users\\danilo.ribeiro\\AppData\\Roaming\\Python\\Python38\\Scripts' which is not on PATH.\n",
      "  Consider adding this directory to PATH or, if you prefer to suppress this warning, use --no-warn-script-location.\n"
     ]
    }
   ],
   "metadata": {
    "collapsed": false,
    "pycharm": {
     "name": "#%%\n"
    }
   }
  },
  {
   "cell_type": "code",
   "execution_count": null,
   "source": [
    "import pingouin as pg\r\n",
    "\r\n",
    "pg.mwu(dados_masculinos.Interpersoal ,dados_femininos.Interpersoal)\r\n",
    "print (pg.mwu( dados_masculinos.satisfacao,dados_femininos.satisfacao))\r\n",
    "print ('instabilidade_equipe ') \r\n",
    "print (pg.mwu( dados_masculinos.instabilidade_equipe,dados_femininos.instabilidade_equipe))\r\n",
    "print ('instabilidade_tarefa') \r\n",
    "print (pg.mwu( dados_masculinos.instabilidade_tarefa ,dados_femininos.instabilidade_tarefa))\r\n",
    "print ('instabilidade_tecnica')\r\n",
    "print (pg.mwu( dados_masculinos.instabilidade_tecnica ,dados_femininos.instabilidade_tecnica))\r\n",
    "print ('Gerenciamento_Stress')\r\n",
    "print (pg.mwu( dados_masculinos.Gerenciamento_Stress ,dados_femininos.Gerenciamento_Stress))\r\n",
    "print ('Resolucao_Problemas')\r\n",
    "print (pg.mwu(  dados_masculinos.Resolucao_Problemas ,dados_femininos.Resolucao_Problemas))\r\n",
    "print ('Gerenciamento_Emergencia')\r\n",
    "print (pg.mwu( dados_masculinos.Gerenciamento_Emergencia ,dados_femininos.Gerenciamento_Emergencia))\r\n",
    "print ('Aprendizado') \r\n",
    "print (pg.mwu( dados_masculinos.Aprendizado ,dados_femininos.Aprendizado))\r\n",
    "print ('Interpersoal') \r\n",
    "print (pg.mwu( dados_masculinos.Interpersoal ,dados_femininos.Interpersoal))\r\n",
    "print ('Burnout_cinismo') \r\n",
    "print (pg.mwu( dados_masculinos.Burnout_cinismo ,dados_femininos.Burnout_cinismo))\r\n",
    "print ('Burnout_exaustao') \r\n",
    "print (pg.mwu( dados_masculinos.Burnout_exaustao ,dados_femininos.Burnout_exaustao))\r\n",
    "print ('Burnout_eficacia') \r\n",
    "print (pg.mwu( dados_masculinos.Burnout_eficacia ,dados_femininos.Burnout_eficacia))\r\n",
    "\r\n"
   ],
   "outputs": [
    {
     "output_type": "stream",
     "name": "stdout",
     "text": [
      "       U-val alternative     p-val       RBC      CLES\n",
      "MWU  13287.5   two-sided  0.115266 -0.119607  0.559804\n",
      "instabilidade_equipe \n",
      "       U-val alternative     p-val       RBC      CLES\n",
      "MWU  10453.5   two-sided  0.053754  0.146479  0.426761\n",
      "instabilidade_tarefa\n",
      "       U-val alternative     p-val       RBC      CLES\n",
      "MWU  10075.5   two-sided  0.021344  0.175018  0.412491\n",
      "instabilidade_tecnica\n",
      "      U-val alternative     p-val       RBC      CLES\n",
      "MWU  9463.0   two-sided  0.002752  0.227353  0.386324\n",
      "Gerenciamento_Stress\n",
      "       U-val alternative     p-val       RBC      CLES\n",
      "MWU  15486.5   two-sided  0.073707 -0.132054  0.566027\n",
      "Resolucao_Problemas\n",
      "       U-val alternative     p-val       RBC      CLES\n",
      "MWU  17418.0   two-sided  0.000223 -0.273246  0.636623\n",
      "Gerenciamento_Emergencia\n",
      "       U-val alternative     p-val      RBC     CLES\n",
      "MWU  14862.5   two-sided  0.242317 -0.08644  0.54322\n",
      "Aprendizado\n",
      "       U-val alternative     p-val       RBC      CLES\n",
      "MWU  14602.5   two-sided  0.342337 -0.070251  0.535125\n",
      "Interpersoal\n",
      "       U-val alternative     p-val       RBC      CLES\n",
      "MWU  15337.5   two-sided  0.100052 -0.121162  0.560581\n",
      "Burnout_cinismo\n",
      "       U-val alternative     p-val       RBC   CLES\n",
      "MWU  10159.0   two-sided  0.057398  0.144001  0.428\n",
      "Burnout_exaustao\n",
      "       U-val alternative     p-val       RBC      CLES\n",
      "MWU  10293.0   two-sided  0.087677  0.130181  0.434909\n",
      "Burnout_eficacia\n",
      "       U-val alternative     p-val       RBC      CLES\n",
      "MWU  13108.0   two-sided  0.169623 -0.104483  0.552241\n"
     ]
    }
   ],
   "metadata": {}
  },
  {
   "cell_type": "code",
   "execution_count": null,
   "source": [
    "\r\n",
    "from sklearn.utils import resample\r\n",
    "\r\n",
    "data = dados_femininos.satisfacao\r\n",
    "boot = resample(data, replace=True, n_samples=10)\r\n",
    "print('Bootstrap Sample: %s' % boot)\r\n",
    "\r\n",
    "plt.hist(boot)"
   ],
   "outputs": [
    {
     "output_type": "stream",
     "name": "stdout",
     "text": [
      "Bootstrap Sample: 28    18.0\n",
      "50    15.0\n",
      "54    18.0\n",
      "18    15.0\n",
      "10     8.0\n",
      "4     20.0\n",
      "54    18.0\n",
      "5     17.0\n",
      "62    19.0\n",
      "40     7.0\n",
      "Name: satisfacao, dtype: float64\n"
     ]
    },
    {
     "output_type": "execute_result",
     "data": {
      "text/plain": [
       "(array([2., 0., 0., 0., 0., 0., 2., 1., 3., 2.]),\n",
       " array([ 7. ,  8.3,  9.6, 10.9, 12.2, 13.5, 14.8, 16.1, 17.4, 18.7, 20. ]),\n",
       " <BarContainer object of 10 artists>)"
      ]
     },
     "metadata": {},
     "execution_count": 27
    },
    {
     "output_type": "display_data",
     "data": {
      "image/png": "[encoded data removed]",
      "text/plain": [
       "<Figure size 432x288 with 1 Axes>"
      ]
     },
     "metadata": {
      "needs_background": "light"
     }
    }
   ],
   "metadata": {}
  },
  {
   "cell_type": "code",
   "execution_count": null,
   "source": [
    "dados_femininos.satisfacao"
   ],
   "outputs": [
    {
     "output_type": "execute_result",
     "data": {
      "text/plain": [
       "0     21.0\n",
       "1     19.0\n",
       "2     13.0\n",
       "3     21.0\n",
       "4     20.0\n",
       "      ... \n",
       "67    13.0\n",
       "68     NaN\n",
       "69    16.0\n",
       "70    21.0\n",
       "71    19.0\n",
       "Name: satisfacao, Length: 72, dtype: float64"
      ]
     },
     "metadata": {},
     "execution_count": 16
    }
   ],
   "metadata": {}
  },
  {
   "cell_type": "code",
   "execution_count": null,
   "source": [
    "plt.hist(dados_femininos.satisfacao)"
   ],
   "outputs": [
    {
     "output_type": "execute_result",
     "data": {
      "text/plain": [
       "(array([ 3.,  0.,  3.,  6.,  3.,  6., 13.,  7., 17., 11.]),\n",
       " array([ 3. ,  4.8,  6.6,  8.4, 10.2, 12. , 13.8, 15.6, 17.4, 19.2, 21. ]),\n",
       " <BarContainer object of 10 artists>)"
      ]
     },
     "metadata": {},
     "execution_count": 13
    },
    {
     "output_type": "display_data",
     "data": {
      "image/png": "[encoded data removed]",
      "text/plain": [
       "<Figure size 432x288 with 1 Axes>"
      ]
     },
     "metadata": {
      "needs_background": "light"
     }
    }
   ],
   "metadata": {}
  },
  {
   "cell_type": "code",
   "execution_count": 37,
   "source": [
    "teste = dados_femininos.satisfacao.dropna()\r\n",
    "\r\n",
    "type(teste)\r\n",
    "teste"
   ],
   "outputs": [
    {
     "output_type": "execute_result",
     "data": {
      "text/plain": [
       "0     21.0\n",
       "1     19.0\n",
       "2     13.0\n",
       "3     21.0\n",
       "4     20.0\n",
       "      ... \n",
       "66    18.0\n",
       "67    13.0\n",
       "69    16.0\n",
       "70    21.0\n",
       "71    19.0\n",
       "Name: satisfacao, Length: 69, dtype: float64"
      ]
     },
     "metadata": {},
     "execution_count": 37
    }
   ],
   "metadata": {}
  },
  {
   "cell_type": "code",
   "execution_count": 6,
   "source": [
    "import numpy as np\r\n",
    "sample_mean_f = []\r\n",
    "for _ in range(1000):  #so B=10000\r\n",
    "    sample_n = np.random.choice(dados_femininos.satisfacao.dropna(), size=100)\r\n",
    "    sample_mean_f.append(sample_n.mean())"
   ],
   "outputs": [],
   "metadata": {}
  },
  {
   "cell_type": "code",
   "execution_count": 7,
   "source": [
    "sample_mean_m = []\r\n",
    "for _ in range(1000):  #so B=10000\r\n",
    "    sample_n = np.random.choice(dados_masculinos.satisfacao.dropna(), size=100)\r\n",
    "    sample_mean_m.append(sample_n.mean())"
   ],
   "outputs": [],
   "metadata": {}
  },
  {
   "cell_type": "code",
   "execution_count": 8,
   "source": [
    "plt.hist(sample_mean_m)"
   ],
   "outputs": [
    {
     "output_type": "execute_result",
     "data": {
      "text/plain": [
       "(array([  8.,  14.,  55., 135., 224., 250., 170., 100.,  34.,  10.]),\n",
       " array([14.76 , 15.015, 15.27 , 15.525, 15.78 , 16.035, 16.29 , 16.545,\n",
       "        16.8  , 17.055, 17.31 ]),\n",
       " <BarContainer object of 10 artists>)"
      ]
     },
     "metadata": {},
     "execution_count": 8
    },
    {
     "output_type": "display_data",
     "data": {
      "image/png": "[encoded data removed]",
      "text/plain": [
       "<Figure size 432x288 with 1 Axes>"
      ]
     },
     "metadata": {
      "needs_background": "light"
     }
    }
   ],
   "metadata": {}
  },
  {
   "cell_type": "code",
   "execution_count": 6,
   "source": [
    "import pingouin as pg\r\n",
    "#pg.mwu(sample_mean_m,sample_mean_f)\r\n",
    "pg.ttest(sample_mean_m,sample_mean_f)"
   ],
   "outputs": [
    {
     "output_type": "error",
     "ename": "NameError",
     "evalue": "name 'sample_mean_m' is not defined",
     "traceback": [
      "\u001b[1;31m---------------------------------------------------------------------------\u001b[0m",
      "\u001b[1;31mNameError\u001b[0m                                 Traceback (most recent call last)",
      "\u001b[1;32m<ipython-input-6-c218144e436d>\u001b[0m in \u001b[0;36m<module>\u001b[1;34m\u001b[0m\n\u001b[0;32m      1\u001b[0m \u001b[1;32mimport\u001b[0m \u001b[0mpingouin\u001b[0m \u001b[1;32mas\u001b[0m \u001b[0mpg\u001b[0m\u001b[1;33m\u001b[0m\u001b[1;33m\u001b[0m\u001b[0m\n\u001b[0;32m      2\u001b[0m \u001b[1;31m#pg.mwu(sample_mean_m,sample_mean_f)\u001b[0m\u001b[1;33m\u001b[0m\u001b[1;33m\u001b[0m\u001b[1;33m\u001b[0m\u001b[0m\n\u001b[1;32m----> 3\u001b[1;33m \u001b[0mpg\u001b[0m\u001b[1;33m.\u001b[0m\u001b[0mttest\u001b[0m\u001b[1;33m(\u001b[0m\u001b[0msample_mean_m\u001b[0m\u001b[1;33m,\u001b[0m\u001b[0msample_mean_f\u001b[0m\u001b[1;33m)\u001b[0m\u001b[1;33m\u001b[0m\u001b[1;33m\u001b[0m\u001b[0m\n\u001b[0m",
      "\u001b[1;31mNameError\u001b[0m: name 'sample_mean_m' is not defined"
     ]
    }
   ],
   "metadata": {}
  },
  {
   "cell_type": "code",
   "execution_count": 52,
   "source": [
    "plt.hist(sample_mean_m)\r\n",
    "plt.hist(sample_mean_f)"
   ],
   "outputs": [
    {
     "output_type": "execute_result",
     "data": {
      "text/plain": [
       "(array([  5.,  10.,  36., 100., 191., 245., 216., 126.,  58.,  13.]),\n",
       " array([13.56 , 13.844, 14.128, 14.412, 14.696, 14.98 , 15.264, 15.548,\n",
       "        15.832, 16.116, 16.4  ]),\n",
       " <BarContainer object of 10 artists>)"
      ]
     },
     "metadata": {},
     "execution_count": 52
    },
    {
     "output_type": "display_data",
     "data": {
      "image/png": "[encoded data removed]",
      "text/plain": [
       "<Figure size 432x288 with 1 Axes>"
      ]
     },
     "metadata": {
      "needs_background": "light"
     }
    }
   ],
   "metadata": {}
  },
  {
   "cell_type": "markdown",
   "source": [],
   "metadata": {}
  },
  {
   "cell_type": "markdown",
   "source": [],
   "metadata": {}
  },
  {
   "cell_type": "code",
   "execution_count": 4,
   "source": [
    "\r\n",
    "from bootstrap import Bootstrap\r\n",
    "\r\n",
    "\r\n",
    "teste = Bootstrap()\r\n",
    "teste.soma()\r\n"
   ],
   "outputs": [
    {
     "output_type": "execute_result",
     "data": {
      "text/plain": [
       "3"
      ]
     },
     "metadata": {},
     "execution_count": 4
    }
   ],
   "metadata": {}
  },
  {
   "cell_type": "code",
   "execution_count": 18,
   "source": [
    "\r\n",
    "\r\n",
    "interpessoalMasculinoBS =  teste.doBoot(dados_masculinos.Interpersoal, len(dados_masculinos.Interpersoal))\r\n",
    "\r\n",
    "interpessoalFemininoBS = teste.doBoot(dados_femininos.Interpersoal, len(dados_femininos.Interpersoal))\r\n",
    "\r\n",
    "print(pg.ttest(interpessoalMasculinoBS,interpessoalFemininoBS))\r\n",
    "\r\n",
    "\r\n",
    "\r\n",
    "plt.hist(interpessoalMasculinoBS)\r\n",
    "plt.hist(interpessoalFemininoBS)\r\n",
    "\r\n",
    "\r\n",
    "\r\n"
   ],
   "outputs": [
    {
     "output_type": "stream",
     "name": "stdout",
     "text": [
      "                T   dof alternative  p-val         CI95%   cohen-d BF10  power\n",
      "T-test  56.199011  1998   two-sided    0.0  [0.66, 0.71]  2.513296  inf    1.0\n"
     ]
    },
    {
     "output_type": "stream",
     "name": "stderr",
     "text": [
      "C:\\Users\\danilo.ribeiro\\AppData\\Roaming\\Python\\Python38\\site-packages\\pingouin\\bayesian.py:146: RuntimeWarning: divide by zero encountered in double_scalars\n",
      "  bf10 = 1 / ((1 + t**2 / df)**(-(df + 1) / 2) / integr)\n"
     ]
    },
    {
     "output_type": "execute_result",
     "data": {
      "text/plain": [
       "(array([ 13.,  37.,  83., 163., 218., 222., 150.,  85.,  22.,   7.]),\n",
       " array([23.15277778, 23.36388889, 23.575     , 23.78611111, 23.99722222,\n",
       "        24.20833333, 24.41944444, 24.63055556, 24.84166667, 25.05277778,\n",
       "        25.26388889]),\n",
       " <BarContainer object of 10 artists>)"
      ]
     },
     "metadata": {},
     "execution_count": 18
    },
    {
     "output_type": "display_data",
     "data": {
      "image/png": "[encoded data removed]",
      "text/plain": [
       "<Figure size 432x288 with 1 Axes>"
      ]
     },
     "metadata": {
      "needs_background": "light"
     }
    }
   ],
   "metadata": {}
  },
  {
   "cell_type": "code",
   "execution_count": 19,
   "source": [
    "sns.boxplot(data= [interpessoalMasculinoBS ,interpessoalFemininoBS])"
   ],
   "outputs": [
    {
     "output_type": "execute_result",
     "data": {
      "text/plain": [
       "<AxesSubplot:>"
      ]
     },
     "metadata": {},
     "execution_count": 19
    },
    {
     "output_type": "display_data",
     "data": {
      "image/png": "[encoded data removed]",
      "text/plain": [
       "<Figure size 432x288 with 1 Axes>"
      ]
     },
     "metadata": {
      "needs_background": "light"
     }
    }
   ],
   "metadata": {}
  },
  {
   "cell_type": "code",
   "execution_count": 11,
   "source": [
    "MasculinoBS =  teste.doBoot(dados_masculinos.Burnout_eficacia.dropna(), len(dados_masculinos.Burnout_eficacia))\r\n",
    "\r\n",
    "FemininoBS = teste.doBoot(dados_femininos.Burnout_eficacia.dropna(), len(dados_femininos.Burnout_eficacia))\r\n",
    "\r\n",
    "print(pg.ttest(MasculinoBS,FemininoBS))\r\n",
    "\r\n",
    "\r\n",
    "\r\n",
    "plt.hist(MasculinoBS)\r\n",
    "plt.hist(FemininoBS)"
   ],
   "outputs": [
    {
     "output_type": "stream",
     "name": "stdout",
     "text": [
      "                T   dof alternative          p-val         CI95%   cohen-d  \\\n",
      "T-test  43.384223  1998   two-sided  2.748574e-290  [0.77, 0.84]  1.940201   \n",
      "\n",
      "              BF10  power  \n",
      "T-test  7.694e+285    1.0  \n"
     ]
    },
    {
     "output_type": "execute_result",
     "data": {
      "text/plain": [
       "(array([ 10.,  25.,  78., 177., 249., 272., 130.,  47.,   8.,   4.]),\n",
       " array([27.43055556, 27.80277778, 28.175     , 28.54722222, 28.91944444,\n",
       "        29.29166667, 29.66388889, 30.03611111, 30.40833333, 30.78055556,\n",
       "        31.15277778]),\n",
       " <BarContainer object of 10 artists>)"
      ]
     },
     "metadata": {},
     "execution_count": 11
    },
    {
     "output_type": "display_data",
     "data": {
      "image/png": "[encoded data removed]",
      "text/plain": [
       "<Figure size 432x288 with 1 Axes>"
      ]
     },
     "metadata": {
      "needs_background": "light"
     }
    }
   ],
   "metadata": {}
  },
  {
   "cell_type": "code",
   "execution_count": 20,
   "source": [
    "sns.boxplot(data= [MasculinoBS ,FemininoBS])"
   ],
   "outputs": [
    {
     "output_type": "execute_result",
     "data": {
      "text/plain": [
       "<AxesSubplot:>"
      ]
     },
     "metadata": {},
     "execution_count": 20
    },
    {
     "output_type": "display_data",
     "data": {
      "image/png": "[encoded data removed]",
      "text/plain": [
       "<Figure size 432x288 with 1 Axes>"
      ]
     },
     "metadata": {
      "needs_background": "light"
     }
    }
   ],
   "metadata": {}
  },
  {
   "cell_type": "code",
   "execution_count": 16,
   "source": [
    "\r\n",
    "FemininoBS  =  teste.doBoot(dados_masculinos.Burnout_exaustao.dropna(), len(dados_masculinos.Burnout_exaustao))\r\n",
    "MasculinoBS = teste.doBoot(dados_femininos.Burnout_exaustao.dropna(), len(dados_femininos.Burnout_exaustao))\r\n",
    "\r\n",
    "print(pg.ttest(MasculinoBS,FemininoBS))\r\n",
    "\r\n",
    "\r\n",
    "\r\n",
    "plt.hist(MasculinoBS)\r\n",
    "plt.hist(FemininoBS)"
   ],
   "outputs": [
    {
     "output_type": "stream",
     "name": "stdout",
     "text": [
      "                T   dof alternative  p-val         CI95%   cohen-d BF10  power\n",
      "T-test  57.266763  1998   two-sided    0.0  [1.88, 2.01]  2.561047  inf    1.0\n"
     ]
    },
    {
     "output_type": "stream",
     "name": "stderr",
     "text": [
      "C:\\Users\\danilo.ribeiro\\AppData\\Roaming\\Python\\Python38\\site-packages\\pingouin\\bayesian.py:146: RuntimeWarning: divide by zero encountered in double_scalars\n",
      "  bf10 = 1 / ((1 + t**2 / df)**(-(df + 1) / 2) / integr)\n"
     ]
    },
    {
     "output_type": "execute_result",
     "data": {
      "text/plain": [
       "(array([  6.,  31.,  70., 149., 227., 240., 155.,  86.,  29.,   7.]),\n",
       " array([15.85      , 16.08789474, 16.32578947, 16.56368421, 16.80157895,\n",
       "        17.03947368, 17.27736842, 17.51526316, 17.75315789, 17.99105263,\n",
       "        18.22894737]),\n",
       " <BarContainer object of 10 artists>)"
      ]
     },
     "metadata": {},
     "execution_count": 16
    },
    {
     "output_type": "display_data",
     "data": {
      "image/png": "[encoded data removed]",
      "text/plain": [
       "<Figure size 432x288 with 1 Axes>"
      ]
     },
     "metadata": {
      "needs_background": "light"
     }
    }
   ],
   "metadata": {}
  },
  {
   "cell_type": "code",
   "execution_count": 22,
   "source": [
    "sns.boxplot(data= [MasculinoBS ,FemininoBS])"
   ],
   "outputs": [
    {
     "output_type": "execute_result",
     "data": {
      "text/plain": [
       "<AxesSubplot:>"
      ]
     },
     "metadata": {},
     "execution_count": 22
    },
    {
     "output_type": "display_data",
     "data": {
      "image/png": "[encoded data removed]",
      "text/plain": [
       "<Figure size 432x288 with 1 Axes>"
      ]
     },
     "metadata": {
      "needs_background": "light"
     }
    }
   ],
   "metadata": {}
  },
  {
   "cell_type": "code",
   "execution_count": 1,
   "source": [
    "pip install -U scikit-learn --user"
   ],
   "outputs": [
    {
     "output_type": "stream",
     "name": "stdout",
     "text": [
      "Collecting scikit-learn\n",
      "  Downloading scikit_learn-0.24.2-cp38-cp38-win_amd64.whl (6.9 MB)\n",
      "Requirement already satisfied, skipping upgrade: joblib>=0.11 in c:\\users\\danilo.ribeiro\\anaconda3\\lib\\site-packages (from scikit-learn) (0.17.0)\n",
      "Requirement already satisfied, skipping upgrade: threadpoolctl>=2.0.0 in c:\\users\\danilo.ribeiro\\anaconda3\\lib\\site-packages (from scikit-learn) (2.1.0)\n",
      "Requirement already satisfied, skipping upgrade: scipy>=0.19.1 in c:\\users\\danilo.ribeiro\\anaconda3\\lib\\site-packages (from scikit-learn) (1.7.1)\n",
      "Requirement already satisfied, skipping upgrade: numpy>=1.13.3 in c:\\users\\danilo.ribeiro\\anaconda3\\lib\\site-packages (from scikit-learn) (1.19.2)\n",
      "Installing collected packages: scikit-learn\n",
      "Successfully installed scikit-learn-0.24.2\n",
      "Note: you may need to restart the kernel to use updated packages.\n"
     ]
    }
   ],
   "metadata": {}
  },
  {
   "cell_type": "code",
   "execution_count": 76,
   "source": [
    "import numpy as np\r\n",
    "sample_mean_f = []\r\n",
    "for _ in range(1000):  #so B=10000\r\n",
    "    sample_n = np.random.choice(dados_masculinos.Interpersoal.dropna(), size=100)\r\n",
    "    sample_mean_f.append(sample_n.mean())\r\n",
    "\r\n",
    "sample_mean_m = []\r\n",
    "for _ in range(1000):  #so B=10000\r\n",
    "    sample_n = np.random.choice(dados_femininos.Interpersoal.dropna(), size=100)\r\n",
    "    sample_mean_m.append(sample_n.mean())\r\n",
    "\r\n",
    "print(pg.ttest(sample_mean_m,sample_mean_f))\r\n",
    "\r\n",
    "plt.hist(sample_mean_m)\r\n",
    "plt.hist(sample_mean_f)\r\n"
   ],
   "outputs": [
    {
     "output_type": "stream",
     "name": "stdout",
     "text": [
      "                T   dof alternative  p-val          CI95%   cohen-d BF10  \\\n",
      "T-test -52.111401  1998   two-sided    0.0  [-0.7, -0.65]  2.330493  inf   \n",
      "\n",
      "        power  \n",
      "T-test    1.0  \n"
     ]
    },
    {
     "output_type": "stream",
     "name": "stderr",
     "text": [
      "C:\\Users\\danilo.ribeiro\\AppData\\Roaming\\Python\\Python38\\site-packages\\pingouin\\bayesian.py:146: RuntimeWarning: divide by zero encountered in double_scalars\n",
      "  bf10 = 1 / ((1 + t**2 / df)**(-(df + 1) / 2) / integr)\n"
     ]
    },
    {
     "output_type": "execute_result",
     "data": {
      "text/plain": [
       "(array([  4.,  23.,  67., 155., 266., 272., 155.,  48.,   9.,   1.]),\n",
       " array([23.92 , 24.116, 24.312, 24.508, 24.704, 24.9  , 25.096, 25.292,\n",
       "        25.488, 25.684, 25.88 ]),\n",
       " <BarContainer object of 10 artists>)"
      ]
     },
     "metadata": {},
     "execution_count": 76
    },
    {
     "output_type": "display_data",
     "data": {
      "image/png": "[encoded data removed]",
      "text/plain": [
       "<Figure size 432x288 with 1 Axes>"
      ]
     },
     "metadata": {
      "needs_background": "light"
     }
    }
   ],
   "metadata": {}
  },
  {
   "cell_type": "code",
   "execution_count": 77,
   "source": [
    "import numpy as np\r\n",
    "sample_mean_f = []\r\n",
    "for _ in range(1000):  #so B=10000\r\n",
    "    sample_n = np.random.choice(dados_masculinos.Aprendizado.dropna(), size=100)\r\n",
    "    sample_mean_f.append(sample_n.mean())\r\n",
    "\r\n",
    "sample_mean_m = []\r\n",
    "for _ in range(1000):  #so B=10000\r\n",
    "    sample_n = np.random.choice(dados_femininos.Aprendizado.dropna(), size=100)\r\n",
    "    sample_mean_m.append(sample_n.mean())\r\n",
    "\r\n",
    "print(pg.ttest(sample_mean_m,sample_mean_f))\r\n",
    "\r\n",
    "plt.hist(sample_mean_m)\r\n",
    "plt.hist(sample_mean_f)\r\n"
   ],
   "outputs": [
    {
     "output_type": "stream",
     "name": "stdout",
     "text": [
      "               T   dof alternative          p-val          CI95%   cohen-d  \\\n",
      "T-test -23.54105  1998   two-sided  2.359177e-108  [-0.4, -0.34]  1.052788   \n",
      "\n",
      "             BF10  power  \n",
      "T-test  2.88e+104    1.0  \n"
     ]
    },
    {
     "output_type": "execute_result",
     "data": {
      "text/plain": [
       "(array([  2.,  12.,  36., 121., 235., 254., 220.,  85.,  31.,   4.]),\n",
       " array([21.89 , 22.146, 22.402, 22.658, 22.914, 23.17 , 23.426, 23.682,\n",
       "        23.938, 24.194, 24.45 ]),\n",
       " <BarContainer object of 10 artists>)"
      ]
     },
     "metadata": {},
     "execution_count": 77
    },
    {
     "output_type": "display_data",
     "data": {
      "image/png": "[encoded data removed]",
      "text/plain": [
       "<Figure size 432x288 with 1 Axes>"
      ]
     },
     "metadata": {
      "needs_background": "light"
     }
    }
   ],
   "metadata": {}
  }
 ],
 "metadata": {
  "kernelspec": {
   "name": "python3",
   "display_name": "Python 3.8.5 64-bit ('base': conda)"
  },
  "language_info": {
   "name": "python",
   "version": "3.8.5",
   "mimetype": "text/x-python",
   "codemirror_mode": {
    "name": "ipython",
    "version": 3
   },
   "pygments_lexer": "ipython3",
   "nbconvert_exporter": "python",
   "file_extension": ".py"
  },
  "interpreter": {
   "hash": "a46e9fe4ff4811eceacb5bb322456e79b6abd20f6f213b3fc9de22891b9f92d0"
  }
 },
 "nbformat": 4,
 "nbformat_minor": 2
}